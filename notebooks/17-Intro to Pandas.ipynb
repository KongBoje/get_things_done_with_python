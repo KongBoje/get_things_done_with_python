{
 "cells": [
  {
   "cell_type": "markdown",
   "metadata": {},
   "source": [
    "In case the time in your virtual machine is not 'up-to-date' install on the command line the package `ntpdate`.\n",
    "\n",
    "```bash\n",
    "sudo apt-get install -y ntpdate\n",
    "```\n",
    "\n",
    "and update the time in the virtual machine via `sudo ntpdate -u ntp.ubuntu.com`.\n",
    "\n",
    "Alterantively, follow the advise on http://stackoverflow.com/questions/19490652/how-to-sync-time-on-host-wake-up-within-virtualbox"
   ]
  },
  {
   "cell_type": "code",
   "execution_count": 673,
   "metadata": {
    "collapsed": false
   },
   "outputs": [
    {
     "name": "stdout",
     "output_type": "stream",
     "text": [
      " 8 Mar 09:05:04 ntpdate[18680]: step time server 91.189.89.198 offset 782.827785 sec\n"
     ]
    }
   ],
   "source": [
    "%%bash\n",
    "\n",
    "sudo ntpdate -u ntp.ubuntu.com"
   ]
  },
  {
   "cell_type": "markdown",
   "metadata": {},
   "source": [
    "# Datetime in Python\n",
    "\n",
    "This intro to handling *dates* and *times* in Python is based on the documentation of the standard library's `datetime` module https://docs.python.org/3.4/library/datetime.html.\n",
    "\n",
    "The datetime module supplies classes for manipulating *dates* and *times* in both simple and complex ways. While date and time arithmetic is supported, the focus of the implementation is on efficient attribute extraction for output formatting and manipulation."
   ]
  },
  {
   "cell_type": "markdown",
   "metadata": {},
   "source": [
    "## Date Objects\n",
    "\n",
    "A date object represents a date (year, month and day) in an idealized calendar, the current Gregorian calendar indefinitely extended in both directions. January 1 of year 1 is called day number 1, January 2 of year 1 is called day number 2, and so on. This matches the definition of the \"proleptic Gregorian\" calendar in Dershowitz and Reingold’s book Calendrical Calculations, where it is the base calendar for all computations. See the book for algorithms for converting between proleptic Gregorian ordinals and many other calendar systems. Alternatively, you can have a look at the paper describing what is extended in the book:\n",
    "http://www.cs.tau.ac.il/~nachumd/papers/cc-paper.pdf"
   ]
  },
  {
   "cell_type": "code",
   "execution_count": 674,
   "metadata": {
    "collapsed": false
   },
   "outputs": [
    {
     "data": {
      "text/plain": [
       "datetime.date(2017, 3, 8)"
      ]
     },
     "execution_count": 674,
     "metadata": {},
     "output_type": "execute_result"
    }
   ],
   "source": [
    "from datetime import date\n",
    "\n",
    "\n",
    "today = date.today()\n",
    "today"
   ]
  },
  {
   "cell_type": "code",
   "execution_count": 675,
   "metadata": {
    "collapsed": false
   },
   "outputs": [
    {
     "data": {
      "text/plain": [
       "datetime.date(2017, 3, 8)"
      ]
     },
     "execution_count": 675,
     "metadata": {},
     "output_type": "execute_result"
    }
   ],
   "source": [
    "today = date(today.year, 3, 8)\n",
    "today"
   ]
  },
  {
   "cell_type": "code",
   "execution_count": 680,
   "metadata": {
    "collapsed": false
   },
   "outputs": [
    {
     "data": {
      "text/plain": [
       "2"
      ]
     },
     "execution_count": 680,
     "metadata": {},
     "output_type": "execute_result"
    }
   ],
   "source": [
    "next_lecture = date(today.year, 3, 10)\n",
    "time_to_next_lecture = abs(next_lecture - today)\n",
    "time_to_next_lecture.days"
   ]
  },
  {
   "cell_type": "code",
   "execution_count": 682,
   "metadata": {
    "collapsed": false
   },
   "outputs": [
    {
     "data": {
      "text/plain": [
       "'08/03/2017'"
      ]
     },
     "execution_count": 682,
     "metadata": {},
     "output_type": "execute_result"
    }
   ],
   "source": [
    "today.strftime(\"%d/%m/%Y\")"
   ]
  },
  {
   "cell_type": "code",
   "execution_count": 683,
   "metadata": {
    "collapsed": false
   },
   "outputs": [
    {
     "data": {
      "text/plain": [
       "'Wednesday 08. March 2017'"
      ]
     },
     "execution_count": 683,
     "metadata": {},
     "output_type": "execute_result"
    }
   ],
   "source": [
    "today.strftime(\"%A %d. %B %Y\")"
   ]
  },
  {
   "cell_type": "markdown",
   "metadata": {},
   "source": [
    "## Time Objects\n",
    "\n",
    "A time object represents a (local) time of day, independent of any particular day. In our coure I will not consider times with respect to different time zones. In case you need to add information about which time zone a `time` refers, please read https://docs.python.org/3.4/library/datetime.html#tzinfo-objects."
   ]
  },
  {
   "cell_type": "code",
   "execution_count": 684,
   "metadata": {
    "collapsed": false
   },
   "outputs": [
    {
     "data": {
      "text/plain": [
       "'12:10:30'"
      ]
     },
     "execution_count": 684,
     "metadata": {},
     "output_type": "execute_result"
    }
   ],
   "source": [
    "from datetime import datetime, date, time\n",
    " \n",
    "t = time(12, 10, 30)\n",
    "t.isoformat()"
   ]
  },
  {
   "cell_type": "code",
   "execution_count": 685,
   "metadata": {
    "collapsed": false
   },
   "outputs": [
    {
     "name": "stdout",
     "output_type": "stream",
     "text": [
      "12:10:30\n",
      "The time is 12:10.\n"
     ]
    }
   ],
   "source": [
    "print(t.strftime('%H:%M:%S'))\n",
    "\n",
    "print('The {} is {:%H:%M}.'.format(\"time\", t))"
   ]
  },
  {
   "cell_type": "markdown",
   "metadata": {},
   "source": [
    "## Datetime Objects"
   ]
  },
  {
   "cell_type": "code",
   "execution_count": 686,
   "metadata": {
    "collapsed": false
   },
   "outputs": [
    {
     "data": {
      "text/plain": [
       "datetime.datetime(2017, 3, 8, 12, 30)"
      ]
     },
     "execution_count": 686,
     "metadata": {},
     "output_type": "execute_result"
    }
   ],
   "source": [
    "from datetime import datetime, date, time\n",
    "\n",
    "d = date.today()\n",
    "t = time(12, 30)\n",
    "datetime.combine(d, t)"
   ]
  },
  {
   "cell_type": "code",
   "execution_count": 688,
   "metadata": {
    "collapsed": false
   },
   "outputs": [
    {
     "data": {
      "text/plain": [
       "datetime.datetime(2017, 3, 8, 9, 14, 21, 872081)"
      ]
     },
     "execution_count": 688,
     "metadata": {},
     "output_type": "execute_result"
    }
   ],
   "source": [
    "now = datetime.now()\n",
    "now"
   ]
  },
  {
   "cell_type": "code",
   "execution_count": 689,
   "metadata": {
    "collapsed": false
   },
   "outputs": [
    {
     "data": {
      "text/plain": [
       "datetime.datetime(2017, 3, 8, 9, 14, 44, 814604)"
      ]
     },
     "execution_count": 689,
     "metadata": {},
     "output_type": "execute_result"
    }
   ],
   "source": [
    "datetime.utcnow()"
   ]
  },
  {
   "cell_type": "code",
   "execution_count": 692,
   "metadata": {
    "collapsed": false
   },
   "outputs": [
    {
     "data": {
      "text/plain": [
       "10"
      ]
     },
     "execution_count": 692,
     "metadata": {},
     "output_type": "execute_result"
    }
   ],
   "source": [
    "ic = now.isocalendar()\n",
    "week_number = ic[1]\n",
    "week_number"
   ]
  },
  {
   "cell_type": "code",
   "execution_count": 693,
   "metadata": {
    "collapsed": false
   },
   "outputs": [
    {
     "data": {
      "text/plain": [
       "'Wednesday, 08. March 2017 09:14AM'"
      ]
     },
     "execution_count": 693,
     "metadata": {},
     "output_type": "execute_result"
    }
   ],
   "source": [
    "now.strftime(\"%A, %d. %B %Y %I:%M%p\")"
   ]
  },
  {
   "cell_type": "code",
   "execution_count": null,
   "metadata": {
    "collapsed": false
   },
   "outputs": [],
   "source": [
    "'The {1} is {0:%d}, the {2} is {0:%B}, the {3} is {0:%I:%M%p}.'.format(now, \"day\", \"month\", \"time\")"
   ]
  },
  {
   "cell_type": "code",
   "execution_count": 694,
   "metadata": {
    "collapsed": false
   },
   "outputs": [
    {
     "name": "stdout",
     "output_type": "stream",
     "text": [
      "2010-06-10 00:00:00\n"
     ]
    },
    {
     "data": {
      "text/plain": [
       "'10-06-2010 week: 23'"
      ]
     },
     "execution_count": 694,
     "metadata": {},
     "output_type": "execute_result"
    }
   ],
   "source": [
    "d = datetime.strptime('10 Jun 2010', '%d %b %Y')\n",
    "print(d)\n",
    "d.strftime('%d-%m-%Y week: %U')"
   ]
  },
  {
   "cell_type": "markdown",
   "metadata": {},
   "source": [
    "## Timedeltas\n",
    "\n",
    "A `timedelta` object represents a duration, the difference between two dates or times."
   ]
  },
  {
   "cell_type": "code",
   "execution_count": 696,
   "metadata": {
    "collapsed": false
   },
   "outputs": [
    {
     "data": {
      "text/plain": [
       "(0, 0, 5)"
      ]
     },
     "execution_count": 696,
     "metadata": {},
     "output_type": "execute_result"
    }
   ],
   "source": [
    "from datetime import timedelta\n",
    "\n",
    "d = timedelta(microseconds=5)\n",
    "(d.days, d.seconds, d.microseconds)"
   ]
  },
  {
   "cell_type": "code",
   "execution_count": null,
   "metadata": {
    "collapsed": false
   },
   "outputs": [],
   "source": [
    "timedelta(hours=-5)"
   ]
  },
  {
   "cell_type": "markdown",
   "metadata": {},
   "source": [
    "### Operations with `timedelta`s"
   ]
  },
  {
   "cell_type": "code",
   "execution_count": 697,
   "metadata": {
    "collapsed": false
   },
   "outputs": [
    {
     "name": "stdout",
     "output_type": "stream",
     "text": [
      "2016-03-08 09:20:52.985342\n",
      "2018-03-08 09:20:52.985388\n",
      "The two year difference is equivalent to 730 days and 63072000.000046 seconds\n"
     ]
    }
   ],
   "source": [
    "year_as_delta = timedelta(days=365)\n",
    "another_year_delta = timedelta(weeks=40, days=84, hours=23, minutes=50, seconds=600)  # adds up to 365 days\n",
    "\n",
    "last_year = datetime.now() - year_as_delta\n",
    "next_year = datetime.now() - year_as_delta + (\n",
    "    2 *another_year_delta)\n",
    "print(last_year)\n",
    "print(next_year)\n",
    "\n",
    "two_year_delta = next_year - last_year\n",
    "print('The two year difference is equivalent to {} days and {} seconds'.format(\n",
    "    two_year_delta.days, two_year_delta.total_seconds()))\n"
   ]
  },
  {
   "cell_type": "markdown",
   "metadata": {},
   "source": [
    "## Converting Strings to Times and Vice Versa"
   ]
  },
  {
   "cell_type": "code",
   "execution_count": null,
   "metadata": {
    "collapsed": false
   },
   "outputs": [],
   "source": [
    "from datetime import datetime\n",
    "\n",
    "datetime.now().isoformat()"
   ]
  },
  {
   "cell_type": "code",
   "execution_count": null,
   "metadata": {
    "collapsed": false
   },
   "outputs": [],
   "source": [
    "dt = datetime.strptime('21/11/06 16:30', '%d/%m/%y %H:%M')\n",
    "dt"
   ]
  },
  {
   "cell_type": "code",
   "execution_count": null,
   "metadata": {
    "collapsed": false
   },
   "outputs": [],
   "source": [
    "dt.strftime('%y-%m-%d %H:%M')"
   ]
  },
  {
   "cell_type": "markdown",
   "metadata": {},
   "source": [
    "### Parsing Arbitrary Dates from Strings\n",
    "\n",
    "The `dateutil.parser` module offers a generic date/time string parser which is able to parse most known formats to represent a date and/or time.\n",
    "\n",
    "The module attempts to be forgiving with regards to unlikely input formats, returning a datetime object even for dates which are ambiguous."
   ]
  },
  {
   "cell_type": "code",
   "execution_count": 699,
   "metadata": {
    "collapsed": false
   },
   "outputs": [
    {
     "data": {
      "text/plain": [
       "datetime.datetime(2006, 11, 21, 16, 30)"
      ]
     },
     "execution_count": 699,
     "metadata": {},
     "output_type": "execute_result"
    }
   ],
   "source": [
    "import dateutil.parser\n",
    "\n",
    "dateutil.parser.parse('21/11-06 16:30')"
   ]
  },
  {
   "cell_type": "markdown",
   "metadata": {},
   "source": [
    "# Pandas for Time Series and Data Frames\n",
    "\n",
    "Pandas is -similar to NumPy- another library offering high-level data structures, which enable fast data analyzis. For us, the most important are probably the types `Series` and `DataFrame`, both of which are introduced in the following.  \n",
    "\n",
    "This tutorial is based on the intro to Pandas: http://pandas.pydata.org/pandas-docs/stable/10min.html\n"
   ]
  },
  {
   "cell_type": "code",
   "execution_count": 10,
   "metadata": {
    "collapsed": true
   },
   "outputs": [],
   "source": [
    "%matplotlib inline\n",
    "import warnings\n",
    "warnings.filterwarnings('ignore')"
   ]
  },
  {
   "cell_type": "markdown",
   "metadata": {},
   "source": [
    "As we will refer to Panda's classes and functions often in code, we usually import the module as `pd`."
   ]
  },
  {
   "cell_type": "code",
   "execution_count": 701,
   "metadata": {
    "collapsed": true
   },
   "outputs": [],
   "source": [
    "import pandas as pd\n",
    "import numpy as np\n",
    "import matplotlib.pyplot as plt"
   ]
  },
  {
   "cell_type": "markdown",
   "metadata": {},
   "source": [
    "## `Series`\n",
    "\n",
    "A `Series` is a one-dimensional labeled array capable of holding any data type (integers, strings, floating point numbers, Python objects, etc.). The axis labels are collectively referred to as the index.\n",
    "\n",
    "http://pandas.pydata.org/pandas-docs/stable/dsintro.html#series\n",
    "\n",
    "You can creating a Series by passing a list of values, letting Pandas create a default integer index."
   ]
  },
  {
   "cell_type": "code",
   "execution_count": 706,
   "metadata": {
    "collapsed": false
   },
   "outputs": [
    {
     "data": {
      "text/plain": [
       "0    1.0\n",
       "1    3.0\n",
       "2    5.0\n",
       "3    NaN\n",
       "4    6.0\n",
       "5    8.0\n",
       "dtype: float64"
      ]
     },
     "execution_count": 706,
     "metadata": {},
     "output_type": "execute_result"
    }
   ],
   "source": [
    "s = pd.Series([1, 3, 5, np.nan, 6, 8])\n",
    "s"
   ]
  },
  {
   "cell_type": "markdown",
   "metadata": {},
   "source": [
    "For the following example introducing `Series` we will collect some open data from the World Bank, see http://data.worldbank.org/?locations=DK-UY. The this dataset includes a plethora of interesting data. However, for this example we will focus on the *CO2 emissions (metric tons per capita)*.\n",
    "\n",
    "First, we have to download the data. We do this by writing the response to a request to the World Bank API into a file. As denoted in the response header, we receive a ZIP file."
   ]
  },
  {
   "cell_type": "code",
   "execution_count": 707,
   "metadata": {
    "collapsed": false
   },
   "outputs": [
    {
     "name": "stdout",
     "output_type": "stream",
     "text": [
      "{'Set-Cookie': 'TS01fa65e4=01359ee976bc8abe2a087074887cf79d179c33d5c1cc0cf43f47d78d4f182548d5e5218394; Path=/', 'Server': 'Apigee Router', 'Content-Length': '552537', 'Content-Type': 'application/zip', 'X-Powered-By': 'ASP.NET', 'Content-Disposition': 'attachment; filename=API_Download_DS2_en_csv_v2_148410.zip', 'Date': 'Wed, 08 Mar 2017 09:30:33 GMT', 'Connection': 'keep-alive'}\n",
      "Downloaded API_Download_DS2_en_csv_v2_148410.zip\n"
     ]
    }
   ],
   "source": [
    "import requests\n",
    "\n",
    "\n",
    "url = 'http://api.worldbank.org/v2/en/country/DNK;URY'\n",
    "\n",
    "response = requests.get(url, params={'downloadformat': 'csv'})\n",
    "print(response.headers)\n",
    "\n",
    "fname = response.headers['Content-Disposition'].split('=')[1]\n",
    "\n",
    "if response.ok:  # status_code == 200:\n",
    "    with open(fname, 'wb') as f:\n",
    "        f.write(response.content)   \n",
    "\n",
    "print('Downloaded {}'.format(fname))"
   ]
  },
  {
   "cell_type": "code",
   "execution_count": 708,
   "metadata": {
    "collapsed": false
   },
   "outputs": [
    {
     "name": "stdout",
     "output_type": "stream",
     "text": [
      "-rw-r--r-- 1 vagrant vagrant  836K Mar  7 14:43 Metadata_Indicator_API_Download_DS2_en_csv_v2_148410.csv\n",
      "-rw-r--r-- 1 vagrant vagrant   265 Mar  7 14:43 Metadata_Country_API_Download_DS2_en_csv_v2_148410.csv\n",
      "-rw-r--r-- 1 vagrant vagrant  1.5M Mar  7 14:43 API_Download_DS2_en_csv_v2_148410.csv\n",
      "-rw-r--r-- 1 vagrant vagrant  1.7K Mar  7 20:25 Metadata_Indicator_API_MS.MIL.XPND.CN_DS2_en_csv_v2.csv\n",
      "-rw-r--r-- 1 vagrant vagrant   50K Mar  7 20:25 Metadata_Country_API_MS.MIL.XPND.CN_DS2_en_csv_v2.csv\n",
      "-rw-r--r-- 1 vagrant vagrant  106K Mar  7 20:25 API_MS.MIL.XPND.CN_DS2_en_csv_v2.csv\n",
      "-rw-r--r-- 1 vagrant vagrant  291K Mar  8 07:29 PageRank.ipynb\n",
      "-rw-r--r-- 1 vagrant vagrant  9.1K Mar  8 07:40 Links to student projects.ipynb\n",
      "-rw-r--r-- 1 vagrant vagrant  540K Mar  8 09:30 API_Download_DS2_en_csv_v2_148410.zip\n",
      "-rw-r--r-- 1 vagrant vagrant   37K Mar  8 09:30 Intro to Pandas.ipynb\n"
     ]
    }
   ],
   "source": [
    "%%bash\n",
    "\n",
    "ls -ltrh | tail"
   ]
  },
  {
   "cell_type": "markdown",
   "metadata": {},
   "source": [
    "You can resort to the standard libraries `zipfile` module to uncompress the downloaded file."
   ]
  },
  {
   "cell_type": "code",
   "execution_count": 709,
   "metadata": {
    "collapsed": false
   },
   "outputs": [],
   "source": [
    "import zipfile\n",
    "\n",
    "\n",
    "zipfile.ZipFile(fname, 'r').extractall('.')"
   ]
  },
  {
   "cell_type": "code",
   "execution_count": 710,
   "metadata": {
    "collapsed": false
   },
   "outputs": [
    {
     "name": "stdout",
     "output_type": "stream",
     "text": [
      "-rw-r--r-- 1 vagrant vagrant  1.7K Mar  7 20:25 Metadata_Indicator_API_MS.MIL.XPND.CN_DS2_en_csv_v2.csv\n",
      "-rw-r--r-- 1 vagrant vagrant   50K Mar  7 20:25 Metadata_Country_API_MS.MIL.XPND.CN_DS2_en_csv_v2.csv\n",
      "-rw-r--r-- 1 vagrant vagrant  106K Mar  7 20:25 API_MS.MIL.XPND.CN_DS2_en_csv_v2.csv\n",
      "-rw-r--r-- 1 vagrant vagrant  291K Mar  8 07:29 PageRank.ipynb\n",
      "-rw-r--r-- 1 vagrant vagrant  9.1K Mar  8 07:40 Links to student projects.ipynb\n",
      "-rw-r--r-- 1 vagrant vagrant  540K Mar  8 09:30 API_Download_DS2_en_csv_v2_148410.zip\n",
      "-rw-r--r-- 1 vagrant vagrant   37K Mar  8 09:30 Intro to Pandas.ipynb\n",
      "-rw-r--r-- 1 vagrant vagrant  836K Mar  8 09:32 Metadata_Indicator_API_Download_DS2_en_csv_v2_148410.csv\n",
      "-rw-r--r-- 1 vagrant vagrant   265 Mar  8 09:32 Metadata_Country_API_Download_DS2_en_csv_v2_148410.csv\n",
      "-rw-r--r-- 1 vagrant vagrant  1.5M Mar  8 09:32 API_Download_DS2_en_csv_v2_148410.csv\n"
     ]
    }
   ],
   "source": [
    "%%bash\n",
    "\n",
    "ls -ltrh | tail"
   ]
  },
  {
   "cell_type": "markdown",
   "metadata": {},
   "source": [
    "Additionally, you can make use of the `glob` module to glob for certain file patterns. We will store the filename of the CSV file we are interested in, in a variable called `local_file`."
   ]
  },
  {
   "cell_type": "code",
   "execution_count": 711,
   "metadata": {
    "collapsed": false
   },
   "outputs": [],
   "source": [
    "from glob import glob\n",
    "\n",
    "local_file = glob('./API_Download*.csv')[0]"
   ]
  },
  {
   "cell_type": "markdown",
   "metadata": {},
   "source": [
    "## A small detour...\n",
    "\n",
    "### Collecting information on the CLI\n",
    "\n",
    "To see the header of the file that is of our interest, we can use the `head` command."
   ]
  },
  {
   "cell_type": "code",
   "execution_count": 712,
   "metadata": {
    "collapsed": false
   },
   "outputs": [
    {
     "name": "stdout",
     "output_type": "stream",
     "text": [
      "﻿\"Data Source\",\"World Development Indicators\",\r\n",
      "\r\n",
      "\"Last Updated Date\",\"2017-02-01\",\r\n",
      "\r\n",
      "\"Country Name\",\"Country Code\",\"Indicator Name\",\"Indicator Code\",\"1960\",\"1961\",\"1962\",\"1963\",\"1964\",\"1965\",\"1966\",\"1967\",\"1968\",\"1969\",\"1970\",\"1971\",\"1972\",\"1973\",\"1974\",\"1975\",\"1976\",\"1977\",\"1978\",\"1979\",\"1980\",\"1981\",\"1982\",\"1983\",\"1984\",\"1985\",\"1986\",\"1987\",\"1988\",\"1989\",\"1990\",\"1991\",\"1992\",\"1993\",\"1994\",\"1995\",\"1996\",\"1997\",\"1998\",\"1999\",\"2000\",\"2001\",\"2002\",\"2003\",\"2004\",\"2005\",\"2006\",\"2007\",\"2008\",\"2009\",\"2010\",\"2011\",\"2012\",\"2013\",\"2014\",\"2015\",\"2016\",\r\n",
      "\"Denmark\",\"DNK\",\"Mobile account, income, richest 60% (% ages 15+) [w2]\",\"WP15163_4.9\",\"\",\"\",\"\",\"\",\"\",\"\",\"\",\"\",\"\",\"\",\"\",\"\",\"\",\"\",\"\",\"\",\"\",\"\",\"\",\"\",\"\",\"\",\"\",\"\",\"\",\"\",\"\",\"\",\"\",\"\",\"\",\"\",\"\",\"\",\"\",\"\",\"\",\"\",\"\",\"\",\"\",\"\",\"\",\"\",\"\",\"\",\"\",\"\",\"\",\"\",\"\",\"\",\"\",\"\",\"\",\"\",\"\",\r\n",
      "\"Denmark\",\"DNK\",\"Mobile account, income, poorest 40% (% ages 15+) [w2]\",\"WP15163_4.8\",\"\",\"\",\"\",\"\",\"\",\"\",\"\",\"\",\"\",\"\",\"\",\"\",\"\",\"\",\"\",\"\",\"\",\"\",\"\",\"\",\"\",\"\",\"\",\"\",\"\",\"\",\"\",\"\",\"\",\"\",\"\",\"\",\"\",\"\",\"\",\"\",\"\",\"\",\"\",\"\",\"\",\"\",\"\",\"\",\"\",\"\",\"\",\"\",\"\",\"\",\"\",\"\",\"\",\"\",\"\",\"\",\"\",\r\n",
      "\"Denmark\",\"DNK\",\"Mobile account, female (% age 15+) [w2]\",\"WP15163_4.3\",\"\",\"\",\"\",\"\",\"\",\"\",\"\",\"\",\"\",\"\",\"\",\"\",\"\",\"\",\"\",\"\",\"\",\"\",\"\",\"\",\"\",\"\",\"\",\"\",\"\",\"\",\"\",\"\",\"\",\"\",\"\",\"\",\"\",\"\",\"\",\"\",\"\",\"\",\"\",\"\",\"\",\"\",\"\",\"\",\"\",\"\",\"\",\"\",\"\",\"\",\"\",\"\",\"\",\"\",\"\",\"\",\"\",\r\n",
      "\"Denmark\",\"DNK\",\"Mobile account, male (% age 15+) [w2]\",\"WP15163_4.2\",\"\",\"\",\"\",\"\",\"\",\"\",\"\",\"\",\"\",\"\",\"\",\"\",\"\",\"\",\"\",\"\",\"\",\"\",\"\",\"\",\"\",\"\",\"\",\"\",\"\",\"\",\"\",\"\",\"\",\"\",\"\",\"\",\"\",\"\",\"\",\"\",\"\",\"\",\"\",\"\",\"\",\"\",\"\",\"\",\"\",\"\",\"\",\"\",\"\",\"\",\"\",\"\",\"\",\"\",\"\",\"\",\"\",\r\n",
      "\"Denmark\",\"DNK\",\"Mobile account (% age 15+) [w2]\",\"WP15163_4.1\",\"\",\"\",\"\",\"\",\"\",\"\",\"\",\"\",\"\",\"\",\"\",\"\",\"\",\"\",\"\",\"\",\"\",\"\",\"\",\"\",\"\",\"\",\"\",\"\",\"\",\"\",\"\",\"\",\"\",\"\",\"\",\"\",\"\",\"\",\"\",\"\",\"\",\"\",\"\",\"\",\"\",\"\",\"\",\"\",\"\",\"\",\"\",\"\",\"\",\"\",\"\",\"\",\"\",\"\",\"\",\"\",\"\",\r\n"
     ]
    }
   ],
   "source": [
    "%%bash\n",
    "\n",
    "head ./API_Download_DS2_en_csv_v2_148410.csv"
   ]
  },
  {
   "cell_type": "markdown",
   "metadata": {},
   "source": [
    "We can see that the actual CSV header is on line five. To extract only the header row, we can use the stream editor *sed*, see `man sed`. The argument `'5!d'` tells `sed`, that we are only interested in the fifth line."
   ]
  },
  {
   "cell_type": "code",
   "execution_count": 714,
   "metadata": {
    "collapsed": false
   },
   "outputs": [
    {
     "name": "stdout",
     "output_type": "stream",
     "text": [
      "\"Country Name\",\"Country Code\",\"Indicator Name\",\"Indicator Code\",\"1960\",\"1961\",\"1962\",\"1963\",\"1964\",\"1965\",\"1966\",\"1967\",\"1968\",\"1969\",\"1970\",\"1971\",\"1972\",\"1973\",\"1974\",\"1975\",\"1976\",\"1977\",\"1978\",\"1979\",\"1980\",\"1981\",\"1982\",\"1983\",\"1984\",\"1985\",\"1986\",\"1987\",\"1988\",\"1989\",\"1990\",\"1991\",\"1992\",\"1993\",\"1994\",\"1995\",\"1996\",\"1997\",\"1998\",\"1999\",\"2000\",\"2001\",\"2002\",\"2003\",\"2004\",\"2005\",\"2006\",\"2007\",\"2008\",\"2009\",\"2010\",\"2011\",\"2012\",\"2013\",\"2014\",\"2015\",\"2016\",\r\n"
     ]
    }
   ],
   "source": [
    "%%bash\n",
    "\n",
    "sed '5!d' API_Download_DS2_en_csv_v2_148410.csv"
   ]
  },
  {
   "cell_type": "markdown",
   "metadata": {},
   "source": [
    "To get the two lines -one for Denmark and one for Uruguay repectively- holding the CO2 emission in tons, we can use the grep command, see `man grep`."
   ]
  },
  {
   "cell_type": "code",
   "execution_count": 715,
   "metadata": {
    "collapsed": false
   },
   "outputs": [
    {
     "name": "stdout",
     "output_type": "stream",
     "text": [
      "\"Denmark\",\"DNK\",\"CO2 emissions (metric tons per capita)\",\"EN.ATM.CO2E.PC\",\"6.50268309283578\",\"6.88126015490644\",\"7.9451073610821\",\"8.68983130048716\",\"9.14639293937068\",\"9.31657600359066\",\"10.4490116586529\",\"10.1493005475918\",\"10.9613147942099\",\"12.1429748602781\",\"12.5996564651087\",\"11.4972271507917\",\"11.9488346011977\",\"11.801611792919\",\"10.9167686263068\",\"11.0237664584528\",\"11.8549028939028\",\"12.1545851471744\",\"11.9739262277225\",\"12.3121966244144\",\"11.7840138262008\",\"10.1119423880012\",\"10.491964531704\",\"9.81084223305764\",\"9.9501332161102\",\"11.7474430895414\",\"11.5032965311821\",\"11.3793050315349\",\"10.7432506302739\",\"9.5050900188092\",\"9.77069869920651\",\"11.6933114849006\",\"10.5045544990979\",\"10.9982550300388\",\"11.7169488953513\",\"10.9245408267288\",\"13.7146519315518\",\"11.6476885201886\",\"11.2273041516574\",\"10.3626636406223\",\"9.61317555419716\",\"9.87509234839328\",\"9.68193192955788\",\"10.3882734936947\",\"9.36270101912787\",\"8.69007693057132\",\"10.1129141598949\",\"9.20201511030611\",\"8.54335109757298\",\"8.05889560110771\",\"8.40721667045503\",\"7.29638320804399\",\"6.5108659961814\",\"6.77962386721691\",\"\",\"\",\"\",\r\n",
      "\"Uruguay\",\"URY\",\"CO2 emissions (metric tons per capita)\",\"EN.ATM.CO2E.PC\",\"1.7015832424386\",\"1.60272287767076\",\"1.54065748628877\",\"1.63928507457702\",\"1.71010100972204\",\"2.04951949037589\",\"1.98509295692713\",\"1.77610139002572\",\"1.76030526483086\",\"2.00205864379953\",\"2.04374832505813\",\"2.06102682178316\",\"2.15359017408505\",\"2.04654609855695\",\"2.01264558337633\",\"2.10936861787905\",\"2.07519578128805\",\"1.97782127165696\",\"1.99672527877551\",\"2.1677688110687\",\"2.00216546201267\",\"1.83160342837362\",\"1.64962066912389\",\"1.28380597559544\",\"1.15304138675848\",\"1.09453346335063\",\"1.04891304347826\",\"1.16744306978251\",\"1.56640265824377\",\"1.58005849817982\",\"1.28404491722956\",\"1.45413288685231\",\"1.63889411012177\",\"1.40534511207128\",\"1.27020799574213\",\"1.42367713788763\",\"1.67541953775801\",\"1.69840453143887\",\"1.72760798922523\",\"2.03222476655311\",\"1.59763997926077\",\"1.529797226117\",\"1.38844331188754\",\"1.38271795749205\",\"1.68783031536995\",\"1.73668243521185\",\"1.99585384869175\",\"1.79740369788158\",\"2.47214811127505\",\"2.40122149626453\",\"1.89087053337261\",\"2.29295134407094\",\"2.55963768928739\",\"2.23163943099248\",\"\",\"\",\"\",\r\n"
     ]
    }
   ],
   "source": [
    "%%bash\n",
    "\n",
    "grep 'CO2 emissions (metric tons per capita)' API_Download_DS2_en_csv_v2_148410.csv"
   ]
  },
  {
   "cell_type": "markdown",
   "metadata": {},
   "source": [
    "### Executing OS Commands from Python\n",
    "\n",
    "\n",
    "With the help of the `subprocess` module allows us to execute shell commands and to read what the process was writing to standard out and standard error.\n"
   ]
  },
  {
   "cell_type": "code",
   "execution_count": 717,
   "metadata": {
    "collapsed": false
   },
   "outputs": [
    {
     "data": {
      "text/plain": [
       "['Country Name',\n",
       " 'Country Code',\n",
       " 'Indicator Name',\n",
       " 'Indicator Code',\n",
       " '1960',\n",
       " '1961',\n",
       " '1962',\n",
       " '1963',\n",
       " '1964',\n",
       " '1965',\n",
       " '1966',\n",
       " '1967',\n",
       " '1968',\n",
       " '1969',\n",
       " '1970',\n",
       " '1971',\n",
       " '1972',\n",
       " '1973',\n",
       " '1974',\n",
       " '1975',\n",
       " '1976',\n",
       " '1977',\n",
       " '1978',\n",
       " '1979',\n",
       " '1980',\n",
       " '1981',\n",
       " '1982',\n",
       " '1983',\n",
       " '1984',\n",
       " '1985',\n",
       " '1986',\n",
       " '1987',\n",
       " '1988',\n",
       " '1989',\n",
       " '1990',\n",
       " '1991',\n",
       " '1992',\n",
       " '1993',\n",
       " '1994',\n",
       " '1995',\n",
       " '1996',\n",
       " '1997',\n",
       " '1998',\n",
       " '1999',\n",
       " '2000',\n",
       " '2001',\n",
       " '2002',\n",
       " '2003',\n",
       " '2004',\n",
       " '2005',\n",
       " '2006',\n",
       " '2007',\n",
       " '2008',\n",
       " '2009',\n",
       " '2010',\n",
       " '2011',\n",
       " '2012',\n",
       " '2013',\n",
       " '2014',\n",
       " '2015',\n",
       " '2016',\n",
       " '']"
      ]
     },
     "execution_count": 717,
     "metadata": {},
     "output_type": "execute_result"
    }
   ],
   "source": [
    "import subprocess\n",
    "\n",
    "\n",
    "cmd = 'sed 5!d {}'.format(local_file).split()\n",
    "out, err = subprocess.Popen(cmd, stdout=subprocess.PIPE, \n",
    "                            stderr=subprocess.STDOUT).communicate()\n",
    "# Since we are getting the output as a byte literal, we have to decode it into string\n",
    "header_cols = out.splitlines()[0].decode('UTF-8').split(',')\n",
    "header_cols = [h.replace('\"', '') for h in header_cols]\n",
    "header_cols"
   ]
  },
  {
   "cell_type": "markdown",
   "metadata": {},
   "source": [
    "Now, let's get in a similar way the line of the CSV file containing the time series corresponding to Danmark's and Uruguay's CO2 emissions per person."
   ]
  },
  {
   "cell_type": "code",
   "execution_count": 719,
   "metadata": {
    "collapsed": false
   },
   "outputs": [
    {
     "data": {
      "text/plain": [
       "[['Denmark',\n",
       "  'DNK',\n",
       "  'CO2 emissions (metric tons per capita)',\n",
       "  'EN.ATM.CO2E.PC',\n",
       "  '6.50268309283578',\n",
       "  '6.88126015490644',\n",
       "  '7.9451073610821',\n",
       "  '8.68983130048716',\n",
       "  '9.14639293937068',\n",
       "  '9.31657600359066',\n",
       "  '10.4490116586529',\n",
       "  '10.1493005475918',\n",
       "  '10.9613147942099',\n",
       "  '12.1429748602781',\n",
       "  '12.5996564651087',\n",
       "  '11.4972271507917',\n",
       "  '11.9488346011977',\n",
       "  '11.801611792919',\n",
       "  '10.9167686263068',\n",
       "  '11.0237664584528',\n",
       "  '11.8549028939028',\n",
       "  '12.1545851471744',\n",
       "  '11.9739262277225',\n",
       "  '12.3121966244144',\n",
       "  '11.7840138262008',\n",
       "  '10.1119423880012',\n",
       "  '10.491964531704',\n",
       "  '9.81084223305764',\n",
       "  '9.9501332161102',\n",
       "  '11.7474430895414',\n",
       "  '11.5032965311821',\n",
       "  '11.3793050315349',\n",
       "  '10.7432506302739',\n",
       "  '9.5050900188092',\n",
       "  '9.77069869920651',\n",
       "  '11.6933114849006',\n",
       "  '10.5045544990979',\n",
       "  '10.9982550300388',\n",
       "  '11.7169488953513',\n",
       "  '10.9245408267288',\n",
       "  '13.7146519315518',\n",
       "  '11.6476885201886',\n",
       "  '11.2273041516574',\n",
       "  '10.3626636406223',\n",
       "  '9.61317555419716',\n",
       "  '9.87509234839328',\n",
       "  '9.68193192955788',\n",
       "  '10.3882734936947',\n",
       "  '9.36270101912787',\n",
       "  '8.69007693057132',\n",
       "  '10.1129141598949',\n",
       "  '9.20201511030611',\n",
       "  '8.54335109757298',\n",
       "  '8.05889560110771',\n",
       "  '8.40721667045503',\n",
       "  '7.29638320804399',\n",
       "  '6.5108659961814',\n",
       "  '6.77962386721691',\n",
       "  '',\n",
       "  '',\n",
       "  '',\n",
       "  ''],\n",
       " ['Uruguay',\n",
       "  'URY',\n",
       "  'CO2 emissions (metric tons per capita)',\n",
       "  'EN.ATM.CO2E.PC',\n",
       "  '1.7015832424386',\n",
       "  '1.60272287767076',\n",
       "  '1.54065748628877',\n",
       "  '1.63928507457702',\n",
       "  '1.71010100972204',\n",
       "  '2.04951949037589',\n",
       "  '1.98509295692713',\n",
       "  '1.77610139002572',\n",
       "  '1.76030526483086',\n",
       "  '2.00205864379953',\n",
       "  '2.04374832505813',\n",
       "  '2.06102682178316',\n",
       "  '2.15359017408505',\n",
       "  '2.04654609855695',\n",
       "  '2.01264558337633',\n",
       "  '2.10936861787905',\n",
       "  '2.07519578128805',\n",
       "  '1.97782127165696',\n",
       "  '1.99672527877551',\n",
       "  '2.1677688110687',\n",
       "  '2.00216546201267',\n",
       "  '1.83160342837362',\n",
       "  '1.64962066912389',\n",
       "  '1.28380597559544',\n",
       "  '1.15304138675848',\n",
       "  '1.09453346335063',\n",
       "  '1.04891304347826',\n",
       "  '1.16744306978251',\n",
       "  '1.56640265824377',\n",
       "  '1.58005849817982',\n",
       "  '1.28404491722956',\n",
       "  '1.45413288685231',\n",
       "  '1.63889411012177',\n",
       "  '1.40534511207128',\n",
       "  '1.27020799574213',\n",
       "  '1.42367713788763',\n",
       "  '1.67541953775801',\n",
       "  '1.69840453143887',\n",
       "  '1.72760798922523',\n",
       "  '2.03222476655311',\n",
       "  '1.59763997926077',\n",
       "  '1.529797226117',\n",
       "  '1.38844331188754',\n",
       "  '1.38271795749205',\n",
       "  '1.68783031536995',\n",
       "  '1.73668243521185',\n",
       "  '1.99585384869175',\n",
       "  '1.79740369788158',\n",
       "  '2.47214811127505',\n",
       "  '2.40122149626453',\n",
       "  '1.89087053337261',\n",
       "  '2.29295134407094',\n",
       "  '2.55963768928739',\n",
       "  '2.23163943099248',\n",
       "  '',\n",
       "  '',\n",
       "  '',\n",
       "  '']]"
      ]
     },
     "execution_count": 719,
     "metadata": {},
     "output_type": "execute_result"
    }
   ],
   "source": [
    "import subprocess\n",
    "\n",
    "\n",
    "cmd = ['grep', 'CO2 emissions (metric tons per capita)', local_file]\n",
    "out, err = subprocess.Popen(cmd, stdout=subprocess.PIPE, \n",
    "                            stderr=subprocess.STDOUT).communicate()\n",
    "lines = out.decode('UTF-8').splitlines()\n",
    "lines = [l.split(',') for l in lines]\n",
    "lines = [[c.replace('\"', '') for c in l] for l in lines]\n",
    "lines"
   ]
  },
  {
   "cell_type": "markdown",
   "metadata": {},
   "source": [
    "As in Pandas `Series` are one-dimensional labeled arrays, we are now ready to go to create two time series of CO2 emissions for Danmark and Uruguay repectively.\n",
    " "
   ]
  },
  {
   "cell_type": "code",
   "execution_count": 720,
   "metadata": {
    "collapsed": false
   },
   "outputs": [
    {
     "name": "stdout",
     "output_type": "stream",
     "text": [
      "['Country Name', 'Country Code', 'Indicator Name', 'Indicator Code', '1960', '1961', '1962', '1963', '1964', '1965', '1966', '1967', '1968', '1969', '1970', '1971', '1972', '1973', '1974', '1975', '1976', '1977', '1978', '1979', '1980', '1981', '1982', '1983', '1984', '1985', '1986', '1987', '1988', '1989', '1990', '1991', '1992', '1993', '1994', '1995', '1996', '1997', '1998', '1999', '2000', '2001', '2002', '2003', '2004', '2005', '2006', '2007', '2008', '2009', '2010', '2011', '2012', '2013', '2014', '2015', '2016', '']\n",
      "[['Denmark', 'DNK', 'CO2 emissions (metric tons per capita)', 'EN.ATM.CO2E.PC', '6.50268309283578', '6.88126015490644', '7.9451073610821', '8.68983130048716', '9.14639293937068', '9.31657600359066', '10.4490116586529', '10.1493005475918', '10.9613147942099', '12.1429748602781', '12.5996564651087', '11.4972271507917', '11.9488346011977', '11.801611792919', '10.9167686263068', '11.0237664584528', '11.8549028939028', '12.1545851471744', '11.9739262277225', '12.3121966244144', '11.7840138262008', '10.1119423880012', '10.491964531704', '9.81084223305764', '9.9501332161102', '11.7474430895414', '11.5032965311821', '11.3793050315349', '10.7432506302739', '9.5050900188092', '9.77069869920651', '11.6933114849006', '10.5045544990979', '10.9982550300388', '11.7169488953513', '10.9245408267288', '13.7146519315518', '11.6476885201886', '11.2273041516574', '10.3626636406223', '9.61317555419716', '9.87509234839328', '9.68193192955788', '10.3882734936947', '9.36270101912787', '8.69007693057132', '10.1129141598949', '9.20201511030611', '8.54335109757298', '8.05889560110771', '8.40721667045503', '7.29638320804399', '6.5108659961814', '6.77962386721691', '', '', '', ''], ['Uruguay', 'URY', 'CO2 emissions (metric tons per capita)', 'EN.ATM.CO2E.PC', '1.7015832424386', '1.60272287767076', '1.54065748628877', '1.63928507457702', '1.71010100972204', '2.04951949037589', '1.98509295692713', '1.77610139002572', '1.76030526483086', '2.00205864379953', '2.04374832505813', '2.06102682178316', '2.15359017408505', '2.04654609855695', '2.01264558337633', '2.10936861787905', '2.07519578128805', '1.97782127165696', '1.99672527877551', '2.1677688110687', '2.00216546201267', '1.83160342837362', '1.64962066912389', '1.28380597559544', '1.15304138675848', '1.09453346335063', '1.04891304347826', '1.16744306978251', '1.56640265824377', '1.58005849817982', '1.28404491722956', '1.45413288685231', '1.63889411012177', '1.40534511207128', '1.27020799574213', '1.42367713788763', '1.67541953775801', '1.69840453143887', '1.72760798922523', '2.03222476655311', '1.59763997926077', '1.529797226117', '1.38844331188754', '1.38271795749205', '1.68783031536995', '1.73668243521185', '1.99585384869175', '1.79740369788158', '2.47214811127505', '2.40122149626453', '1.89087053337261', '2.29295134407094', '2.55963768928739', '2.23163943099248', '', '', '', '']]\n"
     ]
    }
   ],
   "source": [
    "print(header_cols)\n",
    "print(lines)"
   ]
  },
  {
   "cell_type": "markdown",
   "metadata": {},
   "source": [
    "Since our data and the corresponding indexes are still all strings we have to convert them to floats and integers repectively. We do so using two different mechanisms. Once, creation of typed NumPy arrays and on the other hand via a Pandas method `convert_objects`, which converts strings to numerical values of a suitable type."
   ]
  },
  {
   "cell_type": "code",
   "execution_count": 725,
   "metadata": {
    "collapsed": false
   },
   "outputs": [
    {
     "data": {
      "text/plain": [
       "6.5026830928357802"
      ]
     },
     "execution_count": 725,
     "metadata": {},
     "output_type": "execute_result"
    }
   ],
   "source": [
    "header_cols[4:-1]\n",
    "lines[0][4:-1]\n",
    "\n",
    "ts_dk = pd.Series(lines[0][4:-1], index=np.asarray(header_cols[4:-1], dtype=int))\n",
    "ts_dk\n",
    "ts_dk = ts_dk.convert_objects(convert_numeric=True)\n",
    "ts_dk.loc[1960]"
   ]
  },
  {
   "cell_type": "code",
   "execution_count": 726,
   "metadata": {
    "collapsed": false
   },
   "outputs": [
    {
     "data": {
      "text/plain": [
       "<matplotlib.axes.AxesSubplot at 0x7fe1b32e5c50>"
      ]
     },
     "execution_count": 726,
     "metadata": {},
     "output_type": "execute_result"
    },
    {
     "data": {
      "image/png": "[encoded data removed]",
      "text/plain": [
       "<matplotlib.figure.Figure at 0x7fe1b2efe748>"
      ]
     },
     "metadata": {},
     "output_type": "display_data"
    }
   ],
   "source": [
    "ts_dk.plot()"
   ]
  },
  {
   "cell_type": "markdown",
   "metadata": {},
   "source": [
    "Now we create a time series for the corresponding Uruguaian time series."
   ]
  },
  {
   "cell_type": "code",
   "execution_count": 727,
   "metadata": {
    "collapsed": false
   },
   "outputs": [
    {
     "data": {
      "text/plain": [
       "<matplotlib.axes.AxesSubplot at 0x7fe1b2e2d7f0>"
      ]
     },
     "execution_count": 727,
     "metadata": {},
     "output_type": "execute_result"
    },
    {
     "data": {
      "image/png": "[encoded data removed]",
      "text/plain": [
       "<matplotlib.figure.Figure at 0x7fe1b2e35978>"
      ]
     },
     "metadata": {},
     "output_type": "display_data"
    }
   ],
   "source": [
    "ts_ur = pd.Series(lines[1][4:-1], index=np.asarray(header_cols[4:-1], dtype=int))\n",
    "ts_ur = ts_ur.convert_objects(convert_numeric=True)\n",
    "ts_ur.plot()"
   ]
  },
  {
   "cell_type": "markdown",
   "metadata": {},
   "source": [
    "# `DataFrame`\n",
    "\n",
    "Since `Series` are one-dimensional arrays, we have to create a `DataFrame` if we wanted to combine our two previous `Series` objects `ts_dk` and `ts_ur`.Since `Series` are one-dimensional arrays, we have to create a `DataFrame` if we wanted to combine our two previous `Series` objects `ts_dk` and `ts_ur`. \n",
    "\n",
    "A `DataFrame` is a 2-dimensional labeled data structure with columns of potentially different types. You can think of it like a spreadsheet or SQL table, or a dict of Series objects.\n",
    "\n",
    "In the following we concatenate two `Series`to form a `DataFrame`."
   ]
  },
  {
   "cell_type": "code",
   "execution_count": 731,
   "metadata": {
    "collapsed": false
   },
   "outputs": [
    {
     "name": "stdout",
     "output_type": "stream",
     "text": [
      "<class 'pandas.core.frame.DataFrame'>\n"
     ]
    },
    {
     "data": {
      "text/plain": [
       "<matplotlib.axes.AxesSubplot at 0x7fe1b2e39b38>"
      ]
     },
     "execution_count": 731,
     "metadata": {},
     "output_type": "execute_result"
    },
    {
     "data": {
      "image/png": "[encoded data removed]",
      "text/plain": [
       "<matplotlib.figure.Figure at 0x7fe1b2db4a90>"
      ]
     },
     "metadata": {},
     "output_type": "display_data"
    }
   ],
   "source": [
    "ts = pd.concat([ts_dk, ts_ur], axis=1, keys=['DNK', 'URY'])\n",
    "ts\n",
    "print(type(ts))\n",
    "ts.plot()"
   ]
  },
  {
   "cell_type": "markdown",
   "metadata": {},
   "source": [
    "More information on `DataFrame`s can be found here:\n",
    "http://pandas.pydata.org/pandas-docs/stable/dsintro.html#dataframe\n",
    "\n",
    "Similar to, we can create `DataFrame`s by giving the data for the values and indexes explicitely."
   ]
  },
  {
   "cell_type": "code",
   "execution_count": 732,
   "metadata": {
    "collapsed": false
   },
   "outputs": [
    {
     "data": {
      "text/html": [
       "<div>\n",
       "<table border=\"1\" class=\"dataframe\">\n",
       "  <thead>\n",
       "    <tr style=\"text-align: right;\">\n",
       "      <th></th>\n",
       "      <th>A</th>\n",
       "      <th>B</th>\n",
       "      <th>C</th>\n",
       "      <th>D</th>\n",
       "    </tr>\n",
       "  </thead>\n",
       "  <tbody>\n",
       "    <tr>\n",
       "      <th>2017-03-08</th>\n",
       "      <td>-1.602504</td>\n",
       "      <td>-0.602639</td>\n",
       "      <td>-2.727856</td>\n",
       "      <td>-0.170812</td>\n",
       "    </tr>\n",
       "    <tr>\n",
       "      <th>2017-03-09</th>\n",
       "      <td>-0.870147</td>\n",
       "      <td>1.766339</td>\n",
       "      <td>-0.911725</td>\n",
       "      <td>0.612365</td>\n",
       "    </tr>\n",
       "    <tr>\n",
       "      <th>2017-03-10</th>\n",
       "      <td>-0.043533</td>\n",
       "      <td>-0.458014</td>\n",
       "      <td>1.934092</td>\n",
       "      <td>0.265962</td>\n",
       "    </tr>\n",
       "    <tr>\n",
       "      <th>2017-03-11</th>\n",
       "      <td>0.143331</td>\n",
       "      <td>0.935737</td>\n",
       "      <td>0.377930</td>\n",
       "      <td>1.576182</td>\n",
       "    </tr>\n",
       "    <tr>\n",
       "      <th>2017-03-12</th>\n",
       "      <td>1.600826</td>\n",
       "      <td>1.130078</td>\n",
       "      <td>0.045489</td>\n",
       "      <td>-0.009738</td>\n",
       "    </tr>\n",
       "    <tr>\n",
       "      <th>2017-03-13</th>\n",
       "      <td>-1.275218</td>\n",
       "      <td>1.157046</td>\n",
       "      <td>0.569157</td>\n",
       "      <td>-0.835629</td>\n",
       "    </tr>\n",
       "  </tbody>\n",
       "</table>\n",
       "</div>"
      ],
      "text/plain": [
       "                   A         B         C         D\n",
       "2017-03-08 -1.602504 -0.602639 -2.727856 -0.170812\n",
       "2017-03-09 -0.870147  1.766339 -0.911725  0.612365\n",
       "2017-03-10 -0.043533 -0.458014  1.934092  0.265962\n",
       "2017-03-11  0.143331  0.935737  0.377930  1.576182\n",
       "2017-03-12  1.600826  1.130078  0.045489 -0.009738\n",
       "2017-03-13 -1.275218  1.157046  0.569157 -0.835629"
      ]
     },
     "execution_count": 732,
     "metadata": {},
     "output_type": "execute_result"
    }
   ],
   "source": [
    "dates = pd.date_range('20170308', periods=6)\n",
    "df = pd.DataFrame(np.random.randn(6,4), index=dates, \n",
    "                  columns=list('ABCD'))\n",
    "df"
   ]
  },
  {
   "cell_type": "markdown",
   "metadata": {},
   "source": [
    "But since we do not want to work on random example data. We will have a look on the military expenditures of some countries in the world. We will use this data to exemplify usage of Pandas' `DataFrame` methods.\n",
    "\n",
    "Again, we will receive the data from the World Bank.\n",
    "http://data.worldbank.org/indicator/MS.MIL.XPND.CN?locations=DK-CN-US-RU"
   ]
  },
  {
   "cell_type": "code",
   "execution_count": 733,
   "metadata": {
    "collapsed": false
   },
   "outputs": [
    {
     "name": "stdout",
     "output_type": "stream",
     "text": [
      "Downloaded API_MS.MIL.XPND.CN_DS2_en_csv_v2.zip\n"
     ]
    }
   ],
   "source": [
    "import requests\n",
    "\n",
    "\n",
    "url = 'http://api.worldbank.org/v2/en/indicator/MS.MIL.XPND.CN'\n",
    "\n",
    "response = requests.get(url, params={'downloadformat': 'csv'})\n",
    "fname = response.headers['Content-Disposition'].split('=')[1]\n",
    "\n",
    "if response.ok:  # status_code == 200:\n",
    "    with open(fname, 'wb') as f:\n",
    "        f.write(response.content)   \n",
    "\n",
    "print('Downloaded {}'.format(fname))\n",
    "        "
   ]
  },
  {
   "cell_type": "code",
   "execution_count": 734,
   "metadata": {
    "collapsed": false
   },
   "outputs": [],
   "source": [
    "import os\n",
    "import zipfile\n",
    "\n",
    "\n",
    "zipfile.ZipFile(fname, 'r').extractall('.')\n",
    "os.remove(fname)"
   ]
  },
  {
   "cell_type": "code",
   "execution_count": 735,
   "metadata": {
    "collapsed": false
   },
   "outputs": [
    {
     "name": "stdout",
     "output_type": "stream",
     "text": [
      "-rw-r--r-- 1 vagrant vagrant    297287 Mar  8 07:29 PageRank.ipynb\r\n",
      "-rw-r--r-- 1 vagrant vagrant      9233 Mar  8 07:40 Links to student projects.ipynb\r\n",
      "-rw-r--r-- 1 vagrant vagrant    552537 Mar  8 09:30 \u001b[01;31mAPI_Download_DS2_en_csv_v2_148410.zip\u001b[0m\r\n",
      "-rw-r--r-- 1 vagrant vagrant    855820 Mar  8 09:32 Metadata_Indicator_API_Download_DS2_en_csv_v2_148410.csv\r\n",
      "-rw-r--r-- 1 vagrant vagrant       265 Mar  8 09:32 Metadata_Country_API_Download_DS2_en_csv_v2_148410.csv\r\n",
      "-rw-r--r-- 1 vagrant vagrant   1512578 Mar  8 09:32 API_Download_DS2_en_csv_v2_148410.csv\r\n",
      "-rw-r--r-- 1 vagrant vagrant      1648 Mar  8 09:58 Metadata_Indicator_API_MS.MIL.XPND.CN_DS2_en_csv_v2.csv\r\n",
      "-rw-r--r-- 1 vagrant vagrant     50374 Mar  8 09:58 Metadata_Country_API_MS.MIL.XPND.CN_DS2_en_csv_v2.csv\r\n",
      "-rw-r--r-- 1 vagrant vagrant    108161 Mar  8 09:58 API_MS.MIL.XPND.CN_DS2_en_csv_v2.csv\r\n",
      "-rw-r--r-- 1 vagrant vagrant    140369 Mar  8 09:58 Intro to Pandas.ipynb\r\n"
     ]
    }
   ],
   "source": [
    "ls -ltr | tail"
   ]
  },
  {
   "cell_type": "code",
   "execution_count": 2,
   "metadata": {
    "collapsed": false
   },
   "outputs": [],
   "source": [
    "from glob import glob\n",
    "\n",
    "milit_files = glob('./*MIL*.csv')\n",
    "expenditure_csv = milit_files[0]"
   ]
  },
  {
   "cell_type": "code",
   "execution_count": 737,
   "metadata": {
    "collapsed": false
   },
   "outputs": [
    {
     "name": "stdout",
     "output_type": "stream",
     "text": [
      "﻿\"Data Source\",\"World Development Indicators\",\r\n",
      "\r\n",
      "\"Last Updated Date\",\"2017-02-01\",\r\n",
      "\r\n",
      "\"Country Name\",\"Country Code\",\"Indicator Name\",\"Indicator Code\",\"1960\",\"1961\",\"1962\",\"1963\",\"1964\",\"1965\",\"1966\",\"1967\",\"1968\",\"1969\",\"1970\",\"1971\",\"1972\",\"1973\",\"1974\",\"1975\",\"1976\",\"1977\",\"1978\",\"1979\",\"1980\",\"1981\",\"1982\",\"1983\",\"1984\",\"1985\",\"1986\",\"1987\",\"1988\",\"1989\",\"1990\",\"1991\",\"1992\",\"1993\",\"1994\",\"1995\",\"1996\",\"1997\",\"1998\",\"1999\",\"2000\",\"2001\",\"2002\",\"2003\",\"2004\",\"2005\",\"2006\",\"2007\",\"2008\",\"2009\",\"2010\",\"2011\",\"2012\",\"2013\",\"2014\",\"2015\",\"2016\",\r\n",
      "\"Aruba\",\"ABW\",\"Military expenditure (current LCU)\",\"MS.MIL.XPND.CN\",\"\",\"\",\"\",\"\",\"\",\"\",\"\",\"\",\"\",\"\",\"\",\"\",\"\",\"\",\"\",\"\",\"\",\"\",\"\",\"\",\"\",\"\",\"\",\"\",\"\",\"\",\"\",\"\",\"\",\"\",\"\",\"\",\"\",\"\",\"\",\"\",\"\",\"\",\"\",\"\",\"\",\"\",\"\",\"\",\"\",\"\",\"\",\"\",\"\",\"\",\"\",\"\",\"\",\"\",\"\",\"\",\"\",\r\n",
      "\"Andorra\",\"AND\",\"Military expenditure (current LCU)\",\"MS.MIL.XPND.CN\",\"\",\"\",\"\",\"\",\"\",\"\",\"\",\"\",\"\",\"\",\"\",\"\",\"\",\"\",\"\",\"\",\"\",\"\",\"\",\"\",\"\",\"\",\"\",\"\",\"\",\"\",\"\",\"\",\"\",\"\",\"\",\"\",\"\",\"\",\"\",\"\",\"\",\"\",\"\",\"\",\"\",\"\",\"\",\"\",\"\",\"\",\"\",\"\",\"\",\"\",\"\",\"\",\"\",\"\",\"\",\"\",\"\",\r\n",
      "\"Afghanistan\",\"AFG\",\"Military expenditure (current LCU)\",\"MS.MIL.XPND.CN\",\"\",\"\",\"\",\"\",\"\",\"\",\"\",\"\",\"\",\"\",\"\",\"\",\"\",\"\",\"\",\"\",\"\",\"\",\"\",\"\",\"\",\"\",\"\",\"\",\"\",\"\",\"\",\"\",\"\",\"\",\"\",\"\",\"\",\"\",\"\",\"\",\"\",\"\",\"\",\"\",\"\",\"\",\"\",\"\",\"5986000000\",\"6074333333.33333\",\"6557500000\",\"10970666666.6667\",\"12086666666.6667\",\"12675333333.3333\",\"13849666666.6667\",\"15230500000\",\"12149000000\",\"12027666666.6667\",\"15356000000\",\"12199166666.6667\",\"\",\r\n",
      "\"Angola\",\"AGO\",\"Military expenditure (current LCU)\",\"MS.MIL.XPND.CN\",\"\",\"\",\"\",\"\",\"\",\"\",\"\",\"\",\"\",\"\",\"\",\"\",\"\",\"\",\"\",\"\",\"\",\"\",\"\",\"\",\"\",\"\",\"\",\"\",\"\",\"\",\"\",\"\",\"43.961\",\"58.297\",\"52.391\",\"56.82\",\"199.66\",\"4720.2\",\"35410.9\",\"643124\",\"20451600\",\"104621000\",\"66889400\",\"2976540000\",\"5859850000\",\"8917990000\",\"19096100000\",\"49987800000\",\"68297900000\",\"118977000000\",\"158350000000\",\"155900000000\",\"237375000000\",\"262671000000\",\"321743000000\",\"341875000000\",\"395680000000\",\"587869000000\",\"673000000000\",\"433215000000\",\"\",\r\n",
      "\"Albania\",\"ALB\",\"Military expenditure (current LCU)\",\"MS.MIL.XPND.CN\",\"\",\"\",\"\",\"\",\"\",\"\",\"\",\"\",\"\",\"\",\"\",\"\",\"\",\"\",\"\",\"\",\"\",\"\",\"\",\"\",\"\",\"\",\"\",\"\",\"\",\"\",\"\",\"\",\"955000000\",\"965000000\",\"990000000\",\"950000000\",\"2368000000\",\"4010000000\",\"4698000000\",\"4719000000\",\"4777000000\",\"4442000000\",\"5067000000\",\"5891000000\",\"6519000000\",\"7638000000\",\"8220000000\",\"9279000000\",\"10372800000\",\"10999800000\",\"13831000000\",\"17619000000\",\"21450000000\",\"17356000000\",\"19321000000\",\"19877000000\",\"19820000000\",\"19022000000\",\"18788000000\",\"16671000000\",\"\",\r\n"
     ]
    }
   ],
   "source": [
    "%%bash\n",
    "\n",
    "head ./API_MS.MIL.XPND.CN_DS2_en_csv_v2.csv"
   ]
  },
  {
   "cell_type": "markdown",
   "metadata": {},
   "source": [
    "Now, we use Pandas' `read_csv` function to read the downloaded CSV file directly. Note that we have to skip the first four rows as they do not contain data we are interested in, see keyword argument `skiprows=4`.\n",
    "\n",
    "Reading the CSV file like this returns a `DataFrame` directly."
   ]
  },
  {
   "cell_type": "code",
   "execution_count": 3,
   "metadata": {
    "collapsed": false
   },
   "outputs": [
    {
     "data": {
      "text/html": [
       "<div>\n",
       "<table border=\"1\" class=\"dataframe\">\n",
       "  <thead>\n",
       "    <tr style=\"text-align: right;\">\n",
       "      <th></th>\n",
       "      <th>Country Name</th>\n",
       "      <th>Country Code</th>\n",
       "      <th>Indicator Name</th>\n",
       "      <th>Indicator Code</th>\n",
       "      <th>1960</th>\n",
       "      <th>1961</th>\n",
       "      <th>1962</th>\n",
       "      <th>1963</th>\n",
       "      <th>1964</th>\n",
       "      <th>1965</th>\n",
       "      <th>...</th>\n",
       "      <th>2008</th>\n",
       "      <th>2009</th>\n",
       "      <th>2010</th>\n",
       "      <th>2011</th>\n",
       "      <th>2012</th>\n",
       "      <th>2013</th>\n",
       "      <th>2014</th>\n",
       "      <th>2015</th>\n",
       "      <th>2016</th>\n",
       "      <th>Unnamed: 61</th>\n",
       "    </tr>\n",
       "  </thead>\n",
       "  <tbody>\n",
       "    <tr>\n",
       "      <th>0</th>\n",
       "      <td>Aruba</td>\n",
       "      <td>ABW</td>\n",
       "      <td>Military expenditure (current LCU)</td>\n",
       "      <td>MS.MIL.XPND.CN</td>\n",
       "      <td>NaN</td>\n",
       "      <td>NaN</td>\n",
       "      <td>NaN</td>\n",
       "      <td>NaN</td>\n",
       "      <td>NaN</td>\n",
       "      <td>NaN</td>\n",
       "      <td>...</td>\n",
       "      <td>NaN</td>\n",
       "      <td>NaN</td>\n",
       "      <td>NaN</td>\n",
       "      <td>NaN</td>\n",
       "      <td>NaN</td>\n",
       "      <td>NaN</td>\n",
       "      <td>NaN</td>\n",
       "      <td>NaN</td>\n",
       "      <td>NaN</td>\n",
       "      <td>NaN</td>\n",
       "    </tr>\n",
       "    <tr>\n",
       "      <th>1</th>\n",
       "      <td>Andorra</td>\n",
       "      <td>AND</td>\n",
       "      <td>Military expenditure (current LCU)</td>\n",
       "      <td>MS.MIL.XPND.CN</td>\n",
       "      <td>NaN</td>\n",
       "      <td>NaN</td>\n",
       "      <td>NaN</td>\n",
       "      <td>NaN</td>\n",
       "      <td>NaN</td>\n",
       "      <td>NaN</td>\n",
       "      <td>...</td>\n",
       "      <td>NaN</td>\n",
       "      <td>NaN</td>\n",
       "      <td>NaN</td>\n",
       "      <td>NaN</td>\n",
       "      <td>NaN</td>\n",
       "      <td>NaN</td>\n",
       "      <td>NaN</td>\n",
       "      <td>NaN</td>\n",
       "      <td>NaN</td>\n",
       "      <td>NaN</td>\n",
       "    </tr>\n",
       "    <tr>\n",
       "      <th>2</th>\n",
       "      <td>Afghanistan</td>\n",
       "      <td>AFG</td>\n",
       "      <td>Military expenditure (current LCU)</td>\n",
       "      <td>MS.MIL.XPND.CN</td>\n",
       "      <td>NaN</td>\n",
       "      <td>NaN</td>\n",
       "      <td>NaN</td>\n",
       "      <td>NaN</td>\n",
       "      <td>NaN</td>\n",
       "      <td>NaN</td>\n",
       "      <td>...</td>\n",
       "      <td>1.208667e+10</td>\n",
       "      <td>1.267533e+10</td>\n",
       "      <td>1.384967e+10</td>\n",
       "      <td>1.523050e+10</td>\n",
       "      <td>1.214900e+10</td>\n",
       "      <td>1.202767e+10</td>\n",
       "      <td>1.535600e+10</td>\n",
       "      <td>1.219917e+10</td>\n",
       "      <td>NaN</td>\n",
       "      <td>NaN</td>\n",
       "    </tr>\n",
       "    <tr>\n",
       "      <th>3</th>\n",
       "      <td>Angola</td>\n",
       "      <td>AGO</td>\n",
       "      <td>Military expenditure (current LCU)</td>\n",
       "      <td>MS.MIL.XPND.CN</td>\n",
       "      <td>NaN</td>\n",
       "      <td>NaN</td>\n",
       "      <td>NaN</td>\n",
       "      <td>NaN</td>\n",
       "      <td>NaN</td>\n",
       "      <td>NaN</td>\n",
       "      <td>...</td>\n",
       "      <td>2.373750e+11</td>\n",
       "      <td>2.626710e+11</td>\n",
       "      <td>3.217430e+11</td>\n",
       "      <td>3.418750e+11</td>\n",
       "      <td>3.956800e+11</td>\n",
       "      <td>5.878690e+11</td>\n",
       "      <td>6.730000e+11</td>\n",
       "      <td>4.332150e+11</td>\n",
       "      <td>NaN</td>\n",
       "      <td>NaN</td>\n",
       "    </tr>\n",
       "    <tr>\n",
       "      <th>4</th>\n",
       "      <td>Albania</td>\n",
       "      <td>ALB</td>\n",
       "      <td>Military expenditure (current LCU)</td>\n",
       "      <td>MS.MIL.XPND.CN</td>\n",
       "      <td>NaN</td>\n",
       "      <td>NaN</td>\n",
       "      <td>NaN</td>\n",
       "      <td>NaN</td>\n",
       "      <td>NaN</td>\n",
       "      <td>NaN</td>\n",
       "      <td>...</td>\n",
       "      <td>2.145000e+10</td>\n",
       "      <td>1.735600e+10</td>\n",
       "      <td>1.932100e+10</td>\n",
       "      <td>1.987700e+10</td>\n",
       "      <td>1.982000e+10</td>\n",
       "      <td>1.902200e+10</td>\n",
       "      <td>1.878800e+10</td>\n",
       "      <td>1.667100e+10</td>\n",
       "      <td>NaN</td>\n",
       "      <td>NaN</td>\n",
       "    </tr>\n",
       "    <tr>\n",
       "      <th>5</th>\n",
       "      <td>Arab World</td>\n",
       "      <td>ARB</td>\n",
       "      <td>Military expenditure (current LCU)</td>\n",
       "      <td>MS.MIL.XPND.CN</td>\n",
       "      <td>NaN</td>\n",
       "      <td>NaN</td>\n",
       "      <td>NaN</td>\n",
       "      <td>NaN</td>\n",
       "      <td>NaN</td>\n",
       "      <td>NaN</td>\n",
       "      <td>...</td>\n",
       "      <td>NaN</td>\n",
       "      <td>NaN</td>\n",
       "      <td>NaN</td>\n",
       "      <td>NaN</td>\n",
       "      <td>NaN</td>\n",
       "      <td>NaN</td>\n",
       "      <td>NaN</td>\n",
       "      <td>NaN</td>\n",
       "      <td>NaN</td>\n",
       "      <td>NaN</td>\n",
       "    </tr>\n",
       "    <tr>\n",
       "      <th>6</th>\n",
       "      <td>United Arab Emirates</td>\n",
       "      <td>ARE</td>\n",
       "      <td>Military expenditure (current LCU)</td>\n",
       "      <td>MS.MIL.XPND.CN</td>\n",
       "      <td>NaN</td>\n",
       "      <td>NaN</td>\n",
       "      <td>NaN</td>\n",
       "      <td>NaN</td>\n",
       "      <td>NaN</td>\n",
       "      <td>NaN</td>\n",
       "      <td>...</td>\n",
       "      <td>4.249700e+10</td>\n",
       "      <td>5.081400e+10</td>\n",
       "      <td>6.428600e+10</td>\n",
       "      <td>7.044500e+10</td>\n",
       "      <td>6.986600e+10</td>\n",
       "      <td>8.652800e+10</td>\n",
       "      <td>8.356800e+10</td>\n",
       "      <td>NaN</td>\n",
       "      <td>NaN</td>\n",
       "      <td>NaN</td>\n",
       "    </tr>\n",
       "    <tr>\n",
       "      <th>7</th>\n",
       "      <td>Argentina</td>\n",
       "      <td>ARG</td>\n",
       "      <td>Military expenditure (current LCU)</td>\n",
       "      <td>MS.MIL.XPND.CN</td>\n",
       "      <td>NaN</td>\n",
       "      <td>NaN</td>\n",
       "      <td>NaN</td>\n",
       "      <td>NaN</td>\n",
       "      <td>NaN</td>\n",
       "      <td>NaN</td>\n",
       "      <td>...</td>\n",
       "      <td>8.769000e+09</td>\n",
       "      <td>1.106300e+10</td>\n",
       "      <td>1.354100e+10</td>\n",
       "      <td>1.665400e+10</td>\n",
       "      <td>2.070300e+10</td>\n",
       "      <td>2.805000e+10</td>\n",
       "      <td>4.020900e+10</td>\n",
       "      <td>5.038360e+10</td>\n",
       "      <td>NaN</td>\n",
       "      <td>NaN</td>\n",
       "    </tr>\n",
       "    <tr>\n",
       "      <th>8</th>\n",
       "      <td>Armenia</td>\n",
       "      <td>ARM</td>\n",
       "      <td>Military expenditure (current LCU)</td>\n",
       "      <td>MS.MIL.XPND.CN</td>\n",
       "      <td>NaN</td>\n",
       "      <td>NaN</td>\n",
       "      <td>NaN</td>\n",
       "      <td>NaN</td>\n",
       "      <td>NaN</td>\n",
       "      <td>NaN</td>\n",
       "      <td>...</td>\n",
       "      <td>1.211620e+11</td>\n",
       "      <td>1.306000e+11</td>\n",
       "      <td>1.476000e+11</td>\n",
       "      <td>1.456000e+11</td>\n",
       "      <td>1.529000e+11</td>\n",
       "      <td>1.821000e+11</td>\n",
       "      <td>1.904110e+11</td>\n",
       "      <td>2.138110e+11</td>\n",
       "      <td>NaN</td>\n",
       "      <td>NaN</td>\n",
       "    </tr>\n",
       "    <tr>\n",
       "      <th>9</th>\n",
       "      <td>American Samoa</td>\n",
       "      <td>ASM</td>\n",
       "      <td>Military expenditure (current LCU)</td>\n",
       "      <td>MS.MIL.XPND.CN</td>\n",
       "      <td>NaN</td>\n",
       "      <td>NaN</td>\n",
       "      <td>NaN</td>\n",
       "      <td>NaN</td>\n",
       "      <td>NaN</td>\n",
       "      <td>NaN</td>\n",
       "      <td>...</td>\n",
       "      <td>NaN</td>\n",
       "      <td>NaN</td>\n",
       "      <td>NaN</td>\n",
       "      <td>NaN</td>\n",
       "      <td>NaN</td>\n",
       "      <td>NaN</td>\n",
       "      <td>NaN</td>\n",
       "      <td>NaN</td>\n",
       "      <td>NaN</td>\n",
       "      <td>NaN</td>\n",
       "    </tr>\n",
       "    <tr>\n",
       "      <th>10</th>\n",
       "      <td>Antigua and Barbuda</td>\n",
       "      <td>ATG</td>\n",
       "      <td>Military expenditure (current LCU)</td>\n",
       "      <td>MS.MIL.XPND.CN</td>\n",
       "      <td>NaN</td>\n",
       "      <td>NaN</td>\n",
       "      <td>NaN</td>\n",
       "      <td>NaN</td>\n",
       "      <td>NaN</td>\n",
       "      <td>NaN</td>\n",
       "      <td>...</td>\n",
       "      <td>NaN</td>\n",
       "      <td>NaN</td>\n",
       "      <td>NaN</td>\n",
       "      <td>NaN</td>\n",
       "      <td>NaN</td>\n",
       "      <td>NaN</td>\n",
       "      <td>NaN</td>\n",
       "      <td>NaN</td>\n",
       "      <td>NaN</td>\n",
       "      <td>NaN</td>\n",
       "    </tr>\n",
       "    <tr>\n",
       "      <th>11</th>\n",
       "      <td>Australia</td>\n",
       "      <td>AUS</td>\n",
       "      <td>Military expenditure (current LCU)</td>\n",
       "      <td>MS.MIL.XPND.CN</td>\n",
       "      <td>NaN</td>\n",
       "      <td>NaN</td>\n",
       "      <td>NaN</td>\n",
       "      <td>NaN</td>\n",
       "      <td>NaN</td>\n",
       "      <td>NaN</td>\n",
       "      <td>...</td>\n",
       "      <td>2.221400e+10</td>\n",
       "      <td>2.431050e+10</td>\n",
       "      <td>2.531100e+10</td>\n",
       "      <td>2.578500e+10</td>\n",
       "      <td>2.532000e+10</td>\n",
       "      <td>2.571500e+10</td>\n",
       "      <td>2.860350e+10</td>\n",
       "      <td>3.139600e+10</td>\n",
       "      <td>NaN</td>\n",
       "      <td>NaN</td>\n",
       "    </tr>\n",
       "    <tr>\n",
       "      <th>12</th>\n",
       "      <td>Austria</td>\n",
       "      <td>AUT</td>\n",
       "      <td>Military expenditure (current LCU)</td>\n",
       "      <td>MS.MIL.XPND.CN</td>\n",
       "      <td>NaN</td>\n",
       "      <td>NaN</td>\n",
       "      <td>NaN</td>\n",
       "      <td>NaN</td>\n",
       "      <td>NaN</td>\n",
       "      <td>NaN</td>\n",
       "      <td>...</td>\n",
       "      <td>2.557800e+09</td>\n",
       "      <td>2.400500e+09</td>\n",
       "      <td>2.430000e+09</td>\n",
       "      <td>2.452800e+09</td>\n",
       "      <td>2.480600e+09</td>\n",
       "      <td>2.432000e+09</td>\n",
       "      <td>2.491200e+09</td>\n",
       "      <td>2.287500e+09</td>\n",
       "      <td>NaN</td>\n",
       "      <td>NaN</td>\n",
       "    </tr>\n",
       "    <tr>\n",
       "      <th>13</th>\n",
       "      <td>Azerbaijan</td>\n",
       "      <td>AZE</td>\n",
       "      <td>Military expenditure (current LCU)</td>\n",
       "      <td>MS.MIL.XPND.CN</td>\n",
       "      <td>NaN</td>\n",
       "      <td>NaN</td>\n",
       "      <td>NaN</td>\n",
       "      <td>NaN</td>\n",
       "      <td>NaN</td>\n",
       "      <td>NaN</td>\n",
       "      <td>...</td>\n",
       "      <td>1.321000e+09</td>\n",
       "      <td>1.183900e+09</td>\n",
       "      <td>1.185200e+09</td>\n",
       "      <td>2.432300e+09</td>\n",
       "      <td>2.550300e+09</td>\n",
       "      <td>2.642000e+09</td>\n",
       "      <td>2.688100e+09</td>\n",
       "      <td>3.050000e+09</td>\n",
       "      <td>NaN</td>\n",
       "      <td>NaN</td>\n",
       "    </tr>\n",
       "    <tr>\n",
       "      <th>14</th>\n",
       "      <td>Burundi</td>\n",
       "      <td>BDI</td>\n",
       "      <td>Military expenditure (current LCU)</td>\n",
       "      <td>MS.MIL.XPND.CN</td>\n",
       "      <td>NaN</td>\n",
       "      <td>NaN</td>\n",
       "      <td>NaN</td>\n",
       "      <td>NaN</td>\n",
       "      <td>NaN</td>\n",
       "      <td>NaN</td>\n",
       "      <td>...</td>\n",
       "      <td>5.200000e+10</td>\n",
       "      <td>NaN</td>\n",
       "      <td>NaN</td>\n",
       "      <td>NaN</td>\n",
       "      <td>8.506000e+10</td>\n",
       "      <td>9.464200e+10</td>\n",
       "      <td>9.616900e+10</td>\n",
       "      <td>1.040040e+11</td>\n",
       "      <td>NaN</td>\n",
       "      <td>NaN</td>\n",
       "    </tr>\n",
       "    <tr>\n",
       "      <th>15</th>\n",
       "      <td>Belgium</td>\n",
       "      <td>BEL</td>\n",
       "      <td>Military expenditure (current LCU)</td>\n",
       "      <td>MS.MIL.XPND.CN</td>\n",
       "      <td>NaN</td>\n",
       "      <td>NaN</td>\n",
       "      <td>NaN</td>\n",
       "      <td>NaN</td>\n",
       "      <td>NaN</td>\n",
       "      <td>NaN</td>\n",
       "      <td>...</td>\n",
       "      <td>4.298000e+09</td>\n",
       "      <td>4.046000e+09</td>\n",
       "      <td>3.960000e+09</td>\n",
       "      <td>3.956000e+09</td>\n",
       "      <td>4.023000e+09</td>\n",
       "      <td>3.939000e+09</td>\n",
       "      <td>3.913000e+09</td>\n",
       "      <td>3.758000e+09</td>\n",
       "      <td>NaN</td>\n",
       "      <td>NaN</td>\n",
       "    </tr>\n",
       "    <tr>\n",
       "      <th>16</th>\n",
       "      <td>Benin</td>\n",
       "      <td>BEN</td>\n",
       "      <td>Military expenditure (current LCU)</td>\n",
       "      <td>MS.MIL.XPND.CN</td>\n",
       "      <td>NaN</td>\n",
       "      <td>NaN</td>\n",
       "      <td>NaN</td>\n",
       "      <td>NaN</td>\n",
       "      <td>NaN</td>\n",
       "      <td>NaN</td>\n",
       "      <td>...</td>\n",
       "      <td>2.898400e+10</td>\n",
       "      <td>NaN</td>\n",
       "      <td>NaN</td>\n",
       "      <td>NaN</td>\n",
       "      <td>3.993500e+10</td>\n",
       "      <td>4.248900e+10</td>\n",
       "      <td>4.597600e+10</td>\n",
       "      <td>5.376049e+10</td>\n",
       "      <td>NaN</td>\n",
       "      <td>NaN</td>\n",
       "    </tr>\n",
       "    <tr>\n",
       "      <th>17</th>\n",
       "      <td>Burkina Faso</td>\n",
       "      <td>BFA</td>\n",
       "      <td>Military expenditure (current LCU)</td>\n",
       "      <td>MS.MIL.XPND.CN</td>\n",
       "      <td>NaN</td>\n",
       "      <td>NaN</td>\n",
       "      <td>NaN</td>\n",
       "      <td>NaN</td>\n",
       "      <td>NaN</td>\n",
       "      <td>NaN</td>\n",
       "      <td>...</td>\n",
       "      <td>5.239300e+10</td>\n",
       "      <td>6.012500e+10</td>\n",
       "      <td>6.126600e+10</td>\n",
       "      <td>6.551900e+10</td>\n",
       "      <td>7.541900e+10</td>\n",
       "      <td>7.881600e+10</td>\n",
       "      <td>1.009460e+11</td>\n",
       "      <td>NaN</td>\n",
       "      <td>NaN</td>\n",
       "      <td>NaN</td>\n",
       "    </tr>\n",
       "    <tr>\n",
       "      <th>18</th>\n",
       "      <td>Bangladesh</td>\n",
       "      <td>BGD</td>\n",
       "      <td>Military expenditure (current LCU)</td>\n",
       "      <td>MS.MIL.XPND.CN</td>\n",
       "      <td>NaN</td>\n",
       "      <td>NaN</td>\n",
       "      <td>NaN</td>\n",
       "      <td>NaN</td>\n",
       "      <td>NaN</td>\n",
       "      <td>NaN</td>\n",
       "      <td>...</td>\n",
       "      <td>7.065762e+07</td>\n",
       "      <td>8.690581e+07</td>\n",
       "      <td>1.131540e+08</td>\n",
       "      <td>1.335885e+08</td>\n",
       "      <td>1.492705e+08</td>\n",
       "      <td>1.599545e+08</td>\n",
       "      <td>1.843225e+08</td>\n",
       "      <td>2.080480e+08</td>\n",
       "      <td>NaN</td>\n",
       "      <td>NaN</td>\n",
       "    </tr>\n",
       "    <tr>\n",
       "      <th>19</th>\n",
       "      <td>Bulgaria</td>\n",
       "      <td>BGR</td>\n",
       "      <td>Military expenditure (current LCU)</td>\n",
       "      <td>MS.MIL.XPND.CN</td>\n",
       "      <td>NaN</td>\n",
       "      <td>NaN</td>\n",
       "      <td>NaN</td>\n",
       "      <td>NaN</td>\n",
       "      <td>NaN</td>\n",
       "      <td>NaN</td>\n",
       "      <td>...</td>\n",
       "      <td>1.388000e+09</td>\n",
       "      <td>1.355000e+09</td>\n",
       "      <td>1.320000e+09</td>\n",
       "      <td>1.166000e+09</td>\n",
       "      <td>1.229100e+09</td>\n",
       "      <td>1.325600e+09</td>\n",
       "      <td>1.232000e+09</td>\n",
       "      <td>1.166000e+09</td>\n",
       "      <td>NaN</td>\n",
       "      <td>NaN</td>\n",
       "    </tr>\n",
       "    <tr>\n",
       "      <th>20</th>\n",
       "      <td>Bahrain</td>\n",
       "      <td>BHR</td>\n",
       "      <td>Military expenditure (current LCU)</td>\n",
       "      <td>MS.MIL.XPND.CN</td>\n",
       "      <td>NaN</td>\n",
       "      <td>NaN</td>\n",
       "      <td>NaN</td>\n",
       "      <td>NaN</td>\n",
       "      <td>NaN</td>\n",
       "      <td>NaN</td>\n",
       "      <td>...</td>\n",
       "      <td>2.707000e+08</td>\n",
       "      <td>3.114000e+08</td>\n",
       "      <td>3.169000e+08</td>\n",
       "      <td>3.886000e+08</td>\n",
       "      <td>4.445000e+08</td>\n",
       "      <td>5.067000e+08</td>\n",
       "      <td>5.547000e+08</td>\n",
       "      <td>5.375000e+08</td>\n",
       "      <td>NaN</td>\n",
       "      <td>NaN</td>\n",
       "    </tr>\n",
       "    <tr>\n",
       "      <th>21</th>\n",
       "      <td>Bahamas, The</td>\n",
       "      <td>BHS</td>\n",
       "      <td>Military expenditure (current LCU)</td>\n",
       "      <td>MS.MIL.XPND.CN</td>\n",
       "      <td>NaN</td>\n",
       "      <td>NaN</td>\n",
       "      <td>NaN</td>\n",
       "      <td>NaN</td>\n",
       "      <td>NaN</td>\n",
       "      <td>NaN</td>\n",
       "      <td>...</td>\n",
       "      <td>NaN</td>\n",
       "      <td>NaN</td>\n",
       "      <td>NaN</td>\n",
       "      <td>NaN</td>\n",
       "      <td>NaN</td>\n",
       "      <td>NaN</td>\n",
       "      <td>NaN</td>\n",
       "      <td>NaN</td>\n",
       "      <td>NaN</td>\n",
       "      <td>NaN</td>\n",
       "    </tr>\n",
       "    <tr>\n",
       "      <th>22</th>\n",
       "      <td>Bosnia and Herzegovina</td>\n",
       "      <td>BIH</td>\n",
       "      <td>Military expenditure (current LCU)</td>\n",
       "      <td>MS.MIL.XPND.CN</td>\n",
       "      <td>NaN</td>\n",
       "      <td>NaN</td>\n",
       "      <td>NaN</td>\n",
       "      <td>NaN</td>\n",
       "      <td>NaN</td>\n",
       "      <td>NaN</td>\n",
       "      <td>...</td>\n",
       "      <td>3.114920e+08</td>\n",
       "      <td>3.413730e+08</td>\n",
       "      <td>3.247580e+08</td>\n",
       "      <td>2.981000e+08</td>\n",
       "      <td>3.004000e+08</td>\n",
       "      <td>2.911000e+08</td>\n",
       "      <td>2.806530e+08</td>\n",
       "      <td>2.860660e+08</td>\n",
       "      <td>NaN</td>\n",
       "      <td>NaN</td>\n",
       "    </tr>\n",
       "    <tr>\n",
       "      <th>23</th>\n",
       "      <td>Belarus</td>\n",
       "      <td>BLR</td>\n",
       "      <td>Military expenditure (current LCU)</td>\n",
       "      <td>MS.MIL.XPND.CN</td>\n",
       "      <td>NaN</td>\n",
       "      <td>NaN</td>\n",
       "      <td>NaN</td>\n",
       "      <td>NaN</td>\n",
       "      <td>NaN</td>\n",
       "      <td>NaN</td>\n",
       "      <td>...</td>\n",
       "      <td>1.886500e+12</td>\n",
       "      <td>1.886500e+12</td>\n",
       "      <td>2.286600e+12</td>\n",
       "      <td>3.762200e+12</td>\n",
       "      <td>6.811830e+12</td>\n",
       "      <td>8.623486e+12</td>\n",
       "      <td>1.033480e+13</td>\n",
       "      <td>1.152500e+13</td>\n",
       "      <td>NaN</td>\n",
       "      <td>NaN</td>\n",
       "    </tr>\n",
       "    <tr>\n",
       "      <th>24</th>\n",
       "      <td>Belize</td>\n",
       "      <td>BLZ</td>\n",
       "      <td>Military expenditure (current LCU)</td>\n",
       "      <td>MS.MIL.XPND.CN</td>\n",
       "      <td>NaN</td>\n",
       "      <td>NaN</td>\n",
       "      <td>NaN</td>\n",
       "      <td>NaN</td>\n",
       "      <td>NaN</td>\n",
       "      <td>NaN</td>\n",
       "      <td>...</td>\n",
       "      <td>3.743548e+07</td>\n",
       "      <td>3.453508e+07</td>\n",
       "      <td>3.067450e+07</td>\n",
       "      <td>3.083250e+07</td>\n",
       "      <td>3.043825e+07</td>\n",
       "      <td>3.555775e+07</td>\n",
       "      <td>3.552050e+07</td>\n",
       "      <td>3.926425e+07</td>\n",
       "      <td>NaN</td>\n",
       "      <td>NaN</td>\n",
       "    </tr>\n",
       "    <tr>\n",
       "      <th>25</th>\n",
       "      <td>Bermuda</td>\n",
       "      <td>BMU</td>\n",
       "      <td>Military expenditure (current LCU)</td>\n",
       "      <td>MS.MIL.XPND.CN</td>\n",
       "      <td>NaN</td>\n",
       "      <td>NaN</td>\n",
       "      <td>NaN</td>\n",
       "      <td>NaN</td>\n",
       "      <td>NaN</td>\n",
       "      <td>NaN</td>\n",
       "      <td>...</td>\n",
       "      <td>NaN</td>\n",
       "      <td>NaN</td>\n",
       "      <td>NaN</td>\n",
       "      <td>NaN</td>\n",
       "      <td>NaN</td>\n",
       "      <td>NaN</td>\n",
       "      <td>NaN</td>\n",
       "      <td>NaN</td>\n",
       "      <td>NaN</td>\n",
       "      <td>NaN</td>\n",
       "    </tr>\n",
       "    <tr>\n",
       "      <th>26</th>\n",
       "      <td>Bolivia</td>\n",
       "      <td>BOL</td>\n",
       "      <td>Military expenditure (current LCU)</td>\n",
       "      <td>MS.MIL.XPND.CN</td>\n",
       "      <td>NaN</td>\n",
       "      <td>NaN</td>\n",
       "      <td>NaN</td>\n",
       "      <td>NaN</td>\n",
       "      <td>NaN</td>\n",
       "      <td>NaN</td>\n",
       "      <td>...</td>\n",
       "      <td>2.368340e+09</td>\n",
       "      <td>2.427360e+09</td>\n",
       "      <td>2.297350e+09</td>\n",
       "      <td>2.799539e+09</td>\n",
       "      <td>3.454102e+09</td>\n",
       "      <td>3.900072e+09</td>\n",
       "      <td>4.324866e+09</td>\n",
       "      <td>3.698754e+09</td>\n",
       "      <td>NaN</td>\n",
       "      <td>NaN</td>\n",
       "    </tr>\n",
       "    <tr>\n",
       "      <th>27</th>\n",
       "      <td>Brazil</td>\n",
       "      <td>BRA</td>\n",
       "      <td>Military expenditure (current LCU)</td>\n",
       "      <td>MS.MIL.XPND.CN</td>\n",
       "      <td>NaN</td>\n",
       "      <td>NaN</td>\n",
       "      <td>NaN</td>\n",
       "      <td>NaN</td>\n",
       "      <td>NaN</td>\n",
       "      <td>NaN</td>\n",
       "      <td>...</td>\n",
       "      <td>4.484100e+10</td>\n",
       "      <td>5.128300e+10</td>\n",
       "      <td>5.981900e+10</td>\n",
       "      <td>6.178800e+10</td>\n",
       "      <td>6.637900e+10</td>\n",
       "      <td>7.088100e+10</td>\n",
       "      <td>7.687420e+10</td>\n",
       "      <td>8.187350e+10</td>\n",
       "      <td>NaN</td>\n",
       "      <td>NaN</td>\n",
       "    </tr>\n",
       "    <tr>\n",
       "      <th>28</th>\n",
       "      <td>Barbados</td>\n",
       "      <td>BRB</td>\n",
       "      <td>Military expenditure (current LCU)</td>\n",
       "      <td>MS.MIL.XPND.CN</td>\n",
       "      <td>NaN</td>\n",
       "      <td>NaN</td>\n",
       "      <td>NaN</td>\n",
       "      <td>NaN</td>\n",
       "      <td>NaN</td>\n",
       "      <td>NaN</td>\n",
       "      <td>...</td>\n",
       "      <td>NaN</td>\n",
       "      <td>NaN</td>\n",
       "      <td>NaN</td>\n",
       "      <td>NaN</td>\n",
       "      <td>NaN</td>\n",
       "      <td>NaN</td>\n",
       "      <td>NaN</td>\n",
       "      <td>NaN</td>\n",
       "      <td>NaN</td>\n",
       "      <td>NaN</td>\n",
       "    </tr>\n",
       "    <tr>\n",
       "      <th>29</th>\n",
       "      <td>Brunei Darussalam</td>\n",
       "      <td>BRN</td>\n",
       "      <td>Military expenditure (current LCU)</td>\n",
       "      <td>MS.MIL.XPND.CN</td>\n",
       "      <td>NaN</td>\n",
       "      <td>NaN</td>\n",
       "      <td>NaN</td>\n",
       "      <td>NaN</td>\n",
       "      <td>NaN</td>\n",
       "      <td>NaN</td>\n",
       "      <td>...</td>\n",
       "      <td>5.130000e+08</td>\n",
       "      <td>5.087500e+08</td>\n",
       "      <td>5.327500e+08</td>\n",
       "      <td>5.225000e+08</td>\n",
       "      <td>5.139000e+08</td>\n",
       "      <td>5.156000e+08</td>\n",
       "      <td>6.687250e+08</td>\n",
       "      <td>5.829925e+08</td>\n",
       "      <td>NaN</td>\n",
       "      <td>NaN</td>\n",
       "    </tr>\n",
       "    <tr>\n",
       "      <th>...</th>\n",
       "      <td>...</td>\n",
       "      <td>...</td>\n",
       "      <td>...</td>\n",
       "      <td>...</td>\n",
       "      <td>...</td>\n",
       "      <td>...</td>\n",
       "      <td>...</td>\n",
       "      <td>...</td>\n",
       "      <td>...</td>\n",
       "      <td>...</td>\n",
       "      <td>...</td>\n",
       "      <td>...</td>\n",
       "      <td>...</td>\n",
       "      <td>...</td>\n",
       "      <td>...</td>\n",
       "      <td>...</td>\n",
       "      <td>...</td>\n",
       "      <td>...</td>\n",
       "      <td>...</td>\n",
       "      <td>...</td>\n",
       "      <td>...</td>\n",
       "    </tr>\n",
       "    <tr>\n",
       "      <th>234</th>\n",
       "      <td>Middle East &amp; North Africa (IDA &amp; IBRD countries)</td>\n",
       "      <td>TMN</td>\n",
       "      <td>Military expenditure (current LCU)</td>\n",
       "      <td>MS.MIL.XPND.CN</td>\n",
       "      <td>NaN</td>\n",
       "      <td>NaN</td>\n",
       "      <td>NaN</td>\n",
       "      <td>NaN</td>\n",
       "      <td>NaN</td>\n",
       "      <td>NaN</td>\n",
       "      <td>...</td>\n",
       "      <td>NaN</td>\n",
       "      <td>NaN</td>\n",
       "      <td>NaN</td>\n",
       "      <td>NaN</td>\n",
       "      <td>NaN</td>\n",
       "      <td>NaN</td>\n",
       "      <td>NaN</td>\n",
       "      <td>NaN</td>\n",
       "      <td>NaN</td>\n",
       "      <td>NaN</td>\n",
       "    </tr>\n",
       "    <tr>\n",
       "      <th>235</th>\n",
       "      <td>Timor-Leste</td>\n",
       "      <td>TLS</td>\n",
       "      <td>Military expenditure (current LCU)</td>\n",
       "      <td>MS.MIL.XPND.CN</td>\n",
       "      <td>NaN</td>\n",
       "      <td>NaN</td>\n",
       "      <td>NaN</td>\n",
       "      <td>NaN</td>\n",
       "      <td>NaN</td>\n",
       "      <td>NaN</td>\n",
       "      <td>...</td>\n",
       "      <td>2.365100e+07</td>\n",
       "      <td>3.648100e+07</td>\n",
       "      <td>2.638900e+07</td>\n",
       "      <td>2.053000e+07</td>\n",
       "      <td>3.338800e+07</td>\n",
       "      <td>3.168300e+07</td>\n",
       "      <td>2.962400e+07</td>\n",
       "      <td>3.695900e+07</td>\n",
       "      <td>NaN</td>\n",
       "      <td>NaN</td>\n",
       "    </tr>\n",
       "    <tr>\n",
       "      <th>236</th>\n",
       "      <td>Tonga</td>\n",
       "      <td>TON</td>\n",
       "      <td>Military expenditure (current LCU)</td>\n",
       "      <td>MS.MIL.XPND.CN</td>\n",
       "      <td>NaN</td>\n",
       "      <td>NaN</td>\n",
       "      <td>NaN</td>\n",
       "      <td>NaN</td>\n",
       "      <td>NaN</td>\n",
       "      <td>NaN</td>\n",
       "      <td>...</td>\n",
       "      <td>NaN</td>\n",
       "      <td>NaN</td>\n",
       "      <td>NaN</td>\n",
       "      <td>NaN</td>\n",
       "      <td>NaN</td>\n",
       "      <td>NaN</td>\n",
       "      <td>NaN</td>\n",
       "      <td>NaN</td>\n",
       "      <td>NaN</td>\n",
       "      <td>NaN</td>\n",
       "    </tr>\n",
       "    <tr>\n",
       "      <th>237</th>\n",
       "      <td>South Asia (IDA &amp; IBRD)</td>\n",
       "      <td>TSA</td>\n",
       "      <td>Military expenditure (current LCU)</td>\n",
       "      <td>MS.MIL.XPND.CN</td>\n",
       "      <td>NaN</td>\n",
       "      <td>NaN</td>\n",
       "      <td>NaN</td>\n",
       "      <td>NaN</td>\n",
       "      <td>NaN</td>\n",
       "      <td>NaN</td>\n",
       "      <td>...</td>\n",
       "      <td>NaN</td>\n",
       "      <td>NaN</td>\n",
       "      <td>NaN</td>\n",
       "      <td>NaN</td>\n",
       "      <td>NaN</td>\n",
       "      <td>NaN</td>\n",
       "      <td>NaN</td>\n",
       "      <td>NaN</td>\n",
       "      <td>NaN</td>\n",
       "      <td>NaN</td>\n",
       "    </tr>\n",
       "    <tr>\n",
       "      <th>238</th>\n",
       "      <td>Sub-Saharan Africa (IDA &amp; IBRD countries)</td>\n",
       "      <td>TSS</td>\n",
       "      <td>Military expenditure (current LCU)</td>\n",
       "      <td>MS.MIL.XPND.CN</td>\n",
       "      <td>NaN</td>\n",
       "      <td>NaN</td>\n",
       "      <td>NaN</td>\n",
       "      <td>NaN</td>\n",
       "      <td>NaN</td>\n",
       "      <td>NaN</td>\n",
       "      <td>...</td>\n",
       "      <td>NaN</td>\n",
       "      <td>NaN</td>\n",
       "      <td>NaN</td>\n",
       "      <td>NaN</td>\n",
       "      <td>NaN</td>\n",
       "      <td>NaN</td>\n",
       "      <td>NaN</td>\n",
       "      <td>NaN</td>\n",
       "      <td>NaN</td>\n",
       "      <td>NaN</td>\n",
       "    </tr>\n",
       "    <tr>\n",
       "      <th>239</th>\n",
       "      <td>Trinidad and Tobago</td>\n",
       "      <td>TTO</td>\n",
       "      <td>Military expenditure (current LCU)</td>\n",
       "      <td>MS.MIL.XPND.CN</td>\n",
       "      <td>NaN</td>\n",
       "      <td>NaN</td>\n",
       "      <td>NaN</td>\n",
       "      <td>NaN</td>\n",
       "      <td>NaN</td>\n",
       "      <td>NaN</td>\n",
       "      <td>...</td>\n",
       "      <td>8.748500e+08</td>\n",
       "      <td>8.761500e+08</td>\n",
       "      <td>9.121000e+08</td>\n",
       "      <td>9.362750e+08</td>\n",
       "      <td>1.085075e+09</td>\n",
       "      <td>1.360529e+09</td>\n",
       "      <td>1.250492e+09</td>\n",
       "      <td>1.621723e+09</td>\n",
       "      <td>NaN</td>\n",
       "      <td>NaN</td>\n",
       "    </tr>\n",
       "    <tr>\n",
       "      <th>240</th>\n",
       "      <td>Tunisia</td>\n",
       "      <td>TUN</td>\n",
       "      <td>Military expenditure (current LCU)</td>\n",
       "      <td>MS.MIL.XPND.CN</td>\n",
       "      <td>NaN</td>\n",
       "      <td>NaN</td>\n",
       "      <td>NaN</td>\n",
       "      <td>NaN</td>\n",
       "      <td>NaN</td>\n",
       "      <td>NaN</td>\n",
       "      <td>...</td>\n",
       "      <td>7.133000e+08</td>\n",
       "      <td>7.626000e+08</td>\n",
       "      <td>8.176000e+08</td>\n",
       "      <td>1.006900e+09</td>\n",
       "      <td>1.064000e+09</td>\n",
       "      <td>1.233700e+09</td>\n",
       "      <td>1.564900e+09</td>\n",
       "      <td>1.921400e+09</td>\n",
       "      <td>NaN</td>\n",
       "      <td>NaN</td>\n",
       "    </tr>\n",
       "    <tr>\n",
       "      <th>241</th>\n",
       "      <td>Turkey</td>\n",
       "      <td>TUR</td>\n",
       "      <td>Military expenditure (current LCU)</td>\n",
       "      <td>MS.MIL.XPND.CN</td>\n",
       "      <td>NaN</td>\n",
       "      <td>NaN</td>\n",
       "      <td>NaN</td>\n",
       "      <td>NaN</td>\n",
       "      <td>NaN</td>\n",
       "      <td>NaN</td>\n",
       "      <td>...</td>\n",
       "      <td>2.229154e+10</td>\n",
       "      <td>2.534541e+10</td>\n",
       "      <td>2.696018e+10</td>\n",
       "      <td>2.898481e+10</td>\n",
       "      <td>3.225300e+10</td>\n",
       "      <td>3.543804e+10</td>\n",
       "      <td>3.889105e+10</td>\n",
       "      <td>4.154622e+10</td>\n",
       "      <td>NaN</td>\n",
       "      <td>NaN</td>\n",
       "    </tr>\n",
       "    <tr>\n",
       "      <th>242</th>\n",
       "      <td>Tuvalu</td>\n",
       "      <td>TUV</td>\n",
       "      <td>Military expenditure (current LCU)</td>\n",
       "      <td>MS.MIL.XPND.CN</td>\n",
       "      <td>NaN</td>\n",
       "      <td>NaN</td>\n",
       "      <td>NaN</td>\n",
       "      <td>NaN</td>\n",
       "      <td>NaN</td>\n",
       "      <td>NaN</td>\n",
       "      <td>...</td>\n",
       "      <td>NaN</td>\n",
       "      <td>NaN</td>\n",
       "      <td>NaN</td>\n",
       "      <td>NaN</td>\n",
       "      <td>NaN</td>\n",
       "      <td>NaN</td>\n",
       "      <td>NaN</td>\n",
       "      <td>NaN</td>\n",
       "      <td>NaN</td>\n",
       "      <td>NaN</td>\n",
       "    </tr>\n",
       "    <tr>\n",
       "      <th>243</th>\n",
       "      <td>Tanzania</td>\n",
       "      <td>TZA</td>\n",
       "      <td>Military expenditure (current LCU)</td>\n",
       "      <td>MS.MIL.XPND.CN</td>\n",
       "      <td>NaN</td>\n",
       "      <td>NaN</td>\n",
       "      <td>NaN</td>\n",
       "      <td>NaN</td>\n",
       "      <td>NaN</td>\n",
       "      <td>NaN</td>\n",
       "      <td>...</td>\n",
       "      <td>2.320845e+11</td>\n",
       "      <td>2.897775e+11</td>\n",
       "      <td>3.984360e+11</td>\n",
       "      <td>4.833860e+11</td>\n",
       "      <td>5.694675e+11</td>\n",
       "      <td>7.096030e+11</td>\n",
       "      <td>8.207820e+11</td>\n",
       "      <td>1.021405e+12</td>\n",
       "      <td>NaN</td>\n",
       "      <td>NaN</td>\n",
       "    </tr>\n",
       "    <tr>\n",
       "      <th>244</th>\n",
       "      <td>Uganda</td>\n",
       "      <td>UGA</td>\n",
       "      <td>Military expenditure (current LCU)</td>\n",
       "      <td>MS.MIL.XPND.CN</td>\n",
       "      <td>NaN</td>\n",
       "      <td>NaN</td>\n",
       "      <td>NaN</td>\n",
       "      <td>NaN</td>\n",
       "      <td>NaN</td>\n",
       "      <td>NaN</td>\n",
       "      <td>...</td>\n",
       "      <td>5.365300e+11</td>\n",
       "      <td>5.960050e+11</td>\n",
       "      <td>1.325450e+12</td>\n",
       "      <td>1.531650e+12</td>\n",
       "      <td>8.812000e+11</td>\n",
       "      <td>7.762625e+11</td>\n",
       "      <td>8.466550e+11</td>\n",
       "      <td>9.335538e+11</td>\n",
       "      <td>NaN</td>\n",
       "      <td>NaN</td>\n",
       "    </tr>\n",
       "    <tr>\n",
       "      <th>245</th>\n",
       "      <td>Ukraine</td>\n",
       "      <td>UKR</td>\n",
       "      <td>Military expenditure (current LCU)</td>\n",
       "      <td>MS.MIL.XPND.CN</td>\n",
       "      <td>NaN</td>\n",
       "      <td>NaN</td>\n",
       "      <td>NaN</td>\n",
       "      <td>NaN</td>\n",
       "      <td>NaN</td>\n",
       "      <td>NaN</td>\n",
       "      <td>...</td>\n",
       "      <td>2.534070e+10</td>\n",
       "      <td>2.689900e+10</td>\n",
       "      <td>2.959600e+10</td>\n",
       "      <td>2.935800e+10</td>\n",
       "      <td>3.305800e+10</td>\n",
       "      <td>3.506100e+10</td>\n",
       "      <td>4.794300e+10</td>\n",
       "      <td>7.912500e+10</td>\n",
       "      <td>NaN</td>\n",
       "      <td>NaN</td>\n",
       "    </tr>\n",
       "    <tr>\n",
       "      <th>246</th>\n",
       "      <td>Upper middle income</td>\n",
       "      <td>UMC</td>\n",
       "      <td>Military expenditure (current LCU)</td>\n",
       "      <td>MS.MIL.XPND.CN</td>\n",
       "      <td>NaN</td>\n",
       "      <td>NaN</td>\n",
       "      <td>NaN</td>\n",
       "      <td>NaN</td>\n",
       "      <td>NaN</td>\n",
       "      <td>NaN</td>\n",
       "      <td>...</td>\n",
       "      <td>NaN</td>\n",
       "      <td>NaN</td>\n",
       "      <td>NaN</td>\n",
       "      <td>NaN</td>\n",
       "      <td>NaN</td>\n",
       "      <td>NaN</td>\n",
       "      <td>NaN</td>\n",
       "      <td>NaN</td>\n",
       "      <td>NaN</td>\n",
       "      <td>NaN</td>\n",
       "    </tr>\n",
       "    <tr>\n",
       "      <th>247</th>\n",
       "      <td>Uruguay</td>\n",
       "      <td>URY</td>\n",
       "      <td>Military expenditure (current LCU)</td>\n",
       "      <td>MS.MIL.XPND.CN</td>\n",
       "      <td>NaN</td>\n",
       "      <td>NaN</td>\n",
       "      <td>NaN</td>\n",
       "      <td>NaN</td>\n",
       "      <td>NaN</td>\n",
       "      <td>NaN</td>\n",
       "      <td>...</td>\n",
       "      <td>1.242200e+10</td>\n",
       "      <td>1.468200e+10</td>\n",
       "      <td>1.580700e+10</td>\n",
       "      <td>1.626400e+10</td>\n",
       "      <td>1.838100e+10</td>\n",
       "      <td>2.188500e+10</td>\n",
       "      <td>1.980070e+10</td>\n",
       "      <td>2.629920e+10</td>\n",
       "      <td>NaN</td>\n",
       "      <td>NaN</td>\n",
       "    </tr>\n",
       "    <tr>\n",
       "      <th>248</th>\n",
       "      <td>United States</td>\n",
       "      <td>USA</td>\n",
       "      <td>Military expenditure (current LCU)</td>\n",
       "      <td>MS.MIL.XPND.CN</td>\n",
       "      <td>NaN</td>\n",
       "      <td>NaN</td>\n",
       "      <td>NaN</td>\n",
       "      <td>NaN</td>\n",
       "      <td>NaN</td>\n",
       "      <td>NaN</td>\n",
       "      <td>...</td>\n",
       "      <td>6.211310e+11</td>\n",
       "      <td>6.685670e+11</td>\n",
       "      <td>6.981800e+11</td>\n",
       "      <td>7.113380e+11</td>\n",
       "      <td>6.847800e+11</td>\n",
       "      <td>6.397040e+11</td>\n",
       "      <td>6.099140e+11</td>\n",
       "      <td>5.960240e+11</td>\n",
       "      <td>NaN</td>\n",
       "      <td>NaN</td>\n",
       "    </tr>\n",
       "    <tr>\n",
       "      <th>249</th>\n",
       "      <td>Uzbekistan</td>\n",
       "      <td>UZB</td>\n",
       "      <td>Military expenditure (current LCU)</td>\n",
       "      <td>MS.MIL.XPND.CN</td>\n",
       "      <td>NaN</td>\n",
       "      <td>NaN</td>\n",
       "      <td>NaN</td>\n",
       "      <td>NaN</td>\n",
       "      <td>NaN</td>\n",
       "      <td>NaN</td>\n",
       "      <td>...</td>\n",
       "      <td>NaN</td>\n",
       "      <td>NaN</td>\n",
       "      <td>NaN</td>\n",
       "      <td>NaN</td>\n",
       "      <td>NaN</td>\n",
       "      <td>NaN</td>\n",
       "      <td>NaN</td>\n",
       "      <td>NaN</td>\n",
       "      <td>NaN</td>\n",
       "      <td>NaN</td>\n",
       "    </tr>\n",
       "    <tr>\n",
       "      <th>250</th>\n",
       "      <td>St. Vincent and the Grenadines</td>\n",
       "      <td>VCT</td>\n",
       "      <td>Military expenditure (current LCU)</td>\n",
       "      <td>MS.MIL.XPND.CN</td>\n",
       "      <td>NaN</td>\n",
       "      <td>NaN</td>\n",
       "      <td>NaN</td>\n",
       "      <td>NaN</td>\n",
       "      <td>NaN</td>\n",
       "      <td>NaN</td>\n",
       "      <td>...</td>\n",
       "      <td>NaN</td>\n",
       "      <td>NaN</td>\n",
       "      <td>NaN</td>\n",
       "      <td>NaN</td>\n",
       "      <td>NaN</td>\n",
       "      <td>NaN</td>\n",
       "      <td>NaN</td>\n",
       "      <td>NaN</td>\n",
       "      <td>NaN</td>\n",
       "      <td>NaN</td>\n",
       "    </tr>\n",
       "    <tr>\n",
       "      <th>251</th>\n",
       "      <td>Venezuela, RB</td>\n",
       "      <td>VEN</td>\n",
       "      <td>Military expenditure (current LCU)</td>\n",
       "      <td>MS.MIL.XPND.CN</td>\n",
       "      <td>NaN</td>\n",
       "      <td>NaN</td>\n",
       "      <td>NaN</td>\n",
       "      <td>NaN</td>\n",
       "      <td>NaN</td>\n",
       "      <td>NaN</td>\n",
       "      <td>...</td>\n",
       "      <td>9.286000e+09</td>\n",
       "      <td>8.631000e+09</td>\n",
       "      <td>8.683000e+09</td>\n",
       "      <td>1.022900e+10</td>\n",
       "      <td>2.129900e+10</td>\n",
       "      <td>3.213600e+10</td>\n",
       "      <td>3.504200e+10</td>\n",
       "      <td>3.308500e+10</td>\n",
       "      <td>NaN</td>\n",
       "      <td>NaN</td>\n",
       "    </tr>\n",
       "    <tr>\n",
       "      <th>252</th>\n",
       "      <td>British Virgin Islands</td>\n",
       "      <td>VGB</td>\n",
       "      <td>Military expenditure (current LCU)</td>\n",
       "      <td>MS.MIL.XPND.CN</td>\n",
       "      <td>NaN</td>\n",
       "      <td>NaN</td>\n",
       "      <td>NaN</td>\n",
       "      <td>NaN</td>\n",
       "      <td>NaN</td>\n",
       "      <td>NaN</td>\n",
       "      <td>...</td>\n",
       "      <td>NaN</td>\n",
       "      <td>NaN</td>\n",
       "      <td>NaN</td>\n",
       "      <td>NaN</td>\n",
       "      <td>NaN</td>\n",
       "      <td>NaN</td>\n",
       "      <td>NaN</td>\n",
       "      <td>NaN</td>\n",
       "      <td>NaN</td>\n",
       "      <td>NaN</td>\n",
       "    </tr>\n",
       "    <tr>\n",
       "      <th>253</th>\n",
       "      <td>Virgin Islands (U.S.)</td>\n",
       "      <td>VIR</td>\n",
       "      <td>Military expenditure (current LCU)</td>\n",
       "      <td>MS.MIL.XPND.CN</td>\n",
       "      <td>NaN</td>\n",
       "      <td>NaN</td>\n",
       "      <td>NaN</td>\n",
       "      <td>NaN</td>\n",
       "      <td>NaN</td>\n",
       "      <td>NaN</td>\n",
       "      <td>...</td>\n",
       "      <td>NaN</td>\n",
       "      <td>NaN</td>\n",
       "      <td>NaN</td>\n",
       "      <td>NaN</td>\n",
       "      <td>NaN</td>\n",
       "      <td>NaN</td>\n",
       "      <td>NaN</td>\n",
       "      <td>NaN</td>\n",
       "      <td>NaN</td>\n",
       "      <td>NaN</td>\n",
       "    </tr>\n",
       "    <tr>\n",
       "      <th>254</th>\n",
       "      <td>Vietnam</td>\n",
       "      <td>VNM</td>\n",
       "      <td>Military expenditure (current LCU)</td>\n",
       "      <td>MS.MIL.XPND.CN</td>\n",
       "      <td>NaN</td>\n",
       "      <td>NaN</td>\n",
       "      <td>NaN</td>\n",
       "      <td>NaN</td>\n",
       "      <td>NaN</td>\n",
       "      <td>NaN</td>\n",
       "      <td>...</td>\n",
       "      <td>3.484800e+13</td>\n",
       "      <td>4.098100e+13</td>\n",
       "      <td>4.973900e+13</td>\n",
       "      <td>5.510000e+13</td>\n",
       "      <td>7.000000e+13</td>\n",
       "      <td>7.802400e+13</td>\n",
       "      <td>9.000000e+13</td>\n",
       "      <td>9.900000e+13</td>\n",
       "      <td>NaN</td>\n",
       "      <td>NaN</td>\n",
       "    </tr>\n",
       "    <tr>\n",
       "      <th>255</th>\n",
       "      <td>Vanuatu</td>\n",
       "      <td>VUT</td>\n",
       "      <td>Military expenditure (current LCU)</td>\n",
       "      <td>MS.MIL.XPND.CN</td>\n",
       "      <td>NaN</td>\n",
       "      <td>NaN</td>\n",
       "      <td>NaN</td>\n",
       "      <td>NaN</td>\n",
       "      <td>NaN</td>\n",
       "      <td>NaN</td>\n",
       "      <td>...</td>\n",
       "      <td>NaN</td>\n",
       "      <td>NaN</td>\n",
       "      <td>NaN</td>\n",
       "      <td>NaN</td>\n",
       "      <td>NaN</td>\n",
       "      <td>NaN</td>\n",
       "      <td>NaN</td>\n",
       "      <td>NaN</td>\n",
       "      <td>NaN</td>\n",
       "      <td>NaN</td>\n",
       "    </tr>\n",
       "    <tr>\n",
       "      <th>256</th>\n",
       "      <td>West Bank and Gaza</td>\n",
       "      <td>PSE</td>\n",
       "      <td>Military expenditure (current LCU)</td>\n",
       "      <td>MS.MIL.XPND.CN</td>\n",
       "      <td>NaN</td>\n",
       "      <td>NaN</td>\n",
       "      <td>NaN</td>\n",
       "      <td>NaN</td>\n",
       "      <td>NaN</td>\n",
       "      <td>NaN</td>\n",
       "      <td>...</td>\n",
       "      <td>NaN</td>\n",
       "      <td>NaN</td>\n",
       "      <td>NaN</td>\n",
       "      <td>NaN</td>\n",
       "      <td>NaN</td>\n",
       "      <td>NaN</td>\n",
       "      <td>NaN</td>\n",
       "      <td>NaN</td>\n",
       "      <td>NaN</td>\n",
       "      <td>NaN</td>\n",
       "    </tr>\n",
       "    <tr>\n",
       "      <th>257</th>\n",
       "      <td>World</td>\n",
       "      <td>WLD</td>\n",
       "      <td>Military expenditure (current LCU)</td>\n",
       "      <td>MS.MIL.XPND.CN</td>\n",
       "      <td>NaN</td>\n",
       "      <td>NaN</td>\n",
       "      <td>NaN</td>\n",
       "      <td>NaN</td>\n",
       "      <td>NaN</td>\n",
       "      <td>NaN</td>\n",
       "      <td>...</td>\n",
       "      <td>NaN</td>\n",
       "      <td>NaN</td>\n",
       "      <td>NaN</td>\n",
       "      <td>NaN</td>\n",
       "      <td>NaN</td>\n",
       "      <td>NaN</td>\n",
       "      <td>NaN</td>\n",
       "      <td>NaN</td>\n",
       "      <td>NaN</td>\n",
       "      <td>NaN</td>\n",
       "    </tr>\n",
       "    <tr>\n",
       "      <th>258</th>\n",
       "      <td>Samoa</td>\n",
       "      <td>WSM</td>\n",
       "      <td>Military expenditure (current LCU)</td>\n",
       "      <td>MS.MIL.XPND.CN</td>\n",
       "      <td>NaN</td>\n",
       "      <td>NaN</td>\n",
       "      <td>NaN</td>\n",
       "      <td>NaN</td>\n",
       "      <td>NaN</td>\n",
       "      <td>NaN</td>\n",
       "      <td>...</td>\n",
       "      <td>NaN</td>\n",
       "      <td>NaN</td>\n",
       "      <td>NaN</td>\n",
       "      <td>NaN</td>\n",
       "      <td>NaN</td>\n",
       "      <td>NaN</td>\n",
       "      <td>NaN</td>\n",
       "      <td>NaN</td>\n",
       "      <td>NaN</td>\n",
       "      <td>NaN</td>\n",
       "    </tr>\n",
       "    <tr>\n",
       "      <th>259</th>\n",
       "      <td>Yemen, Rep.</td>\n",
       "      <td>YEM</td>\n",
       "      <td>Military expenditure (current LCU)</td>\n",
       "      <td>MS.MIL.XPND.CN</td>\n",
       "      <td>NaN</td>\n",
       "      <td>NaN</td>\n",
       "      <td>NaN</td>\n",
       "      <td>NaN</td>\n",
       "      <td>NaN</td>\n",
       "      <td>NaN</td>\n",
       "      <td>...</td>\n",
       "      <td>2.390000e+11</td>\n",
       "      <td>2.882000e+11</td>\n",
       "      <td>3.180000e+11</td>\n",
       "      <td>3.447000e+11</td>\n",
       "      <td>3.470000e+11</td>\n",
       "      <td>3.543000e+11</td>\n",
       "      <td>3.685000e+11</td>\n",
       "      <td>NaN</td>\n",
       "      <td>NaN</td>\n",
       "      <td>NaN</td>\n",
       "    </tr>\n",
       "    <tr>\n",
       "      <th>260</th>\n",
       "      <td>South Africa</td>\n",
       "      <td>ZAF</td>\n",
       "      <td>Military expenditure (current LCU)</td>\n",
       "      <td>MS.MIL.XPND.CN</td>\n",
       "      <td>NaN</td>\n",
       "      <td>NaN</td>\n",
       "      <td>NaN</td>\n",
       "      <td>NaN</td>\n",
       "      <td>NaN</td>\n",
       "      <td>NaN</td>\n",
       "      <td>...</td>\n",
       "      <td>2.714575e+10</td>\n",
       "      <td>3.044325e+10</td>\n",
       "      <td>3.066250e+10</td>\n",
       "      <td>3.335875e+10</td>\n",
       "      <td>3.685940e+10</td>\n",
       "      <td>3.976155e+10</td>\n",
       "      <td>4.225475e+10</td>\n",
       "      <td>4.414880e+10</td>\n",
       "      <td>NaN</td>\n",
       "      <td>NaN</td>\n",
       "    </tr>\n",
       "    <tr>\n",
       "      <th>261</th>\n",
       "      <td>Congo, Dem. Rep.</td>\n",
       "      <td>COD</td>\n",
       "      <td>Military expenditure (current LCU)</td>\n",
       "      <td>MS.MIL.XPND.CN</td>\n",
       "      <td>NaN</td>\n",
       "      <td>NaN</td>\n",
       "      <td>NaN</td>\n",
       "      <td>NaN</td>\n",
       "      <td>NaN</td>\n",
       "      <td>NaN</td>\n",
       "      <td>...</td>\n",
       "      <td>8.948600e+10</td>\n",
       "      <td>9.910000e+10</td>\n",
       "      <td>1.664000e+11</td>\n",
       "      <td>2.195630e+11</td>\n",
       "      <td>3.058130e+11</td>\n",
       "      <td>3.444400e+11</td>\n",
       "      <td>3.157100e+11</td>\n",
       "      <td>4.549150e+11</td>\n",
       "      <td>NaN</td>\n",
       "      <td>NaN</td>\n",
       "    </tr>\n",
       "    <tr>\n",
       "      <th>262</th>\n",
       "      <td>Zambia</td>\n",
       "      <td>ZMB</td>\n",
       "      <td>Military expenditure (current LCU)</td>\n",
       "      <td>MS.MIL.XPND.CN</td>\n",
       "      <td>NaN</td>\n",
       "      <td>NaN</td>\n",
       "      <td>NaN</td>\n",
       "      <td>NaN</td>\n",
       "      <td>NaN</td>\n",
       "      <td>NaN</td>\n",
       "      <td>...</td>\n",
       "      <td>1.041500e+09</td>\n",
       "      <td>1.115000e+09</td>\n",
       "      <td>1.344100e+09</td>\n",
       "      <td>1.502500e+09</td>\n",
       "      <td>1.782500e+09</td>\n",
       "      <td>2.057700e+09</td>\n",
       "      <td>2.729418e+09</td>\n",
       "      <td>3.215100e+09</td>\n",
       "      <td>NaN</td>\n",
       "      <td>NaN</td>\n",
       "    </tr>\n",
       "    <tr>\n",
       "      <th>263</th>\n",
       "      <td>Zimbabwe</td>\n",
       "      <td>ZWE</td>\n",
       "      <td>Military expenditure (current LCU)</td>\n",
       "      <td>MS.MIL.XPND.CN</td>\n",
       "      <td>NaN</td>\n",
       "      <td>NaN</td>\n",
       "      <td>NaN</td>\n",
       "      <td>NaN</td>\n",
       "      <td>NaN</td>\n",
       "      <td>NaN</td>\n",
       "      <td>...</td>\n",
       "      <td>NaN</td>\n",
       "      <td>NaN</td>\n",
       "      <td>9.829300e+07</td>\n",
       "      <td>1.984380e+08</td>\n",
       "      <td>3.182720e+08</td>\n",
       "      <td>3.567000e+08</td>\n",
       "      <td>3.681000e+08</td>\n",
       "      <td>3.766770e+08</td>\n",
       "      <td>NaN</td>\n",
       "      <td>NaN</td>\n",
       "    </tr>\n",
       "  </tbody>\n",
       "</table>\n",
       "<p>264 rows × 62 columns</p>\n",
       "</div>"
      ],
      "text/plain": [
       "                                          Country Name Country Code  \\\n",
       "0                                                Aruba          ABW   \n",
       "1                                              Andorra          AND   \n",
       "2                                          Afghanistan          AFG   \n",
       "3                                               Angola          AGO   \n",
       "4                                              Albania          ALB   \n",
       "5                                           Arab World          ARB   \n",
       "6                                 United Arab Emirates          ARE   \n",
       "7                                            Argentina          ARG   \n",
       "8                                              Armenia          ARM   \n",
       "9                                       American Samoa          ASM   \n",
       "10                                 Antigua and Barbuda          ATG   \n",
       "11                                           Australia          AUS   \n",
       "12                                             Austria          AUT   \n",
       "13                                          Azerbaijan          AZE   \n",
       "14                                             Burundi          BDI   \n",
       "15                                             Belgium          BEL   \n",
       "16                                               Benin          BEN   \n",
       "17                                        Burkina Faso          BFA   \n",
       "18                                          Bangladesh          BGD   \n",
       "19                                            Bulgaria          BGR   \n",
       "20                                             Bahrain          BHR   \n",
       "21                                        Bahamas, The          BHS   \n",
       "22                              Bosnia and Herzegovina          BIH   \n",
       "23                                             Belarus          BLR   \n",
       "24                                              Belize          BLZ   \n",
       "25                                             Bermuda          BMU   \n",
       "26                                             Bolivia          BOL   \n",
       "27                                              Brazil          BRA   \n",
       "28                                            Barbados          BRB   \n",
       "29                                   Brunei Darussalam          BRN   \n",
       "..                                                 ...          ...   \n",
       "234  Middle East & North Africa (IDA & IBRD countries)          TMN   \n",
       "235                                        Timor-Leste          TLS   \n",
       "236                                              Tonga          TON   \n",
       "237                            South Asia (IDA & IBRD)          TSA   \n",
       "238          Sub-Saharan Africa (IDA & IBRD countries)          TSS   \n",
       "239                                Trinidad and Tobago          TTO   \n",
       "240                                            Tunisia          TUN   \n",
       "241                                             Turkey          TUR   \n",
       "242                                             Tuvalu          TUV   \n",
       "243                                           Tanzania          TZA   \n",
       "244                                             Uganda          UGA   \n",
       "245                                            Ukraine          UKR   \n",
       "246                                Upper middle income          UMC   \n",
       "247                                            Uruguay          URY   \n",
       "248                                      United States          USA   \n",
       "249                                         Uzbekistan          UZB   \n",
       "250                     St. Vincent and the Grenadines          VCT   \n",
       "251                                      Venezuela, RB          VEN   \n",
       "252                             British Virgin Islands          VGB   \n",
       "253                              Virgin Islands (U.S.)          VIR   \n",
       "254                                            Vietnam          VNM   \n",
       "255                                            Vanuatu          VUT   \n",
       "256                                 West Bank and Gaza          PSE   \n",
       "257                                              World          WLD   \n",
       "258                                              Samoa          WSM   \n",
       "259                                        Yemen, Rep.          YEM   \n",
       "260                                       South Africa          ZAF   \n",
       "261                                   Congo, Dem. Rep.          COD   \n",
       "262                                             Zambia          ZMB   \n",
       "263                                           Zimbabwe          ZWE   \n",
       "\n",
       "                         Indicator Name  Indicator Code  1960  1961  1962  \\\n",
       "0    Military expenditure (current LCU)  MS.MIL.XPND.CN   NaN   NaN   NaN   \n",
       "1    Military expenditure (current LCU)  MS.MIL.XPND.CN   NaN   NaN   NaN   \n",
       "2    Military expenditure (current LCU)  MS.MIL.XPND.CN   NaN   NaN   NaN   \n",
       "3    Military expenditure (current LCU)  MS.MIL.XPND.CN   NaN   NaN   NaN   \n",
       "4    Military expenditure (current LCU)  MS.MIL.XPND.CN   NaN   NaN   NaN   \n",
       "5    Military expenditure (current LCU)  MS.MIL.XPND.CN   NaN   NaN   NaN   \n",
       "6    Military expenditure (current LCU)  MS.MIL.XPND.CN   NaN   NaN   NaN   \n",
       "7    Military expenditure (current LCU)  MS.MIL.XPND.CN   NaN   NaN   NaN   \n",
       "8    Military expenditure (current LCU)  MS.MIL.XPND.CN   NaN   NaN   NaN   \n",
       "9    Military expenditure (current LCU)  MS.MIL.XPND.CN   NaN   NaN   NaN   \n",
       "10   Military expenditure (current LCU)  MS.MIL.XPND.CN   NaN   NaN   NaN   \n",
       "11   Military expenditure (current LCU)  MS.MIL.XPND.CN   NaN   NaN   NaN   \n",
       "12   Military expenditure (current LCU)  MS.MIL.XPND.CN   NaN   NaN   NaN   \n",
       "13   Military expenditure (current LCU)  MS.MIL.XPND.CN   NaN   NaN   NaN   \n",
       "14   Military expenditure (current LCU)  MS.MIL.XPND.CN   NaN   NaN   NaN   \n",
       "15   Military expenditure (current LCU)  MS.MIL.XPND.CN   NaN   NaN   NaN   \n",
       "16   Military expenditure (current LCU)  MS.MIL.XPND.CN   NaN   NaN   NaN   \n",
       "17   Military expenditure (current LCU)  MS.MIL.XPND.CN   NaN   NaN   NaN   \n",
       "18   Military expenditure (current LCU)  MS.MIL.XPND.CN   NaN   NaN   NaN   \n",
       "19   Military expenditure (current LCU)  MS.MIL.XPND.CN   NaN   NaN   NaN   \n",
       "20   Military expenditure (current LCU)  MS.MIL.XPND.CN   NaN   NaN   NaN   \n",
       "21   Military expenditure (current LCU)  MS.MIL.XPND.CN   NaN   NaN   NaN   \n",
       "22   Military expenditure (current LCU)  MS.MIL.XPND.CN   NaN   NaN   NaN   \n",
       "23   Military expenditure (current LCU)  MS.MIL.XPND.CN   NaN   NaN   NaN   \n",
       "24   Military expenditure (current LCU)  MS.MIL.XPND.CN   NaN   NaN   NaN   \n",
       "25   Military expenditure (current LCU)  MS.MIL.XPND.CN   NaN   NaN   NaN   \n",
       "26   Military expenditure (current LCU)  MS.MIL.XPND.CN   NaN   NaN   NaN   \n",
       "27   Military expenditure (current LCU)  MS.MIL.XPND.CN   NaN   NaN   NaN   \n",
       "28   Military expenditure (current LCU)  MS.MIL.XPND.CN   NaN   NaN   NaN   \n",
       "29   Military expenditure (current LCU)  MS.MIL.XPND.CN   NaN   NaN   NaN   \n",
       "..                                  ...             ...   ...   ...   ...   \n",
       "234  Military expenditure (current LCU)  MS.MIL.XPND.CN   NaN   NaN   NaN   \n",
       "235  Military expenditure (current LCU)  MS.MIL.XPND.CN   NaN   NaN   NaN   \n",
       "236  Military expenditure (current LCU)  MS.MIL.XPND.CN   NaN   NaN   NaN   \n",
       "237  Military expenditure (current LCU)  MS.MIL.XPND.CN   NaN   NaN   NaN   \n",
       "238  Military expenditure (current LCU)  MS.MIL.XPND.CN   NaN   NaN   NaN   \n",
       "239  Military expenditure (current LCU)  MS.MIL.XPND.CN   NaN   NaN   NaN   \n",
       "240  Military expenditure (current LCU)  MS.MIL.XPND.CN   NaN   NaN   NaN   \n",
       "241  Military expenditure (current LCU)  MS.MIL.XPND.CN   NaN   NaN   NaN   \n",
       "242  Military expenditure (current LCU)  MS.MIL.XPND.CN   NaN   NaN   NaN   \n",
       "243  Military expenditure (current LCU)  MS.MIL.XPND.CN   NaN   NaN   NaN   \n",
       "244  Military expenditure (current LCU)  MS.MIL.XPND.CN   NaN   NaN   NaN   \n",
       "245  Military expenditure (current LCU)  MS.MIL.XPND.CN   NaN   NaN   NaN   \n",
       "246  Military expenditure (current LCU)  MS.MIL.XPND.CN   NaN   NaN   NaN   \n",
       "247  Military expenditure (current LCU)  MS.MIL.XPND.CN   NaN   NaN   NaN   \n",
       "248  Military expenditure (current LCU)  MS.MIL.XPND.CN   NaN   NaN   NaN   \n",
       "249  Military expenditure (current LCU)  MS.MIL.XPND.CN   NaN   NaN   NaN   \n",
       "250  Military expenditure (current LCU)  MS.MIL.XPND.CN   NaN   NaN   NaN   \n",
       "251  Military expenditure (current LCU)  MS.MIL.XPND.CN   NaN   NaN   NaN   \n",
       "252  Military expenditure (current LCU)  MS.MIL.XPND.CN   NaN   NaN   NaN   \n",
       "253  Military expenditure (current LCU)  MS.MIL.XPND.CN   NaN   NaN   NaN   \n",
       "254  Military expenditure (current LCU)  MS.MIL.XPND.CN   NaN   NaN   NaN   \n",
       "255  Military expenditure (current LCU)  MS.MIL.XPND.CN   NaN   NaN   NaN   \n",
       "256  Military expenditure (current LCU)  MS.MIL.XPND.CN   NaN   NaN   NaN   \n",
       "257  Military expenditure (current LCU)  MS.MIL.XPND.CN   NaN   NaN   NaN   \n",
       "258  Military expenditure (current LCU)  MS.MIL.XPND.CN   NaN   NaN   NaN   \n",
       "259  Military expenditure (current LCU)  MS.MIL.XPND.CN   NaN   NaN   NaN   \n",
       "260  Military expenditure (current LCU)  MS.MIL.XPND.CN   NaN   NaN   NaN   \n",
       "261  Military expenditure (current LCU)  MS.MIL.XPND.CN   NaN   NaN   NaN   \n",
       "262  Military expenditure (current LCU)  MS.MIL.XPND.CN   NaN   NaN   NaN   \n",
       "263  Military expenditure (current LCU)  MS.MIL.XPND.CN   NaN   NaN   NaN   \n",
       "\n",
       "     1963  1964  1965     ...               2008          2009          2010  \\\n",
       "0     NaN   NaN   NaN     ...                NaN           NaN           NaN   \n",
       "1     NaN   NaN   NaN     ...                NaN           NaN           NaN   \n",
       "2     NaN   NaN   NaN     ...       1.208667e+10  1.267533e+10  1.384967e+10   \n",
       "3     NaN   NaN   NaN     ...       2.373750e+11  2.626710e+11  3.217430e+11   \n",
       "4     NaN   NaN   NaN     ...       2.145000e+10  1.735600e+10  1.932100e+10   \n",
       "5     NaN   NaN   NaN     ...                NaN           NaN           NaN   \n",
       "6     NaN   NaN   NaN     ...       4.249700e+10  5.081400e+10  6.428600e+10   \n",
       "7     NaN   NaN   NaN     ...       8.769000e+09  1.106300e+10  1.354100e+10   \n",
       "8     NaN   NaN   NaN     ...       1.211620e+11  1.306000e+11  1.476000e+11   \n",
       "9     NaN   NaN   NaN     ...                NaN           NaN           NaN   \n",
       "10    NaN   NaN   NaN     ...                NaN           NaN           NaN   \n",
       "11    NaN   NaN   NaN     ...       2.221400e+10  2.431050e+10  2.531100e+10   \n",
       "12    NaN   NaN   NaN     ...       2.557800e+09  2.400500e+09  2.430000e+09   \n",
       "13    NaN   NaN   NaN     ...       1.321000e+09  1.183900e+09  1.185200e+09   \n",
       "14    NaN   NaN   NaN     ...       5.200000e+10           NaN           NaN   \n",
       "15    NaN   NaN   NaN     ...       4.298000e+09  4.046000e+09  3.960000e+09   \n",
       "16    NaN   NaN   NaN     ...       2.898400e+10           NaN           NaN   \n",
       "17    NaN   NaN   NaN     ...       5.239300e+10  6.012500e+10  6.126600e+10   \n",
       "18    NaN   NaN   NaN     ...       7.065762e+07  8.690581e+07  1.131540e+08   \n",
       "19    NaN   NaN   NaN     ...       1.388000e+09  1.355000e+09  1.320000e+09   \n",
       "20    NaN   NaN   NaN     ...       2.707000e+08  3.114000e+08  3.169000e+08   \n",
       "21    NaN   NaN   NaN     ...                NaN           NaN           NaN   \n",
       "22    NaN   NaN   NaN     ...       3.114920e+08  3.413730e+08  3.247580e+08   \n",
       "23    NaN   NaN   NaN     ...       1.886500e+12  1.886500e+12  2.286600e+12   \n",
       "24    NaN   NaN   NaN     ...       3.743548e+07  3.453508e+07  3.067450e+07   \n",
       "25    NaN   NaN   NaN     ...                NaN           NaN           NaN   \n",
       "26    NaN   NaN   NaN     ...       2.368340e+09  2.427360e+09  2.297350e+09   \n",
       "27    NaN   NaN   NaN     ...       4.484100e+10  5.128300e+10  5.981900e+10   \n",
       "28    NaN   NaN   NaN     ...                NaN           NaN           NaN   \n",
       "29    NaN   NaN   NaN     ...       5.130000e+08  5.087500e+08  5.327500e+08   \n",
       "..    ...   ...   ...     ...                ...           ...           ...   \n",
       "234   NaN   NaN   NaN     ...                NaN           NaN           NaN   \n",
       "235   NaN   NaN   NaN     ...       2.365100e+07  3.648100e+07  2.638900e+07   \n",
       "236   NaN   NaN   NaN     ...                NaN           NaN           NaN   \n",
       "237   NaN   NaN   NaN     ...                NaN           NaN           NaN   \n",
       "238   NaN   NaN   NaN     ...                NaN           NaN           NaN   \n",
       "239   NaN   NaN   NaN     ...       8.748500e+08  8.761500e+08  9.121000e+08   \n",
       "240   NaN   NaN   NaN     ...       7.133000e+08  7.626000e+08  8.176000e+08   \n",
       "241   NaN   NaN   NaN     ...       2.229154e+10  2.534541e+10  2.696018e+10   \n",
       "242   NaN   NaN   NaN     ...                NaN           NaN           NaN   \n",
       "243   NaN   NaN   NaN     ...       2.320845e+11  2.897775e+11  3.984360e+11   \n",
       "244   NaN   NaN   NaN     ...       5.365300e+11  5.960050e+11  1.325450e+12   \n",
       "245   NaN   NaN   NaN     ...       2.534070e+10  2.689900e+10  2.959600e+10   \n",
       "246   NaN   NaN   NaN     ...                NaN           NaN           NaN   \n",
       "247   NaN   NaN   NaN     ...       1.242200e+10  1.468200e+10  1.580700e+10   \n",
       "248   NaN   NaN   NaN     ...       6.211310e+11  6.685670e+11  6.981800e+11   \n",
       "249   NaN   NaN   NaN     ...                NaN           NaN           NaN   \n",
       "250   NaN   NaN   NaN     ...                NaN           NaN           NaN   \n",
       "251   NaN   NaN   NaN     ...       9.286000e+09  8.631000e+09  8.683000e+09   \n",
       "252   NaN   NaN   NaN     ...                NaN           NaN           NaN   \n",
       "253   NaN   NaN   NaN     ...                NaN           NaN           NaN   \n",
       "254   NaN   NaN   NaN     ...       3.484800e+13  4.098100e+13  4.973900e+13   \n",
       "255   NaN   NaN   NaN     ...                NaN           NaN           NaN   \n",
       "256   NaN   NaN   NaN     ...                NaN           NaN           NaN   \n",
       "257   NaN   NaN   NaN     ...                NaN           NaN           NaN   \n",
       "258   NaN   NaN   NaN     ...                NaN           NaN           NaN   \n",
       "259   NaN   NaN   NaN     ...       2.390000e+11  2.882000e+11  3.180000e+11   \n",
       "260   NaN   NaN   NaN     ...       2.714575e+10  3.044325e+10  3.066250e+10   \n",
       "261   NaN   NaN   NaN     ...       8.948600e+10  9.910000e+10  1.664000e+11   \n",
       "262   NaN   NaN   NaN     ...       1.041500e+09  1.115000e+09  1.344100e+09   \n",
       "263   NaN   NaN   NaN     ...                NaN           NaN  9.829300e+07   \n",
       "\n",
       "             2011          2012          2013          2014          2015  \\\n",
       "0             NaN           NaN           NaN           NaN           NaN   \n",
       "1             NaN           NaN           NaN           NaN           NaN   \n",
       "2    1.523050e+10  1.214900e+10  1.202767e+10  1.535600e+10  1.219917e+10   \n",
       "3    3.418750e+11  3.956800e+11  5.878690e+11  6.730000e+11  4.332150e+11   \n",
       "4    1.987700e+10  1.982000e+10  1.902200e+10  1.878800e+10  1.667100e+10   \n",
       "5             NaN           NaN           NaN           NaN           NaN   \n",
       "6    7.044500e+10  6.986600e+10  8.652800e+10  8.356800e+10           NaN   \n",
       "7    1.665400e+10  2.070300e+10  2.805000e+10  4.020900e+10  5.038360e+10   \n",
       "8    1.456000e+11  1.529000e+11  1.821000e+11  1.904110e+11  2.138110e+11   \n",
       "9             NaN           NaN           NaN           NaN           NaN   \n",
       "10            NaN           NaN           NaN           NaN           NaN   \n",
       "11   2.578500e+10  2.532000e+10  2.571500e+10  2.860350e+10  3.139600e+10   \n",
       "12   2.452800e+09  2.480600e+09  2.432000e+09  2.491200e+09  2.287500e+09   \n",
       "13   2.432300e+09  2.550300e+09  2.642000e+09  2.688100e+09  3.050000e+09   \n",
       "14            NaN  8.506000e+10  9.464200e+10  9.616900e+10  1.040040e+11   \n",
       "15   3.956000e+09  4.023000e+09  3.939000e+09  3.913000e+09  3.758000e+09   \n",
       "16            NaN  3.993500e+10  4.248900e+10  4.597600e+10  5.376049e+10   \n",
       "17   6.551900e+10  7.541900e+10  7.881600e+10  1.009460e+11           NaN   \n",
       "18   1.335885e+08  1.492705e+08  1.599545e+08  1.843225e+08  2.080480e+08   \n",
       "19   1.166000e+09  1.229100e+09  1.325600e+09  1.232000e+09  1.166000e+09   \n",
       "20   3.886000e+08  4.445000e+08  5.067000e+08  5.547000e+08  5.375000e+08   \n",
       "21            NaN           NaN           NaN           NaN           NaN   \n",
       "22   2.981000e+08  3.004000e+08  2.911000e+08  2.806530e+08  2.860660e+08   \n",
       "23   3.762200e+12  6.811830e+12  8.623486e+12  1.033480e+13  1.152500e+13   \n",
       "24   3.083250e+07  3.043825e+07  3.555775e+07  3.552050e+07  3.926425e+07   \n",
       "25            NaN           NaN           NaN           NaN           NaN   \n",
       "26   2.799539e+09  3.454102e+09  3.900072e+09  4.324866e+09  3.698754e+09   \n",
       "27   6.178800e+10  6.637900e+10  7.088100e+10  7.687420e+10  8.187350e+10   \n",
       "28            NaN           NaN           NaN           NaN           NaN   \n",
       "29   5.225000e+08  5.139000e+08  5.156000e+08  6.687250e+08  5.829925e+08   \n",
       "..            ...           ...           ...           ...           ...   \n",
       "234           NaN           NaN           NaN           NaN           NaN   \n",
       "235  2.053000e+07  3.338800e+07  3.168300e+07  2.962400e+07  3.695900e+07   \n",
       "236           NaN           NaN           NaN           NaN           NaN   \n",
       "237           NaN           NaN           NaN           NaN           NaN   \n",
       "238           NaN           NaN           NaN           NaN           NaN   \n",
       "239  9.362750e+08  1.085075e+09  1.360529e+09  1.250492e+09  1.621723e+09   \n",
       "240  1.006900e+09  1.064000e+09  1.233700e+09  1.564900e+09  1.921400e+09   \n",
       "241  2.898481e+10  3.225300e+10  3.543804e+10  3.889105e+10  4.154622e+10   \n",
       "242           NaN           NaN           NaN           NaN           NaN   \n",
       "243  4.833860e+11  5.694675e+11  7.096030e+11  8.207820e+11  1.021405e+12   \n",
       "244  1.531650e+12  8.812000e+11  7.762625e+11  8.466550e+11  9.335538e+11   \n",
       "245  2.935800e+10  3.305800e+10  3.506100e+10  4.794300e+10  7.912500e+10   \n",
       "246           NaN           NaN           NaN           NaN           NaN   \n",
       "247  1.626400e+10  1.838100e+10  2.188500e+10  1.980070e+10  2.629920e+10   \n",
       "248  7.113380e+11  6.847800e+11  6.397040e+11  6.099140e+11  5.960240e+11   \n",
       "249           NaN           NaN           NaN           NaN           NaN   \n",
       "250           NaN           NaN           NaN           NaN           NaN   \n",
       "251  1.022900e+10  2.129900e+10  3.213600e+10  3.504200e+10  3.308500e+10   \n",
       "252           NaN           NaN           NaN           NaN           NaN   \n",
       "253           NaN           NaN           NaN           NaN           NaN   \n",
       "254  5.510000e+13  7.000000e+13  7.802400e+13  9.000000e+13  9.900000e+13   \n",
       "255           NaN           NaN           NaN           NaN           NaN   \n",
       "256           NaN           NaN           NaN           NaN           NaN   \n",
       "257           NaN           NaN           NaN           NaN           NaN   \n",
       "258           NaN           NaN           NaN           NaN           NaN   \n",
       "259  3.447000e+11  3.470000e+11  3.543000e+11  3.685000e+11           NaN   \n",
       "260  3.335875e+10  3.685940e+10  3.976155e+10  4.225475e+10  4.414880e+10   \n",
       "261  2.195630e+11  3.058130e+11  3.444400e+11  3.157100e+11  4.549150e+11   \n",
       "262  1.502500e+09  1.782500e+09  2.057700e+09  2.729418e+09  3.215100e+09   \n",
       "263  1.984380e+08  3.182720e+08  3.567000e+08  3.681000e+08  3.766770e+08   \n",
       "\n",
       "     2016  Unnamed: 61  \n",
       "0     NaN          NaN  \n",
       "1     NaN          NaN  \n",
       "2     NaN          NaN  \n",
       "3     NaN          NaN  \n",
       "4     NaN          NaN  \n",
       "5     NaN          NaN  \n",
       "6     NaN          NaN  \n",
       "7     NaN          NaN  \n",
       "8     NaN          NaN  \n",
       "9     NaN          NaN  \n",
       "10    NaN          NaN  \n",
       "11    NaN          NaN  \n",
       "12    NaN          NaN  \n",
       "13    NaN          NaN  \n",
       "14    NaN          NaN  \n",
       "15    NaN          NaN  \n",
       "16    NaN          NaN  \n",
       "17    NaN          NaN  \n",
       "18    NaN          NaN  \n",
       "19    NaN          NaN  \n",
       "20    NaN          NaN  \n",
       "21    NaN          NaN  \n",
       "22    NaN          NaN  \n",
       "23    NaN          NaN  \n",
       "24    NaN          NaN  \n",
       "25    NaN          NaN  \n",
       "26    NaN          NaN  \n",
       "27    NaN          NaN  \n",
       "28    NaN          NaN  \n",
       "29    NaN          NaN  \n",
       "..    ...          ...  \n",
       "234   NaN          NaN  \n",
       "235   NaN          NaN  \n",
       "236   NaN          NaN  \n",
       "237   NaN          NaN  \n",
       "238   NaN          NaN  \n",
       "239   NaN          NaN  \n",
       "240   NaN          NaN  \n",
       "241   NaN          NaN  \n",
       "242   NaN          NaN  \n",
       "243   NaN          NaN  \n",
       "244   NaN          NaN  \n",
       "245   NaN          NaN  \n",
       "246   NaN          NaN  \n",
       "247   NaN          NaN  \n",
       "248   NaN          NaN  \n",
       "249   NaN          NaN  \n",
       "250   NaN          NaN  \n",
       "251   NaN          NaN  \n",
       "252   NaN          NaN  \n",
       "253   NaN          NaN  \n",
       "254   NaN          NaN  \n",
       "255   NaN          NaN  \n",
       "256   NaN          NaN  \n",
       "257   NaN          NaN  \n",
       "258   NaN          NaN  \n",
       "259   NaN          NaN  \n",
       "260   NaN          NaN  \n",
       "261   NaN          NaN  \n",
       "262   NaN          NaN  \n",
       "263   NaN          NaN  \n",
       "\n",
       "[264 rows x 62 columns]"
      ]
     },
     "execution_count": 3,
     "metadata": {},
     "output_type": "execute_result"
    }
   ],
   "source": [
    "import pandas as pd\n",
    "\n",
    "\n",
    "expenditures = pd.read_csv(expenditure_csv, skiprows=4)\n",
    "expenditures"
   ]
  },
  {
   "cell_type": "markdown",
   "metadata": {},
   "source": [
    "## Viewing Data"
   ]
  },
  {
   "cell_type": "code",
   "execution_count": 741,
   "metadata": {
    "collapsed": false
   },
   "outputs": [
    {
     "data": {
      "text/html": [
       "<div>\n",
       "<table border=\"1\" class=\"dataframe\">\n",
       "  <thead>\n",
       "    <tr style=\"text-align: right;\">\n",
       "      <th></th>\n",
       "      <th>Country Name</th>\n",
       "      <th>Country Code</th>\n",
       "      <th>Indicator Name</th>\n",
       "      <th>Indicator Code</th>\n",
       "      <th>1960</th>\n",
       "      <th>1961</th>\n",
       "      <th>1962</th>\n",
       "      <th>1963</th>\n",
       "      <th>1964</th>\n",
       "      <th>1965</th>\n",
       "      <th>...</th>\n",
       "      <th>2008</th>\n",
       "      <th>2009</th>\n",
       "      <th>2010</th>\n",
       "      <th>2011</th>\n",
       "      <th>2012</th>\n",
       "      <th>2013</th>\n",
       "      <th>2014</th>\n",
       "      <th>2015</th>\n",
       "      <th>2016</th>\n",
       "      <th>Unnamed: 61</th>\n",
       "    </tr>\n",
       "  </thead>\n",
       "  <tbody>\n",
       "    <tr>\n",
       "      <th>0</th>\n",
       "      <td>Aruba</td>\n",
       "      <td>ABW</td>\n",
       "      <td>Military expenditure (current LCU)</td>\n",
       "      <td>MS.MIL.XPND.CN</td>\n",
       "      <td>NaN</td>\n",
       "      <td>NaN</td>\n",
       "      <td>NaN</td>\n",
       "      <td>NaN</td>\n",
       "      <td>NaN</td>\n",
       "      <td>NaN</td>\n",
       "      <td>...</td>\n",
       "      <td>NaN</td>\n",
       "      <td>NaN</td>\n",
       "      <td>NaN</td>\n",
       "      <td>NaN</td>\n",
       "      <td>NaN</td>\n",
       "      <td>NaN</td>\n",
       "      <td>NaN</td>\n",
       "      <td>NaN</td>\n",
       "      <td>NaN</td>\n",
       "      <td>NaN</td>\n",
       "    </tr>\n",
       "    <tr>\n",
       "      <th>1</th>\n",
       "      <td>Andorra</td>\n",
       "      <td>AND</td>\n",
       "      <td>Military expenditure (current LCU)</td>\n",
       "      <td>MS.MIL.XPND.CN</td>\n",
       "      <td>NaN</td>\n",
       "      <td>NaN</td>\n",
       "      <td>NaN</td>\n",
       "      <td>NaN</td>\n",
       "      <td>NaN</td>\n",
       "      <td>NaN</td>\n",
       "      <td>...</td>\n",
       "      <td>NaN</td>\n",
       "      <td>NaN</td>\n",
       "      <td>NaN</td>\n",
       "      <td>NaN</td>\n",
       "      <td>NaN</td>\n",
       "      <td>NaN</td>\n",
       "      <td>NaN</td>\n",
       "      <td>NaN</td>\n",
       "      <td>NaN</td>\n",
       "      <td>NaN</td>\n",
       "    </tr>\n",
       "    <tr>\n",
       "      <th>2</th>\n",
       "      <td>Afghanistan</td>\n",
       "      <td>AFG</td>\n",
       "      <td>Military expenditure (current LCU)</td>\n",
       "      <td>MS.MIL.XPND.CN</td>\n",
       "      <td>NaN</td>\n",
       "      <td>NaN</td>\n",
       "      <td>NaN</td>\n",
       "      <td>NaN</td>\n",
       "      <td>NaN</td>\n",
       "      <td>NaN</td>\n",
       "      <td>...</td>\n",
       "      <td>1.208667e+10</td>\n",
       "      <td>1.267533e+10</td>\n",
       "      <td>1.384967e+10</td>\n",
       "      <td>1.523050e+10</td>\n",
       "      <td>1.214900e+10</td>\n",
       "      <td>1.202767e+10</td>\n",
       "      <td>1.535600e+10</td>\n",
       "      <td>1.219917e+10</td>\n",
       "      <td>NaN</td>\n",
       "      <td>NaN</td>\n",
       "    </tr>\n",
       "    <tr>\n",
       "      <th>3</th>\n",
       "      <td>Angola</td>\n",
       "      <td>AGO</td>\n",
       "      <td>Military expenditure (current LCU)</td>\n",
       "      <td>MS.MIL.XPND.CN</td>\n",
       "      <td>NaN</td>\n",
       "      <td>NaN</td>\n",
       "      <td>NaN</td>\n",
       "      <td>NaN</td>\n",
       "      <td>NaN</td>\n",
       "      <td>NaN</td>\n",
       "      <td>...</td>\n",
       "      <td>2.373750e+11</td>\n",
       "      <td>2.626710e+11</td>\n",
       "      <td>3.217430e+11</td>\n",
       "      <td>3.418750e+11</td>\n",
       "      <td>3.956800e+11</td>\n",
       "      <td>5.878690e+11</td>\n",
       "      <td>6.730000e+11</td>\n",
       "      <td>4.332150e+11</td>\n",
       "      <td>NaN</td>\n",
       "      <td>NaN</td>\n",
       "    </tr>\n",
       "    <tr>\n",
       "      <th>4</th>\n",
       "      <td>Albania</td>\n",
       "      <td>ALB</td>\n",
       "      <td>Military expenditure (current LCU)</td>\n",
       "      <td>MS.MIL.XPND.CN</td>\n",
       "      <td>NaN</td>\n",
       "      <td>NaN</td>\n",
       "      <td>NaN</td>\n",
       "      <td>NaN</td>\n",
       "      <td>NaN</td>\n",
       "      <td>NaN</td>\n",
       "      <td>...</td>\n",
       "      <td>2.145000e+10</td>\n",
       "      <td>1.735600e+10</td>\n",
       "      <td>1.932100e+10</td>\n",
       "      <td>1.987700e+10</td>\n",
       "      <td>1.982000e+10</td>\n",
       "      <td>1.902200e+10</td>\n",
       "      <td>1.878800e+10</td>\n",
       "      <td>1.667100e+10</td>\n",
       "      <td>NaN</td>\n",
       "      <td>NaN</td>\n",
       "    </tr>\n",
       "  </tbody>\n",
       "</table>\n",
       "<p>5 rows × 62 columns</p>\n",
       "</div>"
      ],
      "text/plain": [
       "  Country Name Country Code                      Indicator Name  \\\n",
       "0        Aruba          ABW  Military expenditure (current LCU)   \n",
       "1      Andorra          AND  Military expenditure (current LCU)   \n",
       "2  Afghanistan          AFG  Military expenditure (current LCU)   \n",
       "3       Angola          AGO  Military expenditure (current LCU)   \n",
       "4      Albania          ALB  Military expenditure (current LCU)   \n",
       "\n",
       "   Indicator Code  1960  1961  1962  1963  1964  1965     ...       \\\n",
       "0  MS.MIL.XPND.CN   NaN   NaN   NaN   NaN   NaN   NaN     ...        \n",
       "1  MS.MIL.XPND.CN   NaN   NaN   NaN   NaN   NaN   NaN     ...        \n",
       "2  MS.MIL.XPND.CN   NaN   NaN   NaN   NaN   NaN   NaN     ...        \n",
       "3  MS.MIL.XPND.CN   NaN   NaN   NaN   NaN   NaN   NaN     ...        \n",
       "4  MS.MIL.XPND.CN   NaN   NaN   NaN   NaN   NaN   NaN     ...        \n",
       "\n",
       "           2008          2009          2010          2011          2012  \\\n",
       "0           NaN           NaN           NaN           NaN           NaN   \n",
       "1           NaN           NaN           NaN           NaN           NaN   \n",
       "2  1.208667e+10  1.267533e+10  1.384967e+10  1.523050e+10  1.214900e+10   \n",
       "3  2.373750e+11  2.626710e+11  3.217430e+11  3.418750e+11  3.956800e+11   \n",
       "4  2.145000e+10  1.735600e+10  1.932100e+10  1.987700e+10  1.982000e+10   \n",
       "\n",
       "           2013          2014          2015  2016  Unnamed: 61  \n",
       "0           NaN           NaN           NaN   NaN          NaN  \n",
       "1           NaN           NaN           NaN   NaN          NaN  \n",
       "2  1.202767e+10  1.535600e+10  1.219917e+10   NaN          NaN  \n",
       "3  5.878690e+11  6.730000e+11  4.332150e+11   NaN          NaN  \n",
       "4  1.902200e+10  1.878800e+10  1.667100e+10   NaN          NaN  \n",
       "\n",
       "[5 rows x 62 columns]"
      ]
     },
     "execution_count": 741,
     "metadata": {},
     "output_type": "execute_result"
    }
   ],
   "source": [
    "expenditures.head()"
   ]
  },
  {
   "cell_type": "code",
   "execution_count": 742,
   "metadata": {
    "collapsed": false
   },
   "outputs": [
    {
     "data": {
      "text/html": [
       "<div>\n",
       "<table border=\"1\" class=\"dataframe\">\n",
       "  <thead>\n",
       "    <tr style=\"text-align: right;\">\n",
       "      <th></th>\n",
       "      <th>Country Name</th>\n",
       "      <th>Country Code</th>\n",
       "      <th>Indicator Name</th>\n",
       "      <th>Indicator Code</th>\n",
       "      <th>1960</th>\n",
       "      <th>1961</th>\n",
       "      <th>1962</th>\n",
       "      <th>1963</th>\n",
       "      <th>1964</th>\n",
       "      <th>1965</th>\n",
       "      <th>...</th>\n",
       "      <th>2008</th>\n",
       "      <th>2009</th>\n",
       "      <th>2010</th>\n",
       "      <th>2011</th>\n",
       "      <th>2012</th>\n",
       "      <th>2013</th>\n",
       "      <th>2014</th>\n",
       "      <th>2015</th>\n",
       "      <th>2016</th>\n",
       "      <th>Unnamed: 61</th>\n",
       "    </tr>\n",
       "  </thead>\n",
       "  <tbody>\n",
       "    <tr>\n",
       "      <th>259</th>\n",
       "      <td>Yemen, Rep.</td>\n",
       "      <td>YEM</td>\n",
       "      <td>Military expenditure (current LCU)</td>\n",
       "      <td>MS.MIL.XPND.CN</td>\n",
       "      <td>NaN</td>\n",
       "      <td>NaN</td>\n",
       "      <td>NaN</td>\n",
       "      <td>NaN</td>\n",
       "      <td>NaN</td>\n",
       "      <td>NaN</td>\n",
       "      <td>...</td>\n",
       "      <td>2.390000e+11</td>\n",
       "      <td>2.882000e+11</td>\n",
       "      <td>3.180000e+11</td>\n",
       "      <td>3.447000e+11</td>\n",
       "      <td>3.470000e+11</td>\n",
       "      <td>3.543000e+11</td>\n",
       "      <td>3.685000e+11</td>\n",
       "      <td>NaN</td>\n",
       "      <td>NaN</td>\n",
       "      <td>NaN</td>\n",
       "    </tr>\n",
       "    <tr>\n",
       "      <th>260</th>\n",
       "      <td>South Africa</td>\n",
       "      <td>ZAF</td>\n",
       "      <td>Military expenditure (current LCU)</td>\n",
       "      <td>MS.MIL.XPND.CN</td>\n",
       "      <td>NaN</td>\n",
       "      <td>NaN</td>\n",
       "      <td>NaN</td>\n",
       "      <td>NaN</td>\n",
       "      <td>NaN</td>\n",
       "      <td>NaN</td>\n",
       "      <td>...</td>\n",
       "      <td>2.714575e+10</td>\n",
       "      <td>3.044325e+10</td>\n",
       "      <td>3.066250e+10</td>\n",
       "      <td>3.335875e+10</td>\n",
       "      <td>3.685940e+10</td>\n",
       "      <td>3.976155e+10</td>\n",
       "      <td>4.225475e+10</td>\n",
       "      <td>4.414880e+10</td>\n",
       "      <td>NaN</td>\n",
       "      <td>NaN</td>\n",
       "    </tr>\n",
       "    <tr>\n",
       "      <th>261</th>\n",
       "      <td>Congo, Dem. Rep.</td>\n",
       "      <td>COD</td>\n",
       "      <td>Military expenditure (current LCU)</td>\n",
       "      <td>MS.MIL.XPND.CN</td>\n",
       "      <td>NaN</td>\n",
       "      <td>NaN</td>\n",
       "      <td>NaN</td>\n",
       "      <td>NaN</td>\n",
       "      <td>NaN</td>\n",
       "      <td>NaN</td>\n",
       "      <td>...</td>\n",
       "      <td>8.948600e+10</td>\n",
       "      <td>9.910000e+10</td>\n",
       "      <td>1.664000e+11</td>\n",
       "      <td>2.195630e+11</td>\n",
       "      <td>3.058130e+11</td>\n",
       "      <td>3.444400e+11</td>\n",
       "      <td>3.157100e+11</td>\n",
       "      <td>4.549150e+11</td>\n",
       "      <td>NaN</td>\n",
       "      <td>NaN</td>\n",
       "    </tr>\n",
       "    <tr>\n",
       "      <th>262</th>\n",
       "      <td>Zambia</td>\n",
       "      <td>ZMB</td>\n",
       "      <td>Military expenditure (current LCU)</td>\n",
       "      <td>MS.MIL.XPND.CN</td>\n",
       "      <td>NaN</td>\n",
       "      <td>NaN</td>\n",
       "      <td>NaN</td>\n",
       "      <td>NaN</td>\n",
       "      <td>NaN</td>\n",
       "      <td>NaN</td>\n",
       "      <td>...</td>\n",
       "      <td>1.041500e+09</td>\n",
       "      <td>1.115000e+09</td>\n",
       "      <td>1.344100e+09</td>\n",
       "      <td>1.502500e+09</td>\n",
       "      <td>1.782500e+09</td>\n",
       "      <td>2.057700e+09</td>\n",
       "      <td>2.729418e+09</td>\n",
       "      <td>3.215100e+09</td>\n",
       "      <td>NaN</td>\n",
       "      <td>NaN</td>\n",
       "    </tr>\n",
       "    <tr>\n",
       "      <th>263</th>\n",
       "      <td>Zimbabwe</td>\n",
       "      <td>ZWE</td>\n",
       "      <td>Military expenditure (current LCU)</td>\n",
       "      <td>MS.MIL.XPND.CN</td>\n",
       "      <td>NaN</td>\n",
       "      <td>NaN</td>\n",
       "      <td>NaN</td>\n",
       "      <td>NaN</td>\n",
       "      <td>NaN</td>\n",
       "      <td>NaN</td>\n",
       "      <td>...</td>\n",
       "      <td>NaN</td>\n",
       "      <td>NaN</td>\n",
       "      <td>9.829300e+07</td>\n",
       "      <td>1.984380e+08</td>\n",
       "      <td>3.182720e+08</td>\n",
       "      <td>3.567000e+08</td>\n",
       "      <td>3.681000e+08</td>\n",
       "      <td>3.766770e+08</td>\n",
       "      <td>NaN</td>\n",
       "      <td>NaN</td>\n",
       "    </tr>\n",
       "  </tbody>\n",
       "</table>\n",
       "<p>5 rows × 62 columns</p>\n",
       "</div>"
      ],
      "text/plain": [
       "         Country Name Country Code                      Indicator Name  \\\n",
       "259       Yemen, Rep.          YEM  Military expenditure (current LCU)   \n",
       "260      South Africa          ZAF  Military expenditure (current LCU)   \n",
       "261  Congo, Dem. Rep.          COD  Military expenditure (current LCU)   \n",
       "262            Zambia          ZMB  Military expenditure (current LCU)   \n",
       "263          Zimbabwe          ZWE  Military expenditure (current LCU)   \n",
       "\n",
       "     Indicator Code  1960  1961  1962  1963  1964  1965     ...       \\\n",
       "259  MS.MIL.XPND.CN   NaN   NaN   NaN   NaN   NaN   NaN     ...        \n",
       "260  MS.MIL.XPND.CN   NaN   NaN   NaN   NaN   NaN   NaN     ...        \n",
       "261  MS.MIL.XPND.CN   NaN   NaN   NaN   NaN   NaN   NaN     ...        \n",
       "262  MS.MIL.XPND.CN   NaN   NaN   NaN   NaN   NaN   NaN     ...        \n",
       "263  MS.MIL.XPND.CN   NaN   NaN   NaN   NaN   NaN   NaN     ...        \n",
       "\n",
       "             2008          2009          2010          2011          2012  \\\n",
       "259  2.390000e+11  2.882000e+11  3.180000e+11  3.447000e+11  3.470000e+11   \n",
       "260  2.714575e+10  3.044325e+10  3.066250e+10  3.335875e+10  3.685940e+10   \n",
       "261  8.948600e+10  9.910000e+10  1.664000e+11  2.195630e+11  3.058130e+11   \n",
       "262  1.041500e+09  1.115000e+09  1.344100e+09  1.502500e+09  1.782500e+09   \n",
       "263           NaN           NaN  9.829300e+07  1.984380e+08  3.182720e+08   \n",
       "\n",
       "             2013          2014          2015  2016  Unnamed: 61  \n",
       "259  3.543000e+11  3.685000e+11           NaN   NaN          NaN  \n",
       "260  3.976155e+10  4.225475e+10  4.414880e+10   NaN          NaN  \n",
       "261  3.444400e+11  3.157100e+11  4.549150e+11   NaN          NaN  \n",
       "262  2.057700e+09  2.729418e+09  3.215100e+09   NaN          NaN  \n",
       "263  3.567000e+08  3.681000e+08  3.766770e+08   NaN          NaN  \n",
       "\n",
       "[5 rows x 62 columns]"
      ]
     },
     "execution_count": 742,
     "metadata": {},
     "output_type": "execute_result"
    }
   ],
   "source": [
    "expenditures.tail()"
   ]
  },
  {
   "cell_type": "code",
   "execution_count": 743,
   "metadata": {
    "collapsed": false
   },
   "outputs": [
    {
     "data": {
      "text/plain": [
       "RangeIndex(start=0, stop=264, step=1)"
      ]
     },
     "execution_count": 743,
     "metadata": {},
     "output_type": "execute_result"
    }
   ],
   "source": [
    "expenditures.index"
   ]
  },
  {
   "cell_type": "code",
   "execution_count": 744,
   "metadata": {
    "collapsed": false
   },
   "outputs": [
    {
     "data": {
      "text/plain": [
       "Index(['Country Name', 'Country Code', 'Indicator Name', 'Indicator Code',\n",
       "       '1960', '1961', '1962', '1963', '1964', '1965', '1966', '1967', '1968',\n",
       "       '1969', '1970', '1971', '1972', '1973', '1974', '1975', '1976', '1977',\n",
       "       '1978', '1979', '1980', '1981', '1982', '1983', '1984', '1985', '1986',\n",
       "       '1987', '1988', '1989', '1990', '1991', '1992', '1993', '1994', '1995',\n",
       "       '1996', '1997', '1998', '1999', '2000', '2001', '2002', '2003', '2004',\n",
       "       '2005', '2006', '2007', '2008', '2009', '2010', '2011', '2012', '2013',\n",
       "       '2014', '2015', '2016', 'Unnamed: 61'],\n",
       "      dtype='object')"
      ]
     },
     "execution_count": 744,
     "metadata": {},
     "output_type": "execute_result"
    }
   ],
   "source": [
    "expenditures.columns"
   ]
  },
  {
   "cell_type": "code",
   "execution_count": 745,
   "metadata": {
    "collapsed": false
   },
   "outputs": [
    {
     "data": {
      "text/plain": [
       "array([['Aruba', 'ABW', 'Military expenditure (current LCU)', ..., nan,\n",
       "        nan, nan],\n",
       "       ['Andorra', 'AND', 'Military expenditure (current LCU)', ..., nan,\n",
       "        nan, nan],\n",
       "       ['Afghanistan', 'AFG', 'Military expenditure (current LCU)', ...,\n",
       "        12199166666.6667, nan, nan],\n",
       "       ..., \n",
       "       ['Congo, Dem. Rep.', 'COD', 'Military expenditure (current LCU)',\n",
       "        ..., 454915000000.0, nan, nan],\n",
       "       ['Zambia', 'ZMB', 'Military expenditure (current LCU)', ...,\n",
       "        3215100000.0, nan, nan],\n",
       "       ['Zimbabwe', 'ZWE', 'Military expenditure (current LCU)', ...,\n",
       "        376677000.0, nan, nan]], dtype=object)"
      ]
     },
     "execution_count": 745,
     "metadata": {},
     "output_type": "execute_result"
    }
   ],
   "source": [
    "expenditures.values"
   ]
  },
  {
   "cell_type": "markdown",
   "metadata": {},
   "source": [
    "## Selection of Data in a `DataFrame`\n",
    "\n",
    "### Selection by Column Name\n"
   ]
  },
  {
   "cell_type": "code",
   "execution_count": null,
   "metadata": {
    "collapsed": false
   },
   "outputs": [],
   "source": [
    "expenditures['Country Name']"
   ]
  },
  {
   "cell_type": "markdown",
   "metadata": {},
   "source": [
    "### Selection by Indexes\n",
    "\n",
    "In the following we index the third row directly."
   ]
  },
  {
   "cell_type": "code",
   "execution_count": null,
   "metadata": {
    "collapsed": true
   },
   "outputs": [],
   "source": [
    "expenditures.iloc[3]"
   ]
  },
  {
   "cell_type": "code",
   "execution_count": null,
   "metadata": {
    "collapsed": false
   },
   "outputs": [],
   "source": [
    "expenditures.loc[3]"
   ]
  },
  {
   "cell_type": "code",
   "execution_count": null,
   "metadata": {
    "collapsed": false
   },
   "outputs": [],
   "source": [
    "expenditures.iloc[3:5]"
   ]
  },
  {
   "cell_type": "code",
   "execution_count": 746,
   "metadata": {
    "collapsed": false,
    "scrolled": true
   },
   "outputs": [
    {
     "data": {
      "text/html": [
       "<div>\n",
       "<table border=\"1\" class=\"dataframe\">\n",
       "  <thead>\n",
       "    <tr style=\"text-align: right;\">\n",
       "      <th></th>\n",
       "      <th>1960</th>\n",
       "      <th>1961</th>\n",
       "      <th>1962</th>\n",
       "      <th>1963</th>\n",
       "      <th>1964</th>\n",
       "      <th>1965</th>\n",
       "      <th>1966</th>\n",
       "      <th>1967</th>\n",
       "      <th>1968</th>\n",
       "      <th>1969</th>\n",
       "      <th>...</th>\n",
       "      <th>2007</th>\n",
       "      <th>2008</th>\n",
       "      <th>2009</th>\n",
       "      <th>2010</th>\n",
       "      <th>2011</th>\n",
       "      <th>2012</th>\n",
       "      <th>2013</th>\n",
       "      <th>2014</th>\n",
       "      <th>2015</th>\n",
       "      <th>2016</th>\n",
       "    </tr>\n",
       "  </thead>\n",
       "  <tbody>\n",
       "    <tr>\n",
       "      <th>3</th>\n",
       "      <td>NaN</td>\n",
       "      <td>NaN</td>\n",
       "      <td>NaN</td>\n",
       "      <td>NaN</td>\n",
       "      <td>NaN</td>\n",
       "      <td>NaN</td>\n",
       "      <td>NaN</td>\n",
       "      <td>NaN</td>\n",
       "      <td>NaN</td>\n",
       "      <td>NaN</td>\n",
       "      <td>...</td>\n",
       "      <td>1.559000e+11</td>\n",
       "      <td>2.373750e+11</td>\n",
       "      <td>2.626710e+11</td>\n",
       "      <td>3.217430e+11</td>\n",
       "      <td>3.418750e+11</td>\n",
       "      <td>3.956800e+11</td>\n",
       "      <td>5.878690e+11</td>\n",
       "      <td>6.730000e+11</td>\n",
       "      <td>4.332150e+11</td>\n",
       "      <td>NaN</td>\n",
       "    </tr>\n",
       "    <tr>\n",
       "      <th>4</th>\n",
       "      <td>NaN</td>\n",
       "      <td>NaN</td>\n",
       "      <td>NaN</td>\n",
       "      <td>NaN</td>\n",
       "      <td>NaN</td>\n",
       "      <td>NaN</td>\n",
       "      <td>NaN</td>\n",
       "      <td>NaN</td>\n",
       "      <td>NaN</td>\n",
       "      <td>NaN</td>\n",
       "      <td>...</td>\n",
       "      <td>1.761900e+10</td>\n",
       "      <td>2.145000e+10</td>\n",
       "      <td>1.735600e+10</td>\n",
       "      <td>1.932100e+10</td>\n",
       "      <td>1.987700e+10</td>\n",
       "      <td>1.982000e+10</td>\n",
       "      <td>1.902200e+10</td>\n",
       "      <td>1.878800e+10</td>\n",
       "      <td>1.667100e+10</td>\n",
       "      <td>NaN</td>\n",
       "    </tr>\n",
       "  </tbody>\n",
       "</table>\n",
       "<p>2 rows × 57 columns</p>\n",
       "</div>"
      ],
      "text/plain": [
       "   1960  1961  1962  1963  1964  1965  1966  1967  1968  1969  ...   \\\n",
       "3   NaN   NaN   NaN   NaN   NaN   NaN   NaN   NaN   NaN   NaN  ...    \n",
       "4   NaN   NaN   NaN   NaN   NaN   NaN   NaN   NaN   NaN   NaN  ...    \n",
       "\n",
       "           2007          2008          2009          2010          2011  \\\n",
       "3  1.559000e+11  2.373750e+11  2.626710e+11  3.217430e+11  3.418750e+11   \n",
       "4  1.761900e+10  2.145000e+10  1.735600e+10  1.932100e+10  1.987700e+10   \n",
       "\n",
       "           2012          2013          2014          2015  2016  \n",
       "3  3.956800e+11  5.878690e+11  6.730000e+11  4.332150e+11   NaN  \n",
       "4  1.982000e+10  1.902200e+10  1.878800e+10  1.667100e+10   NaN  \n",
       "\n",
       "[2 rows x 57 columns]"
      ]
     },
     "execution_count": 746,
     "metadata": {},
     "output_type": "execute_result"
    }
   ],
   "source": [
    "expenditures.iloc[3:5, 4:-1]"
   ]
  },
  {
   "cell_type": "markdown",
   "metadata": {},
   "source": [
    "## Boolean Indexing\n",
    "\n",
    "Similar to NumPy, you can use boolean arrays for indexing. That is, you can use boolean expressions directly for indexing.\n",
    "\n",
    "In the following we assign `expenditures` to `df`as the latter is shorter."
   ]
  },
  {
   "cell_type": "code",
   "execution_count": 6,
   "metadata": {
    "collapsed": false
   },
   "outputs": [
    {
     "data": {
      "text/html": [
       "<div>\n",
       "<table border=\"1\" class=\"dataframe\">\n",
       "  <thead>\n",
       "    <tr style=\"text-align: right;\">\n",
       "      <th></th>\n",
       "      <th>Country Name</th>\n",
       "      <th>Country Code</th>\n",
       "      <th>Indicator Name</th>\n",
       "      <th>Indicator Code</th>\n",
       "      <th>1960</th>\n",
       "      <th>1961</th>\n",
       "      <th>1962</th>\n",
       "      <th>1963</th>\n",
       "      <th>1964</th>\n",
       "      <th>1965</th>\n",
       "      <th>...</th>\n",
       "      <th>2008</th>\n",
       "      <th>2009</th>\n",
       "      <th>2010</th>\n",
       "      <th>2011</th>\n",
       "      <th>2012</th>\n",
       "      <th>2013</th>\n",
       "      <th>2014</th>\n",
       "      <th>2015</th>\n",
       "      <th>2016</th>\n",
       "      <th>Unnamed: 61</th>\n",
       "    </tr>\n",
       "  </thead>\n",
       "  <tbody>\n",
       "    <tr>\n",
       "      <th>55</th>\n",
       "      <td>Denmark</td>\n",
       "      <td>DNK</td>\n",
       "      <td>Military expenditure (current LCU)</td>\n",
       "      <td>MS.MIL.XPND.CN</td>\n",
       "      <td>NaN</td>\n",
       "      <td>NaN</td>\n",
       "      <td>NaN</td>\n",
       "      <td>NaN</td>\n",
       "      <td>NaN</td>\n",
       "      <td>NaN</td>\n",
       "      <td>...</td>\n",
       "      <td>2.441000e+10</td>\n",
       "      <td>2.325200e+10</td>\n",
       "      <td>2.532800e+10</td>\n",
       "      <td>2.425900e+10</td>\n",
       "      <td>2.561700e+10</td>\n",
       "      <td>2.368200e+10</td>\n",
       "      <td>2.276900e+10</td>\n",
       "      <td>2.329600e+10</td>\n",
       "      <td>NaN</td>\n",
       "      <td>NaN</td>\n",
       "    </tr>\n",
       "  </tbody>\n",
       "</table>\n",
       "<p>1 rows × 62 columns</p>\n",
       "</div>"
      ],
      "text/plain": [
       "   Country Name Country Code                      Indicator Name  \\\n",
       "55      Denmark          DNK  Military expenditure (current LCU)   \n",
       "\n",
       "    Indicator Code  1960  1961  1962  1963  1964  1965     ...       \\\n",
       "55  MS.MIL.XPND.CN   NaN   NaN   NaN   NaN   NaN   NaN     ...        \n",
       "\n",
       "            2008          2009          2010          2011          2012  \\\n",
       "55  2.441000e+10  2.325200e+10  2.532800e+10  2.425900e+10  2.561700e+10   \n",
       "\n",
       "            2013          2014          2015  2016  Unnamed: 61  \n",
       "55  2.368200e+10  2.276900e+10  2.329600e+10   NaN          NaN  \n",
       "\n",
       "[1 rows x 62 columns]"
      ]
     },
     "execution_count": 6,
     "metadata": {},
     "output_type": "execute_result"
    }
   ],
   "source": [
    "df = expenditures\n",
    "\n",
    "df[df['Country Name'] == 'Denmark']"
   ]
  },
  {
   "cell_type": "markdown",
   "metadata": {},
   "source": [
    "Using the `isin()` method for filtering:"
   ]
  },
  {
   "cell_type": "code",
   "execution_count": 7,
   "metadata": {
    "collapsed": false
   },
   "outputs": [
    {
     "data": {
      "text/html": [
       "<div>\n",
       "<table border=\"1\" class=\"dataframe\">\n",
       "  <thead>\n",
       "    <tr style=\"text-align: right;\">\n",
       "      <th></th>\n",
       "      <th>Country Name</th>\n",
       "      <th>Country Code</th>\n",
       "      <th>Indicator Name</th>\n",
       "      <th>Indicator Code</th>\n",
       "      <th>1960</th>\n",
       "      <th>1961</th>\n",
       "      <th>1962</th>\n",
       "      <th>1963</th>\n",
       "      <th>1964</th>\n",
       "      <th>1965</th>\n",
       "      <th>...</th>\n",
       "      <th>2008</th>\n",
       "      <th>2009</th>\n",
       "      <th>2010</th>\n",
       "      <th>2011</th>\n",
       "      <th>2012</th>\n",
       "      <th>2013</th>\n",
       "      <th>2014</th>\n",
       "      <th>2015</th>\n",
       "      <th>2016</th>\n",
       "      <th>Unnamed: 61</th>\n",
       "    </tr>\n",
       "  </thead>\n",
       "  <tbody>\n",
       "    <tr>\n",
       "      <th>38</th>\n",
       "      <td>China</td>\n",
       "      <td>CHN</td>\n",
       "      <td>Military expenditure (current LCU)</td>\n",
       "      <td>MS.MIL.XPND.CN</td>\n",
       "      <td>NaN</td>\n",
       "      <td>NaN</td>\n",
       "      <td>NaN</td>\n",
       "      <td>NaN</td>\n",
       "      <td>NaN</td>\n",
       "      <td>NaN</td>\n",
       "      <td>...</td>\n",
       "      <td>6.004500e+11</td>\n",
       "      <td>7.216284e+11</td>\n",
       "      <td>7.833243e+11</td>\n",
       "      <td>8.914702e+11</td>\n",
       "      <td>9.938496e+11</td>\n",
       "      <td>1.101905e+12</td>\n",
       "      <td>1.226545e+12</td>\n",
       "      <td>1.337435e+12</td>\n",
       "      <td>NaN</td>\n",
       "      <td>NaN</td>\n",
       "    </tr>\n",
       "    <tr>\n",
       "      <th>55</th>\n",
       "      <td>Denmark</td>\n",
       "      <td>DNK</td>\n",
       "      <td>Military expenditure (current LCU)</td>\n",
       "      <td>MS.MIL.XPND.CN</td>\n",
       "      <td>NaN</td>\n",
       "      <td>NaN</td>\n",
       "      <td>NaN</td>\n",
       "      <td>NaN</td>\n",
       "      <td>NaN</td>\n",
       "      <td>NaN</td>\n",
       "      <td>...</td>\n",
       "      <td>2.441000e+10</td>\n",
       "      <td>2.325200e+10</td>\n",
       "      <td>2.532800e+10</td>\n",
       "      <td>2.425900e+10</td>\n",
       "      <td>2.561700e+10</td>\n",
       "      <td>2.368200e+10</td>\n",
       "      <td>2.276900e+10</td>\n",
       "      <td>2.329600e+10</td>\n",
       "      <td>NaN</td>\n",
       "      <td>NaN</td>\n",
       "    </tr>\n",
       "    <tr>\n",
       "      <th>199</th>\n",
       "      <td>Russian Federation</td>\n",
       "      <td>RUS</td>\n",
       "      <td>Military expenditure (current LCU)</td>\n",
       "      <td>MS.MIL.XPND.CN</td>\n",
       "      <td>NaN</td>\n",
       "      <td>NaN</td>\n",
       "      <td>NaN</td>\n",
       "      <td>NaN</td>\n",
       "      <td>NaN</td>\n",
       "      <td>NaN</td>\n",
       "      <td>...</td>\n",
       "      <td>1.396330e+12</td>\n",
       "      <td>1.635650e+12</td>\n",
       "      <td>1.783210e+12</td>\n",
       "      <td>2.063740e+12</td>\n",
       "      <td>2.512500e+12</td>\n",
       "      <td>2.812900e+12</td>\n",
       "      <td>3.250500e+12</td>\n",
       "      <td>4.047400e+12</td>\n",
       "      <td>NaN</td>\n",
       "      <td>NaN</td>\n",
       "    </tr>\n",
       "    <tr>\n",
       "      <th>248</th>\n",
       "      <td>United States</td>\n",
       "      <td>USA</td>\n",
       "      <td>Military expenditure (current LCU)</td>\n",
       "      <td>MS.MIL.XPND.CN</td>\n",
       "      <td>NaN</td>\n",
       "      <td>NaN</td>\n",
       "      <td>NaN</td>\n",
       "      <td>NaN</td>\n",
       "      <td>NaN</td>\n",
       "      <td>NaN</td>\n",
       "      <td>...</td>\n",
       "      <td>6.211310e+11</td>\n",
       "      <td>6.685670e+11</td>\n",
       "      <td>6.981800e+11</td>\n",
       "      <td>7.113380e+11</td>\n",
       "      <td>6.847800e+11</td>\n",
       "      <td>6.397040e+11</td>\n",
       "      <td>6.099140e+11</td>\n",
       "      <td>5.960240e+11</td>\n",
       "      <td>NaN</td>\n",
       "      <td>NaN</td>\n",
       "    </tr>\n",
       "  </tbody>\n",
       "</table>\n",
       "<p>4 rows × 62 columns</p>\n",
       "</div>"
      ],
      "text/plain": [
       "           Country Name Country Code                      Indicator Name  \\\n",
       "38                China          CHN  Military expenditure (current LCU)   \n",
       "55              Denmark          DNK  Military expenditure (current LCU)   \n",
       "199  Russian Federation          RUS  Military expenditure (current LCU)   \n",
       "248       United States          USA  Military expenditure (current LCU)   \n",
       "\n",
       "     Indicator Code  1960  1961  1962  1963  1964  1965     ...       \\\n",
       "38   MS.MIL.XPND.CN   NaN   NaN   NaN   NaN   NaN   NaN     ...        \n",
       "55   MS.MIL.XPND.CN   NaN   NaN   NaN   NaN   NaN   NaN     ...        \n",
       "199  MS.MIL.XPND.CN   NaN   NaN   NaN   NaN   NaN   NaN     ...        \n",
       "248  MS.MIL.XPND.CN   NaN   NaN   NaN   NaN   NaN   NaN     ...        \n",
       "\n",
       "             2008          2009          2010          2011          2012  \\\n",
       "38   6.004500e+11  7.216284e+11  7.833243e+11  8.914702e+11  9.938496e+11   \n",
       "55   2.441000e+10  2.325200e+10  2.532800e+10  2.425900e+10  2.561700e+10   \n",
       "199  1.396330e+12  1.635650e+12  1.783210e+12  2.063740e+12  2.512500e+12   \n",
       "248  6.211310e+11  6.685670e+11  6.981800e+11  7.113380e+11  6.847800e+11   \n",
       "\n",
       "             2013          2014          2015  2016  Unnamed: 61  \n",
       "38   1.101905e+12  1.226545e+12  1.337435e+12   NaN          NaN  \n",
       "55   2.368200e+10  2.276900e+10  2.329600e+10   NaN          NaN  \n",
       "199  2.812900e+12  3.250500e+12  4.047400e+12   NaN          NaN  \n",
       "248  6.397040e+11  6.099140e+11  5.960240e+11   NaN          NaN  \n",
       "\n",
       "[4 rows x 62 columns]"
      ]
     },
     "execution_count": 7,
     "metadata": {},
     "output_type": "execute_result"
    }
   ],
   "source": [
    "df[df['Country Name'].isin(['United States', 'China', 'Denmark', 'Russian Federation'])]"
   ]
  },
  {
   "cell_type": "markdown",
   "metadata": {},
   "source": [
    "Here, we create a `DataFrame` of all country codes for the four countries, which we want to study further in the following."
   ]
  },
  {
   "cell_type": "code",
   "execution_count": 8,
   "metadata": {
    "collapsed": false
   },
   "outputs": [
    {
     "data": {
      "text/plain": [
       "38     CHN\n",
       "55     DNK\n",
       "199    RUS\n",
       "248    USA\n",
       "Name: Country Code, dtype: object"
      ]
     },
     "execution_count": 8,
     "metadata": {},
     "output_type": "execute_result"
    }
   ],
   "source": [
    "c_code_df = df[df['Country Name'].isin(['United States', 'China', \n",
    "                                        'Denmark', 'Russian Federation'])]['Country Code']\n",
    "c_code_df"
   ]
  },
  {
   "cell_type": "markdown",
   "metadata": {},
   "source": [
    "We cannot plot the time series of military expenditures directly in a meaningful way as we would like to have the years on the y-axis but in the selection of our `DataFrame`, the year numbers are column names. Consequently, we have to transpose our `DataFrame`, see `T` function.\n",
    "\n",
    "Note, that the expenditures are given in `LUC` in the World Bank data set. That is, in currency of the corresponding country."
   ]
  },
  {
   "cell_type": "code",
   "execution_count": 19,
   "metadata": {
    "collapsed": false
   },
   "outputs": [
    {
     "ename": "NameError",
     "evalue": "name 'x' is not defined",
     "output_type": "error",
     "traceback": [
      "\u001b[0;31m---------------------------------------------------------------------------\u001b[0m",
      "\u001b[0;31mNameError\u001b[0m                                 Traceback (most recent call last)",
      "\u001b[0;32m<ipython-input-19-b17c52ab5b7f>\u001b[0m in \u001b[0;36m<module>\u001b[0;34m()\u001b[0m\n\u001b[1;32m      3\u001b[0m \u001b[0mts_df\u001b[0m \u001b[0;34m=\u001b[0m \u001b[0mts_df\u001b[0m\u001b[0;34m.\u001b[0m\u001b[0mrename\u001b[0m\u001b[0;34m(\u001b[0m\u001b[0mcolumns\u001b[0m\u001b[0;34m=\u001b[0m\u001b[0mdict\u001b[0m\u001b[0;34m(\u001b[0m\u001b[0mc_code_df\u001b[0m\u001b[0;34m)\u001b[0m\u001b[0;34m)\u001b[0m\u001b[0;34m\u001b[0m\u001b[0m\n\u001b[1;32m      4\u001b[0m \u001b[0mts_df\u001b[0m\u001b[0;34m\u001b[0m\u001b[0m\n\u001b[0;32m----> 5\u001b[0;31m \u001b[0mplt\u001b[0m\u001b[0;34m.\u001b[0m\u001b[0mxticks\u001b[0m\u001b[0;34m(\u001b[0m\u001b[0mx\u001b[0m\u001b[0;34m,\u001b[0m \u001b[0mlabels\u001b[0m\u001b[0;34m,\u001b[0m \u001b[0mrotation\u001b[0m\u001b[0;34m=\u001b[0m\u001b[0;34m'vertical'\u001b[0m\u001b[0;34m)\u001b[0m\u001b[0;34m\u001b[0m\u001b[0m\n\u001b[0m\u001b[1;32m      6\u001b[0m \u001b[0mts_df\u001b[0m\u001b[0;34m.\u001b[0m\u001b[0mplot\u001b[0m\u001b[0;34m(\u001b[0m\u001b[0;34m)\u001b[0m\u001b[0;34m\u001b[0m\u001b[0m\n\u001b[1;32m      7\u001b[0m \u001b[0;34m\u001b[0m\u001b[0m\n",
      "\u001b[0;31mNameError\u001b[0m: name 'x' is not defined"
     ]
    }
   ],
   "source": [
    "import matplotlib.pyplot as plt\n",
    "ts_df = df.iloc[c_code_df.index, 31:-1].T\n",
    "ts_df = ts_df.rename(columns=dict(c_code_df))\n",
    "ts_df\n",
    "plt.xticks(x, labels, rotation='vertical')\n",
    "ts_df.plot()\n",
    "\n",
    "\n"
   ]
  },
  {
   "cell_type": "markdown",
   "metadata": {},
   "source": [
    "Since this plot may be a bit misleading, we will 'normalize' all expeditures to Euro, so that they are better comparible."
   ]
  },
  {
   "cell_type": "code",
   "execution_count": 758,
   "metadata": {
    "collapsed": false
   },
   "outputs": [
    {
     "data": {
      "text/plain": [
       "'<?xml version=\"1.0\" encoding=\"UTF-8\"?>\\n<gesmes:Envelope xmlns:gesmes=\"http://www.gesmes.org/xml/2002-08-01\" xmlns=\"http://www.ecb.int/vocabulary/2002-08-01/eurofxref\">\\n\\t<gesmes:subject>Reference rates</gesmes:subject>\\n\\t<gesmes:Sender>\\n\\t\\t<gesmes:name>European Central Bank</gesmes:name>\\n\\t</gesmes:Sender>\\n\\t<Cube>\\n\\t\\t<Cube time=\\'2017-03-07\\'>\\n\\t\\t\\t<Cube currency=\\'USD\\' rate=\\'1.0576\\'/>\\n\\t\\t\\t<Cube currency=\\'JPY\\' rate=\\'120.61\\'/>\\n\\t\\t\\t<Cube currency=\\'BGN\\' rate=\\'1.9558\\'/>\\n\\t\\t\\t<Cube currency=\\'CZK\\' rate=\\'27.021\\'/>\\n\\t\\t\\t<Cube currency=\\'DKK\\' rate=\\'7.4340\\'/>\\n\\t\\t\\t<Cube currency=\\'GBP\\' rate=\\'0.86710\\'/>\\n\\t\\t\\t<Cube currency=\\'HUF\\' rate=\\'309.52\\'/>\\n\\t\\t\\t<Cube currency=\\'PLN\\' rate=\\'4.3075\\'/>\\n\\t\\t\\t<Cube currency=\\'RON\\' rate=\\'4.5384\\'/>\\n\\t\\t\\t<Cube currency=\\'SEK\\' rate=\\'9.5218\\'/>\\n\\t\\t\\t<Cube currency=\\'CHF\\' rate=\\'1.0730\\'/>\\n\\t\\t\\t<Cube currency=\\'NOK\\' rate=\\'8.9443\\'/>\\n\\t\\t\\t<Cube currency=\\'HRK\\' rate=\\'7.4090\\'/>\\n\\t\\t\\t<Cube currency=\\'RUB\\' rate=\\'61.3560\\'/>\\n\\t\\t\\t<Cube currency=\\'TRY\\' rate=\\'3.8894\\'/>\\n\\t\\t\\t<Cube currency=\\'AUD\\' rate=\\'1.3920\\'/>\\n\\t\\t\\t<Cube currency=\\'BRL\\' rate=\\'3.2974\\'/>\\n\\t\\t\\t<Cube currency=\\'CAD\\' rate=\\'1.4191\\'/>\\n\\t\\t\\t<Cube currency=\\'CNY\\' rate=\\'7.2976\\'/>\\n\\t\\t\\t<Cube currency=\\'HKD\\' rate=\\'8.2120\\'/>\\n\\t\\t\\t<Cube currency=\\'IDR\\' rate=\\'14115.79\\'/>\\n\\t\\t\\t<Cube currency=\\'ILS\\' rate=\\'3.8885\\'/>\\n\\t\\t\\t<Cube currency=\\'INR\\' rate=\\'70.4700\\'/>\\n\\t\\t\\t<Cube currency=\\'KRW\\' rate=\\'1215.71\\'/>\\n\\t\\t\\t<Cube currency=\\'MXN\\' rate=\\'20.6124\\'/>\\n\\t\\t\\t<Cube currency=\\'MYR\\' rate=\\'4.7038\\'/>\\n\\t\\t\\t<Cube currency=\\'NZD\\' rate=\\'1.5153\\'/>\\n\\t\\t\\t<Cube currency=\\'PHP\\' rate=\\'53.237\\'/>\\n\\t\\t\\t<Cube currency=\\'SGD\\' rate=\\'1.4920\\'/>\\n\\t\\t\\t<Cube currency=\\'THB\\' rate=\\'37.111\\'/>\\n\\t\\t\\t<Cube currency=\\'ZAR\\' rate=\\'13.7038\\'/>\\n\\t\\t</Cube>\\n\\t</Cube>\\n</gesmes:Envelope>'"
      ]
     },
     "execution_count": 758,
     "metadata": {},
     "output_type": "execute_result"
    }
   ],
   "source": [
    "import requests\n",
    "\n",
    "\n",
    "# http://www.ecb.europa.eu/stats/policy_and_exchange_rates/euro_reference_exchange_rates/html/index.en.html#dev\n",
    "response = requests.get('http://www.ecb.europa.eu/stats/eurofxref/eurofxref-daily.xml')\n",
    "response.text"
   ]
  },
  {
   "cell_type": "code",
   "execution_count": 759,
   "metadata": {
    "collapsed": false
   },
   "outputs": [
    {
     "name": "stdout",
     "output_type": "stream",
     "text": [
      "1.0576\n",
      "7.4340\n",
      "61.3560\n",
      "7.2976\n"
     ]
    },
    {
     "data": {
      "text/plain": [
       "{'CNY': 7.2976, 'DKK': 7.434, 'RUB': 61.356, 'USD': 1.0576}"
      ]
     },
     "execution_count": 759,
     "metadata": {},
     "output_type": "execute_result"
    }
   ],
   "source": [
    "from bs4 import BeautifulSoup\n",
    "\n",
    "\n",
    "xml = BeautifulSoup(response.text)\n",
    "rate_list = xml.cube.cube.findAll(\"cube\") # [0]['rate']\n",
    "\n",
    "currency = ['USD', 'DKK', 'RUB', 'CNY']\n",
    "rate_dict = dict.fromkeys(currency)\n",
    "for r in rate_list:\n",
    "    if r['currency'] in currency:\n",
    "        rate_dict[r['currency']] = float(r['rate'])\n",
    "        print(r['rate'])\n",
    "rate_dict"
   ]
  },
  {
   "cell_type": "code",
   "execution_count": 760,
   "metadata": {
    "collapsed": false
   },
   "outputs": [
    {
     "data": {
      "text/plain": [
       "<matplotlib.axes.AxesSubplot at 0x7fe1b2b1ba90>"
      ]
     },
     "execution_count": 760,
     "metadata": {},
     "output_type": "execute_result"
    },
    {
     "data": {
      "image/png": "[encoded data removed]",
      "text/plain": [
       "<matplotlib.figure.Figure at 0x7fe1b2b0fe48>"
      ]
     },
     "metadata": {},
     "output_type": "display_data"
    }
   ],
   "source": [
    "ts_df['DNK'] = ts_df['DNK'] / rate_dict['DKK']\n",
    "ts_df['USA'] = ts_df['USA'] / rate_dict['USD']\n",
    "ts_df['CHN'] = ts_df['CHN'] / rate_dict['CNY']\n",
    "ts_df['RUS'] = ts_df['RUS'] / rate_dict['RUB']\n",
    "ts_df.plot()"
   ]
  },
  {
   "cell_type": "markdown",
   "metadata": {},
   "source": [
    "**OBS!!!** Be careful, the graph above is still not really well suited for comparison as currency exchange rates are not fix. However, the code above normalizes just relying on the most current exchange rate from the European Central Bank. See the exercise block in the bottom for how to fix that isuue!"
   ]
  },
  {
   "cell_type": "code",
   "execution_count": 761,
   "metadata": {
    "collapsed": false
   },
   "outputs": [
    {
     "data": {
      "text/plain": [
       "1987             NaN\n",
       "1988    2.771303e+11\n",
       "1989    2.875236e+11\n",
       "1990    2.894951e+11\n",
       "1991    2.650265e+11\n",
       "1992    2.885221e+11\n",
       "1993    2.814268e+11\n",
       "1994    2.723705e+11\n",
       "1995    2.636687e+11\n",
       "1996    2.566348e+11\n",
       "1997    2.612755e+11\n",
       "1998    2.593400e+11\n",
       "1999    2.656666e+11\n",
       "2000    2.852657e+11\n",
       "2001    2.957101e+11\n",
       "2002    3.372920e+11\n",
       "2003    3.926087e+11\n",
       "2004    4.393684e+11\n",
       "2005    4.759389e+11\n",
       "2006    4.989221e+11\n",
       "2007    5.266273e+11\n",
       "2008    5.873024e+11\n",
       "2009    6.321549e+11\n",
       "2010    6.601551e+11\n",
       "2011    6.725964e+11\n",
       "2012    6.474849e+11\n",
       "2013    6.048638e+11\n",
       "2014    5.766963e+11\n",
       "2015    5.635628e+11\n",
       "2016             NaN\n",
       "Name: USA, dtype: float64"
      ]
     },
     "execution_count": 761,
     "metadata": {},
     "output_type": "execute_result"
    }
   ],
   "source": [
    "ts_df['USA']"
   ]
  },
  {
   "cell_type": "code",
   "execution_count": 762,
   "metadata": {
    "collapsed": false
   },
   "outputs": [
    {
     "data": {
      "text/plain": [
       "531260800000.0"
      ]
     },
     "execution_count": 762,
     "metadata": {},
     "output_type": "execute_result"
    }
   ],
   "source": [
    "5.312608e+11"
   ]
  },
  {
   "cell_type": "code",
   "execution_count": 763,
   "metadata": {
    "collapsed": false
   },
   "outputs": [
    {
     "data": {
      "text/plain": [
       "563562783661.11951"
      ]
     },
     "execution_count": 763,
     "metadata": {},
     "output_type": "execute_result"
    }
   ],
   "source": [
    "ts_df['USA'].loc['2015']"
   ]
  },
  {
   "cell_type": "code",
   "execution_count": 764,
   "metadata": {
    "collapsed": false
   },
   "outputs": [
    {
     "name": "stdout",
     "output_type": "stream",
     "text": [
      "563562783661.0\n",
      " 183270565361.0\n"
     ]
    },
    {
     "data": {
      "text/plain": [
       "3.0750316208720281"
      ]
     },
     "execution_count": 764,
     "metadata": {},
     "output_type": "execute_result"
    }
   ],
   "source": [
    "print(ts_df['USA'].loc['2015'])\n",
    "print(' ' + str(ts_df['CHN'].loc['2015']))\n",
    "ts_df['USA'].loc['2015'] / ts_df['CHN'].loc['2015']"
   ]
  },
  {
   "cell_type": "code",
   "execution_count": 765,
   "metadata": {
    "collapsed": false
   },
   "outputs": [
    {
     "data": {
      "text/html": [
       "\n",
       "        <iframe\n",
       "            width=\"700\"\n",
       "            height=\"400\"\n",
       "            src=\"https://www.washingtonpost.com/world/as-trump-pushes-for-bigger-us-defense-budget-china-slows-growth-rate-of-its-military-spending/2017/03/04/ace6105c-0094-11e7-a51a-e16b4bcc6644_story.html?utm_term=.85d4943cb972\"\n",
       "            frameborder=\"0\"\n",
       "            allowfullscreen\n",
       "        ></iframe>\n",
       "        "
      ],
      "text/plain": [
       "<IPython.lib.display.IFrame at 0x7fe1b2d15c18>"
      ]
     },
     "execution_count": 765,
     "metadata": {},
     "output_type": "execute_result"
    }
   ],
   "source": [
    "from IPython.display import IFrame\n",
    "\n",
    "news_url = 'https://www.washingtonpost.com/world/as-trump-pushes-for-bigger-us-defense-budget-china-slows-growth-rate-of-its-military-spending/2017/03/04/ace6105c-0094-11e7-a51a-e16b4bcc6644_story.html?utm_term=.85d4943cb972'\n",
    "IFrame(news_url, width=700, height=400)"
   ]
  },
  {
   "cell_type": "code",
   "execution_count": 766,
   "metadata": {
    "collapsed": false
   },
   "outputs": [
    {
     "data": {
      "text/html": [
       "\n",
       "        <iframe\n",
       "            width=\"700\"\n",
       "            height=\"400\"\n",
       "            src=\"http://www.nbcnews.com/news/world/china-raise-defense-spending-trump-seeks-boost-u-s-s-n729051\"\n",
       "            frameborder=\"0\"\n",
       "            allowfullscreen\n",
       "        ></iframe>\n",
       "        "
      ],
      "text/plain": [
       "<IPython.lib.display.IFrame at 0x7fe1b2d150f0>"
      ]
     },
     "execution_count": 766,
     "metadata": {},
     "output_type": "execute_result"
    }
   ],
   "source": [
    "from IPython.display import IFrame\n",
    "\n",
    "news_url = 'http://www.nbcnews.com/news/world/china-raise-defense-spending-trump-seeks-boost-u-s-s-n729051'\n",
    "IFrame(news_url, width=700, height=400)"
   ]
  },
  {
   "cell_type": "markdown",
   "metadata": {},
   "source": [
    "The data that we analyzed above together with the latest news and announcements sound at least concerning..."
   ]
  },
  {
   "cell_type": "code",
   "execution_count": 767,
   "metadata": {
    "collapsed": false
   },
   "outputs": [
    {
     "data": {
      "image/jpeg": "[encoded data removed]",
      "text/html": [
       "\n",
       "        <iframe\n",
       "            width=\"400\"\n",
       "            height=\"300\"\n",
       "            src=\"https://www.youtube.com/embed/0rwNo9CCW9k?start=6&autoplay=1\"\n",
       "            frameborder=\"0\"\n",
       "            allowfullscreen\n",
       "        ></iframe>\n",
       "        "
      ],
      "text/plain": [
       "<IPython.lib.display.YouTubeVideo at 0x7fe1b2acb438>"
      ]
     },
     "execution_count": 767,
     "metadata": {},
     "output_type": "execute_result"
    }
   ],
   "source": [
    "from datetime import timedelta\n",
    "from IPython.display import YouTubeVideo\n",
    "\n",
    "\n",
    "# news_url = 'http://edition.cnn.com/videos/politics/2017/02/27/donald-trump-addresses-governors-win-war.cnn'\n",
    "# url = 'https://www.youtube.com/watch?v=0rwNo9CCW9k\n",
    "\n",
    "start = int(timedelta(seconds=4).total_seconds())\n",
    "YouTubeVideo('0rwNo9CCW9k', start=6, autoplay=0)"
   ]
  },
  {
   "cell_type": "markdown",
   "metadata": {},
   "source": [
    "# Exercises for the Interested\n",
    "\n",
    "  * Complete the comparison of military expenditures by converting all currencies to USD. Since we have yearly expenditures, use for example the yearly median for normalization. Likely, you will find an API to collect historical echange rates at Yahoo Finance.\n",
    "  \n",
    "  https://developer.yahoo.com/yql/console/?q=show%20tables&env=store://datatables.org/alltableswithkeys#h=select+*+from+yahoo.finance.historicaldata+where+symbol+%3D+%22RUB%3DX%22+and+startDate+%3D+%222010-01-01%22+and+endDate+%3D+%222011-01-01%22"
   ]
  },
  {
   "cell_type": "markdown",
   "metadata": {},
   "source": [
    "## PS\n",
    "\n",
    "In case you have to sort the data in your `DataFrames` see the methods `sort_index` and `sort_values`.\n",
    "\n",
    "\n",
    "```python\n",
    "df.sort_index(axis=1, ascending=True)\n",
    "df.sort_values(by='Country Code')\n",
    "```"
   ]
  },
  {
   "cell_type": "code",
   "execution_count": null,
   "metadata": {
    "collapsed": true
   },
   "outputs": [],
   "source": [
    "df.sort_index?"
   ]
  },
  {
   "cell_type": "code",
   "execution_count": null,
   "metadata": {
    "collapsed": true
   },
   "outputs": [],
   "source": [
    "df.sort_values?"
   ]
  },
  {
   "cell_type": "markdown",
   "metadata": {},
   "source": [
    "### The Study Point Exercises!!!\n",
    "\n",
    "Group *Jealous Secretary* presents their tasks on analyzing data on homocides in US: https://github.com/cph-al/pythonDataset/blob/master/README.md\n",
    "\n",
    "\n",
    "\n",
    "## Hand-in Guidelines\n",
    "How is your hand-in expected to look like?\n",
    "\n",
    "  * You push the source code computing your solutions to a repository on Github.\n",
    "  * You create a README.md file that presents your solution, each result per questions, and it explains how to run your code to reproduce your results.\n",
    "  * Inform Helge when you are done. At latest at 24:00 the March 14th.\n",
    "  * You prepare a short (max. 10 minutes) presentation for the next session, so that the other students know what you have done and how you tackled the problem. Furthermore, based on this presentation group *Jealous Secretary* will choose the winner of this round."
   ]
  },
  {
   "cell_type": "code",
   "execution_count": null,
   "metadata": {
    "collapsed": true
   },
   "outputs": [],
   "source": []
  }
 ],
 "metadata": {
  "kernelspec": {
   "display_name": "Python 3",
   "language": "python",
   "name": "python3"
  },
  "language_info": {
   "codemirror_mode": {
    "name": "ipython",
    "version": 3
   },
   "file_extension": ".py",
   "mimetype": "text/x-python",
   "name": "python",
   "nbconvert_exporter": "python",
   "pygments_lexer": "ipython3",
   "version": "3.4.3"
  }
 },
 "nbformat": 4,
 "nbformat_minor": 2
}
